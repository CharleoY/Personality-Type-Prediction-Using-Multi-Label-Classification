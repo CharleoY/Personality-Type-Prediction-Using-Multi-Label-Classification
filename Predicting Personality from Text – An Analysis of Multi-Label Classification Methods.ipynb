{
 "cells": [
  {
   "cell_type": "markdown",
   "metadata": {
    "colab_type": "text",
    "id": "_sQF1TzZ-ezH"
   },
   "source": [
    "# Predicting Personality from Text – An Analysis of Multi-Label Classification Methods"
   ]
  },
  {
   "cell_type": "markdown",
   "metadata": {
    "colab_type": "text",
    "id": "hPJimZ1q-ezJ"
   },
   "source": [
    "## Background"
   ]
  },
  {
   "cell_type": "markdown",
   "metadata": {
    "colab_type": "text",
    "id": "aLdy34_6-ezK"
   },
   "source": [
    "Carl Jung, founder of the field of analytical psychology, formulated a personality theory aiming to categorize people based on how they process information. He identified two types of cognitive functions: two perception functions known as sensation and intuition, and two judgement functions known as thinking and feeling. The functions within each pair are considered to be opposites of each other. \n",
    "\n",
    "<img src=\"cognitive_functions_diagram.png\"  alt=\"drawing\" width=\"325\"/>\n",
    "\n",
    "Additionally, these four functions operate in conjunction with either an introverted or extroverted attitude. This results in eight functional variations, or personality types: extroverted sensing (Se), introverted sensing(Si), extroverted intuition (Ne), introverted intuition (Ni), extroverted feeling (Fe), introverted feeling (Fi), extroverted thinking (Te), and introverted thinking (Ti). \n",
    "\n",
    "All four cognitive functions are used at different times depending on the circumstances. However, one of the four functions tend to be used more frequently than the other three in a more conscious and confident way. This dominant function is supported by two auxiliary functions. The dominant and first auxiliary are referred to as the two primary cognitive functions, and are of different cognitive function type: for example, if the dominant function is a judging type, then the first auxillary will be a perceiving type and vice versa. The fourth and least conscious function, often referred to as the inferior function, is always the opposite of the dominant function in terms of cognitive function and attitude. For example, an extroverted thinking dominant function would be balanced by an introverted feeling inferior function. Jung theorized that the dominant function characterizes conscious behavior, while the inferior function is repressed and characterizes unconscious behavior.\n",
    "\n",
    "Jung's personality theory formed the basis of the Myers-Briggs Type Indicator (MBTI) which is a widely used method of self-categorization of personality type through an introspective questionnaire. The relationships between MBTI type and Jungian cognitive functions are shown below. Primary cognitive functions are highlighted in green.\n",
    "\n",
    "<br>\n",
    "<center>INTP = <font color='green'>Ti > Ne</font> > Si > Fe <br></center>\n",
    "<center>ISTP = <font color='green'>Ti > Se</font> > Ni > Fe <br></center>\n",
    "<center>ENTP = <font color='green'>Ne > Ti</font> > Fe > Si <br></center>\n",
    "<center>ENFP = <font color='green'>Ne > Fi</font> > Te > Si <br></center>\n",
    "<center>ISFP = <font color='green'>Fi > Se</font> > Ni > Te <br></center>\n",
    "<center>INFP = <font color='green'>Fi > Ne</font> > Si > Te <br></center>\n",
    "<center>INTJ = <font color='green'>Ni > Te</font> > Fi > Se <br></center>\n",
    "<center>INFJ = <font color='green'>Ni > Fe</font> > Ti > Se <br></center>\n",
    "<center>ESTJ = <font color='green'>Te > Si</font> > Ne > Fi <br></center>\n",
    "<center>ENTJ = <font color='green'>Te > Ni</font> > Se > Fi <br></center>\n",
    "<center>ESFJ = <font color='green'>Fe > Si</font> > Ne > Ti <br></center>\n",
    "<center>ENFJ = <font color='green'>Fe > Ni</font> > Se > Ti <br></center>\n",
    "<center>ISTJ = <font color='green'>Si > Te</font> > Fi > Ne <br></center>\n",
    "<center>ISFJ = <font color='green'>Si > Fe</font> > Ti > Ne <br></center>\n",
    "<center>ESTP = <font color='green'>Se > Ti</font> > Fe > Ni <br></center>\n",
    "<center>ESFP = <font color='green'>Se > Fi</font> > Te > Ni <br></center>\n",
    "\n"
   ]
  },
  {
   "cell_type": "markdown",
   "metadata": {
    "colab_type": "text",
    "id": "Hl6xbayQ-ezL"
   },
   "source": [
    "## Objective\n",
    "\n",
    "The objective is to develop a machine learning model which can can accurately predict a person's two primary cognitive functions based off of what they have written. In doing so, the following multi-label classification techniques are implemented and compared: \n",
    "\n",
    "<ol start=\"1\">\n",
    "  <li><b>Problem transformation, algorithm adaptation, and ensemble approaches</b></li>\n",
    " \n",
    "  <ol type=\"a\">\n",
    "  <li>Problem transformation approaches</li>\n",
    "    <ol type=\"disc\">\n",
    "      <li>Binary relevance</li>\n",
    "      <li>Classifier chain</li>\n",
    "      <li>Label powerset</li>\n",
    "    </ol>\n",
    "  <li>Algorithm adaptation approaches</li>\n",
    "    <ol type=\"disc\">\n",
    "        <li>Multi-label k-nearest neighbors (MLkNN)</li> \n",
    "        <li>Multi-label hierarchical ARAM neural network (MLARAM)</li>  \n",
    "    </ol>\n",
    "  <li>Ensembles of classifiers</li>\n",
    "    <ul type=\"disc\">\n",
    "        <li>Random label space partitioning with label powerset (RAkELd)</li>  \n",
    "    </ul>\n",
    "  </ol>\n",
    "  <li><b>Neural networks using Keras</b></li>\n",
    "    <ol type=\"disc\">\n",
    "      <li>Long short-term memory networks (LSTM)</li>\n",
    "      <li>1D convolutional neural networks (CNN)</li>\n",
    "    </ol>\n",
    "  <li><b>Bidirectional Encoder Representations from Transformers (BERT)</b></li>\n",
    "  </ol>\n",
    "\n",
    "The [dataset](https://data.world/just4jcgeorge/myers-briggs-personality-type-test-dataset) used contains a large selection of people's MBTI personality types and text they have written on a forum called Personality Cafe: a community dedicated to discussion about personality types.\n",
    "\n",
    "\n"
   ]
  },
  {
   "cell_type": "markdown",
   "metadata": {
    "colab_type": "text",
    "id": "5JLLm3C42kF-"
   },
   "source": [
    "## Import Libraries <a class=\"anchor\" id=\"import-libraries\"></a>"
   ]
  },
  {
   "cell_type": "code",
   "execution_count": 73,
   "metadata": {
    "colab": {
     "base_uri": "https://localhost:8080/",
     "height": 372
    },
    "colab_type": "code",
    "id": "DCGeaaMXXETv",
    "outputId": "4069cb92-3c40-4cbc-c7dd-ccc3d505e27b"
   },
   "outputs": [
    {
     "name": "stdout",
     "output_type": "stream",
     "text": [
      "Requirement already satisfied: transformers in /usr/local/lib/python3.6/dist-packages (3.0.2)\n",
      "Requirement already satisfied: dataclasses; python_version < \"3.7\" in /usr/local/lib/python3.6/dist-packages (from transformers) (0.7)\n",
      "Requirement already satisfied: tokenizers==0.8.1.rc1 in /usr/local/lib/python3.6/dist-packages (from transformers) (0.8.1rc1)\n",
      "Requirement already satisfied: requests in /usr/local/lib/python3.6/dist-packages (from transformers) (2.23.0)\n",
      "Requirement already satisfied: packaging in /usr/local/lib/python3.6/dist-packages (from transformers) (20.4)\n",
      "Requirement already satisfied: sacremoses in /usr/local/lib/python3.6/dist-packages (from transformers) (0.0.43)\n",
      "Requirement already satisfied: filelock in /usr/local/lib/python3.6/dist-packages (from transformers) (3.0.12)\n",
      "Requirement already satisfied: sentencepiece!=0.1.92 in /usr/local/lib/python3.6/dist-packages (from transformers) (0.1.91)\n",
      "Requirement already satisfied: regex!=2019.12.17 in /usr/local/lib/python3.6/dist-packages (from transformers) (2019.12.20)\n",
      "Requirement already satisfied: tqdm>=4.27 in /usr/local/lib/python3.6/dist-packages (from transformers) (4.41.1)\n",
      "Requirement already satisfied: numpy in /usr/local/lib/python3.6/dist-packages (from transformers) (1.18.5)\n",
      "Requirement already satisfied: chardet<4,>=3.0.2 in /usr/local/lib/python3.6/dist-packages (from requests->transformers) (3.0.4)\n",
      "Requirement already satisfied: certifi>=2017.4.17 in /usr/local/lib/python3.6/dist-packages (from requests->transformers) (2020.6.20)\n",
      "Requirement already satisfied: urllib3!=1.25.0,!=1.25.1,<1.26,>=1.21.1 in /usr/local/lib/python3.6/dist-packages (from requests->transformers) (1.24.3)\n",
      "Requirement already satisfied: idna<3,>=2.5 in /usr/local/lib/python3.6/dist-packages (from requests->transformers) (2.9)\n",
      "Requirement already satisfied: pyparsing>=2.0.2 in /usr/local/lib/python3.6/dist-packages (from packaging->transformers) (2.4.7)\n",
      "Requirement already satisfied: six in /usr/local/lib/python3.6/dist-packages (from packaging->transformers) (1.12.0)\n",
      "Requirement already satisfied: joblib in /usr/local/lib/python3.6/dist-packages (from sacremoses->transformers) (0.15.1)\n",
      "Requirement already satisfied: click in /usr/local/lib/python3.6/dist-packages (from sacremoses->transformers) (7.1.2)\n"
     ]
    }
   ],
   "source": [
    "import pandas as pd\n",
    "import numpy as np\n",
    "import matplotlib.pyplot as plt\n",
    "import sklearn\n",
    "import logging\n",
    "import warnings\n",
    "warnings.filterwarnings('ignore')\n",
    "from matplotlib.pyplot import figure\n",
    "import torch\n",
    "\n",
    "# Problem transformation, algorithm adaptation, and ensemble approaches\n",
    "!pip install -q scikit-multilearn\n",
    "from skmultilearn.problem_transform import LabelPowerset\n",
    "from imblearn.over_sampling import RandomOverSampler\n",
    "from sklearn.model_selection import train_test_split\n",
    "from sklearn.linear_model import LogisticRegression\n",
    "from sklearn.naive_bayes import MultinomialNB, GaussianNB\n",
    "from sklearn.model_selection import KFold, GridSearchCV\n",
    "from sklearn.metrics import f1_score, accuracy_score, classification_report\n",
    "from skmultilearn.problem_transform import BinaryRelevance, ClassifierChain, LabelPowerset\n",
    "from skmultilearn.ensemble import RakelD, RakelO\n",
    "from skmultilearn.adapt import MLkNN, MLARAM\n",
    "\n",
    "# Neural networks using Keras\n",
    "import tensorflow as tf\n",
    "from tensorflow import keras\n",
    "from tensorflow.keras.models import Sequential, Model\n",
    "from tensorflow.keras.layers import Dropout, GlobalMaxPool1D, Dense, Activation, Conv1D\n",
    "from tensorflow.keras.callbacks import ReduceLROnPlateau, EarlyStopping, ModelCheckpoint\n",
    "from tensorflow.keras.optimizers import Adam\n",
    "from tensorflow.keras.metrics import categorical_crossentropy\n",
    "from keras.constraints import max_norm, unit_norm\n",
    "\n",
    "# BERT\n",
    "!pip install transformers\n",
    "from transformers import *\n",
    "from torch.utils.data import TensorDataset, DataLoader, RandomSampler, SequentialSampler\n",
    "from tqdm import tqdm, trange\n",
    "from torch.nn import BCEWithLogitsLoss, BCELoss\n"
   ]
  },
  {
   "cell_type": "code",
   "execution_count": 75,
   "metadata": {
    "colab": {
     "base_uri": "https://localhost:8080/",
     "height": 55
    },
    "colab_type": "code",
    "id": "A4BrjplRg0QR",
    "outputId": "252f6093-6620-4cc2-ba7b-f8f786a9dd92"
   },
   "outputs": [
    {
     "name": "stdout",
     "output_type": "stream",
     "text": [
      "Mounted at drive\n"
     ]
    }
   ],
   "source": [
    "from google.colab import drive\n",
    "drive.mount('drive', force_remount=True)"
   ]
  },
  {
   "cell_type": "code",
   "execution_count": 5,
   "metadata": {
    "colab": {
     "base_uri": "https://localhost:8080/",
     "height": 55
    },
    "colab_type": "code",
    "id": "L29SXl6cRt52",
    "outputId": "5a4a718d-daea-4fc1-c8de-0d3ad681e7fc"
   },
   "outputs": [
    {
     "name": "stdout",
     "output_type": "stream",
     "text": [
      "Found GPU at: /device:GPU:0\n"
     ]
    }
   ],
   "source": [
    "device_name = tf.test.gpu_device_name()\n",
    "if device_name != '/device:GPU:0':\n",
    "  raise SystemError('GPU device not found')\n",
    "print('Found GPU at: {}'.format(device_name))"
   ]
  },
  {
   "cell_type": "code",
   "execution_count": 4,
   "metadata": {
    "colab": {
     "base_uri": "https://localhost:8080/",
     "height": 57
    },
    "colab_type": "code",
    "id": "sSFuKI0xFwsI",
    "outputId": "6e90e539-dc92-4655-9e4e-88a9eff35a2a"
   },
   "outputs": [
    {
     "data": {
      "application/vnd.google.colaboratory.intrinsic": {
       "type": "string"
      },
      "text/plain": [
       "'Tesla P100-PCIE-16GB'"
      ]
     },
     "execution_count": 4,
     "metadata": {
      "tags": []
     },
     "output_type": "execute_result"
    }
   ],
   "source": [
    "device = torch.device(\"cuda\" if torch.cuda.is_available() else \"cpu\")\n",
    "n_gpu = torch.cuda.device_count()\n",
    "torch.cuda.get_device_name(0)"
   ]
  },
  {
   "cell_type": "markdown",
   "metadata": {
    "colab_type": "text",
    "id": "-JkwuqaY-ezU"
   },
   "source": [
    "## Load and Preprocess the Data <a class=\"anchor\" id=\"load-preprocess\"></a>"
   ]
  },
  {
   "cell_type": "markdown",
   "metadata": {
    "colab_type": "text",
    "id": "hz1uAZyH-ezZ"
   },
   "source": [
    "The dataset consists of 8675 rows and 2 columns. Each row provides a user's MBTI type and their last 50 posts with each entry separated by three pipe characters."
   ]
  },
  {
   "cell_type": "code",
   "execution_count": 6,
   "metadata": {
    "colab": {
     "base_uri": "https://localhost:8080/",
     "height": 245
    },
    "colab_type": "code",
    "id": "a-jOmfbSPUpx",
    "outputId": "9c81e24e-00f6-4552-a05b-61d1580705a6"
   },
   "outputs": [
    {
     "name": "stdout",
     "output_type": "stream",
     "text": [
      "(8675, 2)\n"
     ]
    },
    {
     "data": {
      "text/html": [
       "<div>\n",
       "<style scoped>\n",
       "    .dataframe tbody tr th:only-of-type {\n",
       "        vertical-align: middle;\n",
       "    }\n",
       "\n",
       "    .dataframe tbody tr th {\n",
       "        vertical-align: top;\n",
       "    }\n",
       "\n",
       "    .dataframe thead th {\n",
       "        text-align: right;\n",
       "    }\n",
       "</style>\n",
       "<table border=\"1\" class=\"dataframe\">\n",
       "  <thead>\n",
       "    <tr style=\"text-align: right;\">\n",
       "      <th></th>\n",
       "      <th>type</th>\n",
       "      <th>posts</th>\n",
       "    </tr>\n",
       "  </thead>\n",
       "  <tbody>\n",
       "    <tr>\n",
       "      <th>0</th>\n",
       "      <td>INFJ</td>\n",
       "      <td>'http://www.youtube.com/watch?v=qsXHcwe3krw|||...</td>\n",
       "    </tr>\n",
       "    <tr>\n",
       "      <th>1</th>\n",
       "      <td>ENTP</td>\n",
       "      <td>'I'm finding the lack of me in these posts ver...</td>\n",
       "    </tr>\n",
       "    <tr>\n",
       "      <th>2</th>\n",
       "      <td>INTP</td>\n",
       "      <td>'Good one  _____   https://www.youtube.com/wat...</td>\n",
       "    </tr>\n",
       "    <tr>\n",
       "      <th>3</th>\n",
       "      <td>INTJ</td>\n",
       "      <td>'Dear INTP,   I enjoyed our conversation the o...</td>\n",
       "    </tr>\n",
       "    <tr>\n",
       "      <th>4</th>\n",
       "      <td>ENTJ</td>\n",
       "      <td>'You're fired.|||That's another silly misconce...</td>\n",
       "    </tr>\n",
       "  </tbody>\n",
       "</table>\n",
       "</div>"
      ],
      "text/plain": [
       "   type                                              posts\n",
       "0  INFJ  'http://www.youtube.com/watch?v=qsXHcwe3krw|||...\n",
       "1  ENTP  'I'm finding the lack of me in these posts ver...\n",
       "2  INTP  'Good one  _____   https://www.youtube.com/wat...\n",
       "3  INTJ  'Dear INTP,   I enjoyed our conversation the o...\n",
       "4  ENTJ  'You're fired.|||That's another silly misconce..."
      ]
     },
     "execution_count": 6,
     "metadata": {
      "tags": []
     },
     "output_type": "execute_result"
    }
   ],
   "source": [
    "df = pd.read_csv('drive/My Drive/mbti_1.csv')\n",
    "print(df.shape)\n",
    "df.head()"
   ]
  },
  {
   "cell_type": "markdown",
   "metadata": {
    "colab_type": "text",
    "id": "-RZzXM0m-e0B"
   },
   "source": [
    "### Clean dataset"
   ]
  },
  {
   "cell_type": "code",
   "execution_count": 7,
   "metadata": {
    "colab": {},
    "colab_type": "code",
    "id": "uJIPSTXk-e0F",
    "scrolled": true
   },
   "outputs": [],
   "source": [
    "def remove_pipe_characters(df):   \n",
    "    posts_pipes_removed = [] \n",
    "\n",
    "    for row in df.iterrows():\n",
    "        split_row = df['posts'][row[0]].split('|||')\n",
    "        posts_pipes_removed.append(' '.join(split_row))\n",
    "    \n",
    "    df['posts'] = posts_pipes_removed\n",
    "    \n",
    "\n",
    "remove_pipe_characters(df)"
   ]
  },
  {
   "cell_type": "markdown",
   "metadata": {
    "colab_type": "text",
    "id": "_su3Obrd-e0K"
   },
   "source": [
    "The goal is to create a model that can be used on text outside of a personality forum like Personality Cafe. Here we remove words which explicitly relate to personality theory since they may introduce some bias in our models. For example, people who write \"Fi\" are more likely to possess the Fi cognitive function. \n"
   ]
  },
  {
   "cell_type": "code",
   "execution_count": 8,
   "metadata": {
    "colab": {},
    "colab_type": "code",
    "id": "6NKXiJM6vXvy"
   },
   "outputs": [],
   "source": [
    "to_remove = ['mbti','infps','infjs','isfps','isfjs','enfps','enfjs','entjs','intjs','estps','estjs','istps','istjs', 'infp','infj','intp','intj','entp','enfp','entj','enfj','isfp','isfj','esfj','esfp','estj','estp','istp','istj','fi','fe','ti','te','si','se','ni','ne']\n",
    "\n",
    "def remove_personality_words(df):\n",
    "  personality_words_removed = []\n",
    "\n",
    "  for post in df.posts:\n",
    "    split_post = post.split()\n",
    "    edited_post = [word for word in split_post if word.lower() not in to_remove]\n",
    "    edited_post = ' '.join(edited_post)\n",
    "    personality_words_removed.append(edited_post)\n",
    "  \n",
    "  df['posts'] = personality_words_removed\n",
    "\n",
    "remove_personality_words(df)\n"
   ]
  },
  {
   "cell_type": "markdown",
   "metadata": {
    "colab_type": "text",
    "id": "CnqxKbHp-ezd"
   },
   "source": [
    "### Initial distribution of cognitive functions"
   ]
  },
  {
   "cell_type": "code",
   "execution_count": 9,
   "metadata": {
    "colab": {},
    "colab_type": "code",
    "id": "Gl5Hp_XRNDl8"
   },
   "outputs": [],
   "source": [
    "# Shuffle the dataset\n",
    "df = df.sample(frac=1).reset_index(drop=True)\n",
    "\n",
    "df[\"Ne\"] = [1 if x[-1] == 'P' and x[1] == 'N' else 0 for x in df.iloc[:,0]]\n",
    "df[\"Ni\"] = [1 if x[-1] == 'J' and x[1] == 'N' else 0 for x in df.iloc[:,0]]\n",
    "df[\"Se\"] = [1 if x[-1] == 'P' and x[1] == 'S' else 0 for x in df.iloc[:,0]]\n",
    "df[\"Si\"] = [1 if x[-1] == 'J' and x[1] == 'S' else 0 for x in df.iloc[:,0]]\n",
    "df[\"Fi\"] = [1 if x[-1] == 'P' and x[2] == 'F' else 0 for x in df.iloc[:,0]]\n",
    "df[\"Fe\"] = [1 if x[-1] == 'J' and x[2] == 'F' else 0 for x in df.iloc[:,0]]\n",
    "df[\"Ti\"] = [1 if x[-1] == 'P' and x[2] == 'T' else 0 for x in df.iloc[:,0]]\n",
    "df[\"Te\"] = [1 if x[-1] == 'J' and x[2] == 'T' else 0 for x in df.iloc[:,0]]\n",
    "df = df.drop(columns=['type'])"
   ]
  },
  {
   "cell_type": "code",
   "execution_count": 10,
   "metadata": {
    "colab": {
     "base_uri": "https://localhost:8080/",
     "height": 332
    },
    "colab_type": "code",
    "id": "YjSfkrSGWmFp",
    "outputId": "75d773c4-a42c-4f22-f03a-47a4eec166b4"
   },
   "outputs": [
    {
     "data": {
      "text/plain": [
       "Text(0, 0.5, 'Count')"
      ]
     },
     "execution_count": 10,
     "metadata": {
      "tags": []
     },
     "output_type": "execute_result"
    },
    {
     "data": {
      "image/png": "[encoded data removed]",
      "text/plain": [
       "<Figure size 432x288 with 1 Axes>"
      ]
     },
     "metadata": {
      "needs_background": "light",
      "tags": []
     },
     "output_type": "display_data"
    }
   ],
   "source": [
    "cols = df.columns\n",
    "label_cols = list(cols[1:10])\n",
    "\n",
    "plt.bar(label_cols,df[label_cols].sum())\n",
    "plt.title(\"Initial Distribution of Cognitive Functions\")\n",
    "plt.xlabel(\"Cognitive Functions\")\n",
    "plt.ylabel(\"Count\")"
   ]
  },
  {
   "cell_type": "markdown",
   "metadata": {
    "colab_type": "text",
    "id": "7mVZt6RpX5bp"
   },
   "source": [
    "Since class imbalance can diminish the performance of our models, it is favorable to randomly resample the data in order to obtain a more balanced distribution. Here we will accomplish that using random oversampling."
   ]
  },
  {
   "cell_type": "markdown",
   "metadata": {
    "colab_type": "text",
    "id": "gkZyD2mLl9so"
   },
   "source": [
    "### Random oversampling "
   ]
  },
  {
   "cell_type": "markdown",
   "metadata": {
    "colab_type": "text",
    "id": "Sl6SwgB7cH5Q"
   },
   "source": [
    "First, we tokenize the dataset for use in RandomOverSampler and our models later on:"
   ]
  },
  {
   "cell_type": "code",
   "execution_count": 11,
   "metadata": {
    "colab": {
     "base_uri": "https://localhost:8080/",
     "height": 87,
     "referenced_widgets": [
      "420de59dc5884b22ab896cafaa915c2a",
      "2342b81815f14c09b0f9da6a7ad18065",
      "4ef76e25bde049748bd87c6e6d008fb1",
      "60dc985c51834f3389872c7af578a933",
      "16783d3fea394fe2ba5c26c075fc3048",
      "d83c3cc9a05242448dfc6a3e02cb8a5f",
      "ee2ef92d81104c68a655f39652c99dbb",
      "df5505d129884a929bcb960655748c2c"
     ]
    },
    "colab_type": "code",
    "id": "ZDtrJs082Vg1",
    "outputId": "77aa2a25-25e6-4e0b-b484-29fc87413566"
   },
   "outputs": [
    {
     "data": {
      "application/vnd.jupyter.widget-view+json": {
       "model_id": "420de59dc5884b22ab896cafaa915c2a",
       "version_major": 2,
       "version_minor": 0
      },
      "text/plain": [
       "HBox(children=(FloatProgress(value=0.0, description='Downloading', max=231508.0, style=ProgressStyle(descripti…"
      ]
     },
     "metadata": {
      "tags": []
     },
     "output_type": "display_data"
    },
    {
     "name": "stdout",
     "output_type": "stream",
     "text": [
      "\n"
     ]
    }
   ],
   "source": [
    "logging.basicConfig(level=logging.ERROR)\n",
    "\n",
    "X = list(df.posts.values)\n",
    "\n",
    "max_length = 100\n",
    "\n",
    "tokenizer = BertTokenizer.from_pretrained('bert-base-uncased', do_lower_case=True) # tokenizer\n",
    "encodings = tokenizer.batch_encode_plus(X, max_length=max_length,pad_to_max_length=True) # tokenizer's encoding method\n",
    "\n"
   ]
  },
  {
   "cell_type": "code",
   "execution_count": 12,
   "metadata": {
    "colab": {},
    "colab_type": "code",
    "id": "GRkDxogVaO50"
   },
   "outputs": [],
   "source": [
    "X = np.array(encodings['input_ids'])\n",
    "y = df[label_cols].to_numpy()"
   ]
  },
  {
   "cell_type": "code",
   "execution_count": 13,
   "metadata": {
    "colab": {},
    "colab_type": "code",
    "id": "yAXRps-x43Jx"
   },
   "outputs": [],
   "source": [
    "lp = LabelPowerset()\n",
    "ros = RandomOverSampler(random_state=42)\n",
    "\n",
    "y = lp.transform(y)\n",
    "\n",
    "X, y = ros.fit_sample(X, y)"
   ]
  },
  {
   "cell_type": "code",
   "execution_count": 14,
   "metadata": {
    "colab": {
     "base_uri": "https://localhost:8080/",
     "height": 55
    },
    "colab_type": "code",
    "id": "UKnDWUZwaTIR",
    "outputId": "c9c7f6b8-95ca-4b2c-b9e4-34ee05034e9d"
   },
   "outputs": [
    {
     "data": {
      "text/plain": [
       "((20056, 100), (20056,))"
      ]
     },
     "execution_count": 14,
     "metadata": {
      "tags": []
     },
     "output_type": "execute_result"
    }
   ],
   "source": [
    "X.shape, y.shape"
   ]
  },
  {
   "cell_type": "code",
   "execution_count": 15,
   "metadata": {
    "colab": {
     "base_uri": "https://localhost:8080/",
     "height": 332
    },
    "colab_type": "code",
    "id": "nX6yCMZe45j4",
    "outputId": "0a7836cf-78b7-49e8-e039-a7bac287de7d"
   },
   "outputs": [
    {
     "data": {
      "text/plain": [
       "Text(0, 0.5, 'Count')"
      ]
     },
     "execution_count": 15,
     "metadata": {
      "tags": []
     },
     "output_type": "execute_result"
    },
    {
     "data": {
      "image/png": "[encoded data removed]",
      "text/plain": [
       "<Figure size 432x288 with 1 Axes>"
      ]
     },
     "metadata": {
      "needs_background": "light",
      "tags": []
     },
     "output_type": "display_data"
    }
   ],
   "source": [
    "y = lp.inverse_transform(y).toarray().tolist()\n",
    "\n",
    "resampled_counts = np.array(y).sum(axis=0)\n",
    "\n",
    "plt.bar(label_cols, resampled_counts)\n",
    "plt.title(\"Upsampled Distribution of Cognitive Functions\")\n",
    "plt.xlabel(\"Cognitive Functions\")\n",
    "plt.ylabel(\"Count\")"
   ]
  },
  {
   "cell_type": "markdown",
   "metadata": {
    "colab_type": "text",
    "id": "IGJLYlfsDSuv"
   },
   "source": [
    "### Split into train and test sets"
   ]
  },
  {
   "cell_type": "code",
   "execution_count": 16,
   "metadata": {
    "colab": {},
    "colab_type": "code",
    "id": "924_JGka47-V"
   },
   "outputs": [],
   "source": [
    "y = np.array(y)\n",
    "\n",
    "X_train, X_test, y_train, y_test = train_test_split(X, y, test_size=0.2, random_state=9000)"
   ]
  },
  {
   "cell_type": "code",
   "execution_count": 17,
   "metadata": {
    "colab": {
     "base_uri": "https://localhost:8080/",
     "height": 55
    },
    "colab_type": "code",
    "id": "tFlN-LvYeQ7Y",
    "outputId": "63461983-2587-4f1f-8dfa-b1d95b739f07"
   },
   "outputs": [
    {
     "data": {
      "text/plain": [
       "((16044, 100), (16044, 8), (4012, 100), (4012, 8))"
      ]
     },
     "execution_count": 17,
     "metadata": {
      "tags": []
     },
     "output_type": "execute_result"
    }
   ],
   "source": [
    "X_train.shape, y_train.shape, X_test.shape, y_test.shape"
   ]
  },
  {
   "cell_type": "markdown",
   "metadata": {
    "colab_type": "text",
    "id": "YkWxg1SL-e0R"
   },
   "source": [
    "## Problem transformation, algorithm adaptation, and ensemble approaches\n",
    "\n",
    "\n"
   ]
  },
  {
   "cell_type": "markdown",
   "metadata": {
    "colab_type": "text",
    "id": "gq9K5k9x-e0w"
   },
   "source": [
    "The scikit-multilearn library contains a selection of classifiers for multi-label classification, and each of these classifiers fall under a particular category. The classifiers examined here, and their corresponding categories, are summed up again here:  \n",
    "<ol start = \"1\">\n",
    "  <li><b>Problem transformation approaches</b> convert a multi-label problem into one or more single label problems. This allows for the use of any conventional single-label machine learning algorithm.</li>\n",
    "    <ul type=\"disc\">\n",
    "      <li>Binary relevance</li>\n",
    "      <li>Classifier chain</li>\n",
    "      <li>Label powerset</li>\n",
    "    </ul>\n",
    "  <li><b>Algorithm adaptation approaches</b> convert single-label machine learning algorithms for direct use with multi-labeled data.</li>\n",
    "    <ul type=\"disc\">\n",
    "        <li>Multi-label k-nearest neighbors (MLkNN)</li> \n",
    "        <li>Multi-label hierarchical ARAM neural network (MLARAM)</li>      \n",
    "    </ul>\n",
    "    <li><b>Ensembles of classifiers</b> construct ensembles of base multi-label classifiers. For example, RAkELd divides the label space into equal partitions, and trains a label powerset with base classifier per partition. Predictions are made by summing the results of all trained classifiers.</li>\n",
    "    <ul type=\"disc\">\n",
    "        <li>Random label space partitioning with label powerset (RAkELd)</li>  \n",
    "    </ul>\n",
    "</ol>\n"
   ]
  },
  {
   "cell_type": "code",
   "execution_count": null,
   "metadata": {
    "colab": {},
    "colab_type": "code",
    "id": "HicnMmprydV3"
   },
   "outputs": [],
   "source": [
    "def problem_transformation_grid_search(prob_trans):\n",
    "\n",
    "    parameters = [\n",
    "        {\n",
    "            'classifier': [LogisticRegression()],\n",
    "            'classifier__penalty': ['l1', 'l2'],\n",
    "            'classifier__C': [0.009, 0.001, 0.09, 0.01, 1, 5, 10, 25],\n",
    "        },\n",
    "        {\n",
    "            'classifier': [MultinomialNB()],\n",
    "            'classifier__alpha': [0.7, 1.0],\n",
    "        },\n",
    "        {\n",
    "            'classifier': [GaussianNB()]\n",
    "\n",
    "        },\n",
    "    ]\n",
    "\n",
    "    score = 'accuracy'\n",
    "\n",
    "    clf = GridSearchCV(prob_trans, parameters, scoring=score)\n",
    "    clf.fit(X_train, y_train)\n",
    "    \n",
    "    return (clf.best_params_)"
   ]
  },
  {
   "cell_type": "markdown",
   "metadata": {
    "colab_type": "text",
    "id": "SHt5Jh0kIzkF"
   },
   "source": [
    "Each approach evaluated contains a `predict_proba(X)` method which returns the predicted probabilities of label assignments for X. By default, predictions are made based on a threshold value of 0.5 meaning that probabilies greater than or equal to 0.5 are converted to 1's and the rest to 0's. Here, for each approach, we evaluate all thresholds from 0.1 to 0.9 in order to find each optimal threshold. This, combined with hyperparameter optimization using grid search, allows us to compare each approach on the basis of their highest performance possible on this dataset."
   ]
  },
  {
   "cell_type": "code",
   "execution_count": null,
   "metadata": {
    "colab": {},
    "colab_type": "code",
    "id": "CeNiAVZYWhsy"
   },
   "outputs": [],
   "source": [
    "def evaluate_thresholds(method, base_classifier, thresholds, X_train, X_test, y_train, y_test):\n",
    "    fig, ax1 = plt.subplots()\n",
    "    \n",
    "    if method == None:\n",
    "      classifier = base_classifier\n",
    "      classifier_name = str(base_classifier).split('(')[0]\n",
    "      plt.title(classifier_name)\n",
    "    else:\n",
    "      classifier = method(base_classifier)\n",
    "      method_name = method.__name__\n",
    "      base_classifier_name = str(base_classifier).split('(')[0]\n",
    "      plt.title(\"{} + {}\".format(method_name, base_classifier_name))\n",
    "\n",
    "    metrics = {'accuracy': [], 'f1_score': []}\n",
    "    hl = []\n",
    "    counts = []\n",
    "    for threshold in thresholds:\n",
    "      classifier.fit(X_train, y_train)\n",
    "      classifier_predicted_probabilities = classifier.predict_proba(X_test)\n",
    "      y_pred = (classifier_predicted_probabilities >= threshold).astype(int)\n",
    "      \n",
    "      metrics['accuracy'].append(accuracy_score(y_test, y_pred))\n",
    "      metrics['f1_score'].append(f1_score(y_test, y_pred, average='micro'))\n",
    "\n",
    "    color1 = 'tab:red'\n",
    "    ax1.set_xlabel('Thresholds')\n",
    "    ax1.set_ylabel('Accuracy', color=color1)\n",
    "    ax1.plot(thresholds, metrics['accuracy'], color=color1)\n",
    "    ax1.tick_params(axis='y', labelcolor=color1)\n",
    "\n",
    "    ax2 = ax1.twinx()\n",
    "    color2 = 'tab:blue'\n",
    "    ax2.set_ylabel('F1 Score', color=color2)\n",
    "    ax2.plot(thresholds, metrics['f1_score'], color=color2)\n",
    "    ax2.tick_params(axis='y', labelcolor=color2)\n",
    "\n",
    "    fig.tight_layout() \n",
    "    plt.show()\n",
    "\n",
    "    return metrics\n"
   ]
  },
  {
   "cell_type": "code",
   "execution_count": null,
   "metadata": {
    "colab": {
     "base_uri": "https://localhost:8080/",
     "height": 1000
    },
    "colab_type": "code",
    "id": "nwvBtzjXOMyi",
    "outputId": "861d3d73-6c09-42c6-ff33-cc5f15a243c5"
   },
   "outputs": [
    {
     "name": "stdout",
     "output_type": "stream",
     "text": [
      "Method = BinaryRelevance\n",
      "Performing grid search...\n",
      "Grid search result: MultinomialNB(alpha=0.7, class_prior=None, fit_prior=True)\n",
      "Evaluating thresholds...\n"
     ]
    },
    {
     "data": {
      "image/png": "[encoded data removed]",
      "text/plain": [
       "<Figure size 432x288 with 2 Axes>"
      ]
     },
     "metadata": {
      "needs_background": "light",
      "tags": []
     },
     "output_type": "display_data"
    },
    {
     "name": "stdout",
     "output_type": "stream",
     "text": [
      "Method = ClassifierChain\n",
      "Performing grid search...\n",
      "Grid search result: GaussianNB(priors=None, var_smoothing=1e-09)\n",
      "Evaluating thresholds...\n"
     ]
    },
    {
     "data": {
      "image/png": "[encoded data removed]",
      "text/plain": [
       "<Figure size 432x288 with 2 Axes>"
      ]
     },
     "metadata": {
      "needs_background": "light",
      "tags": []
     },
     "output_type": "display_data"
    },
    {
     "name": "stdout",
     "output_type": "stream",
     "text": [
      "Method = LabelPowerset\n",
      "Performing grid search...\n",
      "Grid search result: LogisticRegression(C=0.09, class_weight=None, dual=False, fit_intercept=True,\n",
      "                   intercept_scaling=1, l1_ratio=None, max_iter=100,\n",
      "                   multi_class='auto', n_jobs=None, penalty='l2',\n",
      "                   random_state=None, solver='lbfgs', tol=0.0001, verbose=0,\n",
      "                   warm_start=False)\n",
      "Evaluating thresholds...\n"
     ]
    },
    {
     "data": {
      "image/png": "[encoded data removed]",
      "text/plain": [
       "<Figure size 432x288 with 2 Axes>"
      ]
     },
     "metadata": {
      "needs_background": "light",
      "tags": []
     },
     "output_type": "display_data"
    },
    {
     "name": "stdout",
     "output_type": "stream",
     "text": [
      "Method = MLkNN\n",
      "Performing grid search...\n",
      "Grid search result: {'k': 1, 's': 0.5}\n",
      "Evaluating thresholds...\n"
     ]
    },
    {
     "data": {
      "image/png": "[encoded data removed]",
      "text/plain": [
       "<Figure size 432x288 with 2 Axes>"
      ]
     },
     "metadata": {
      "needs_background": "light",
      "tags": []
     },
     "output_type": "display_data"
    },
    {
     "name": "stdout",
     "output_type": "stream",
     "text": [
      "Method = MLARAM\n",
      "Evaluating thresholds...\n"
     ]
    },
    {
     "data": {
      "image/png": "[encoded data removed]",
      "text/plain": [
       "<Figure size 432x288 with 2 Axes>"
      ]
     },
     "metadata": {
      "needs_background": "light",
      "tags": []
     },
     "output_type": "display_data"
    },
    {
     "name": "stdout",
     "output_type": "stream",
     "text": [
      "Method = RakelD\n",
      "Evaluating thresholds...\n"
     ]
    },
    {
     "data": {
      "image/png": "[encoded data removed]",
      "text/plain": [
       "<Figure size 432x288 with 2 Axes>"
      ]
     },
     "metadata": {
      "needs_background": "light",
      "tags": []
     },
     "output_type": "display_data"
    }
   ],
   "source": [
    "multilabel_classification_methods = {'Problem Transformation': [BinaryRelevance, ClassifierChain, LabelPowerset], 'Algorithm Adaptation': [MLkNN, MLARAM], 'Ensembles': [RakelD]}\n",
    "\n",
    "# multilabel_classification_methods = [BinaryRelevance, ClassifierChain, LabelPowerset, MLkNN]\n",
    "base_classifiers = []\n",
    "thresholds = np.arange(0.1, 1, 0.1)\n",
    "all_metrics = {'BinaryRelevance': {}, 'ClassifierChain': {}, 'LabelPowerset': {}, 'MLkNN': {}, 'MLARAM': {}, 'RakelD': {}}\n",
    "\n",
    "# For each problem transformation method, determine the optimal combination of base classifier and hyperparameter values\n",
    "for approach, methods in multilabel_classification_methods.items():\n",
    "  for method in methods:\n",
    "    print(\"Method =\", method.__name__)\n",
    "    if method.__name__ == 'MLkNN':\n",
    "      parameters = {'k': range(1,3), 's': [0.5, 0.7, 1.0]}\n",
    "      score = 'accuracy'\n",
    "      print('Performing grid search...')\n",
    "      clf = GridSearchCV(MLkNN(), parameters, scoring=score)\n",
    "      clf.fit(X_train, y_train)\n",
    "      grid_search_result = clf.best_params_\n",
    "\n",
    "      print('Grid search result:', grid_search_result)\n",
    "      classifier = MLkNN(k=grid_search_result['k'], s=grid_search_result['s'])\n",
    "      base_classifiers.append('-')\n",
    "      \n",
    "      print('Evaluating thresholds...')\n",
    "      metrics = evaluate_thresholds(None, classifier, thresholds, X_train, X_test, y_train, y_test)\n",
    "      all_metrics[str(classifier).split('(')[0]] = metrics\n",
    "    elif method.__name__ == 'MLARAM':\n",
    "      classifier = MLARAM(threshold=0.05, vigilance=0.95)\n",
    "      base_classifiers.append('-')\n",
    "\n",
    "      print('Evaluating thresholds...')\n",
    "      metrics = evaluate_thresholds(None, classifier, thresholds, X_train, X_test, y_train, y_test)\n",
    "      all_metrics[str(classifier).split('(')[0]] = metrics\n",
    "    elif method.__name__ == 'RakelD':\n",
    "      classifier = RakelD(LogisticRegression(penalty='l2', C=5))\n",
    "      base_classifiers.append('-')\n",
    "      \n",
    "      print('Evaluating thresholds...')\n",
    "      metrics = evaluate_thresholds(None, classifier, thresholds, X_train, X_test, y_train, y_test)\n",
    "      all_metrics[str(classifier).split('(')[0]] = metrics\n",
    "  \n",
    "    else:\n",
    "      print('Performing grid search...')\n",
    "      grid_search_result = problem_transformation_grid_search(method())\n",
    "      base_classifier = grid_search_result['classifier']\n",
    "      \n",
    "      print('Grid search result:', base_classifier)\n",
    "      base_classifiers.append(str(base_classifier).split('(')[0])\n",
    "\n",
    "      print('Evaluating thresholds...')\n",
    "      metrics = evaluate_thresholds(method, base_classifier, thresholds, X_train, X_test, y_train, y_test)\n",
    "      all_metrics[method.__name__] = metrics\n",
    "\n"
   ]
  },
  {
   "cell_type": "code",
   "execution_count": null,
   "metadata": {
    "colab": {
     "base_uri": "https://localhost:8080/",
     "height": 260
    },
    "colab_type": "code",
    "id": "pSEhJrtpnakC",
    "outputId": "fc721c8e-f4f6-4503-8c68-9078fa52ff06"
   },
   "outputs": [
    {
     "data": {
      "text/html": [
       "<div>\n",
       "<style scoped>\n",
       "    .dataframe tbody tr th:only-of-type {\n",
       "        vertical-align: middle;\n",
       "    }\n",
       "\n",
       "    .dataframe tbody tr th {\n",
       "        vertical-align: top;\n",
       "    }\n",
       "\n",
       "    .dataframe thead th {\n",
       "        text-align: right;\n",
       "    }\n",
       "</style>\n",
       "<table border=\"1\" class=\"dataframe\">\n",
       "  <thead>\n",
       "    <tr style=\"text-align: right;\">\n",
       "      <th></th>\n",
       "      <th>Method</th>\n",
       "      <th>Base Classifier</th>\n",
       "      <th>Accuracy</th>\n",
       "      <th>F1 Score</th>\n",
       "    </tr>\n",
       "  </thead>\n",
       "  <tbody>\n",
       "    <tr>\n",
       "      <th>0</th>\n",
       "      <td>BinaryRelevance</td>\n",
       "      <td>MultinomialNB</td>\n",
       "      <td>0.020688</td>\n",
       "      <td>0.394348</td>\n",
       "    </tr>\n",
       "    <tr>\n",
       "      <th>1</th>\n",
       "      <td>ClassifierChain</td>\n",
       "      <td>GaussianNB</td>\n",
       "      <td>0.133599</td>\n",
       "      <td>0.264186</td>\n",
       "    </tr>\n",
       "    <tr>\n",
       "      <th>2</th>\n",
       "      <td>LabelPowerset</td>\n",
       "      <td>LogisticRegression</td>\n",
       "      <td>0.099202</td>\n",
       "      <td>0.317147</td>\n",
       "    </tr>\n",
       "    <tr>\n",
       "      <th>3</th>\n",
       "      <td>MLkNN</td>\n",
       "      <td>-</td>\n",
       "      <td>0.766201</td>\n",
       "      <td>0.804212</td>\n",
       "    </tr>\n",
       "    <tr>\n",
       "      <th>4</th>\n",
       "      <td>MLARAM</td>\n",
       "      <td>-</td>\n",
       "      <td>0.699153</td>\n",
       "      <td>0.693980</td>\n",
       "    </tr>\n",
       "    <tr>\n",
       "      <th>5</th>\n",
       "      <td>RakelD</td>\n",
       "      <td>-</td>\n",
       "      <td>0.084746</td>\n",
       "      <td>0.320146</td>\n",
       "    </tr>\n",
       "  </tbody>\n",
       "</table>\n",
       "</div>"
      ],
      "text/plain": [
       "            Method     Base Classifier  Accuracy  F1 Score\n",
       "0  BinaryRelevance       MultinomialNB  0.020688  0.394348\n",
       "1  ClassifierChain          GaussianNB  0.133599  0.264186\n",
       "2    LabelPowerset  LogisticRegression  0.099202  0.317147\n",
       "3            MLkNN                   -  0.766201  0.804212\n",
       "4           MLARAM                   -  0.699153  0.693980\n",
       "5           RakelD                   -  0.084746  0.320146"
      ]
     },
     "execution_count": 21,
     "metadata": {
      "tags": []
     },
     "output_type": "execute_result"
    }
   ],
   "source": [
    "summary = pd.DataFrame()\n",
    "summary['Method'] = [i.__name__ for i in np.concatenate(list(multilabel_classification_methods.values()))]\n",
    "summary['Base Classifier'] = base_classifiers\n",
    "summary['Accuracy'] = [all_metrics['BinaryRelevance']['accuracy'][3], all_metrics['ClassifierChain']['accuracy'][4], all_metrics['LabelPowerset']['accuracy'][2], all_metrics['MLkNN']['accuracy'][0], all_metrics['MLARAM']['accuracy'][-1], all_metrics['RakelD']['accuracy'][2]]\n",
    "summary['F1 Score'] = [all_metrics['BinaryRelevance']['f1_score'][3], all_metrics['ClassifierChain']['f1_score'][4], all_metrics['LabelPowerset']['f1_score'][2], all_metrics['MLkNN']['f1_score'][0], all_metrics['MLARAM']['f1_score'][-1], all_metrics['RakelD']['f1_score'][2]]\n",
    "summary"
   ]
  },
  {
   "cell_type": "markdown",
   "metadata": {
    "colab_type": "text",
    "id": "kaxd3Gl8bzDF"
   },
   "source": [
    "## Neural networks using Keras"
   ]
  },
  {
   "cell_type": "markdown",
   "metadata": {
    "colab_type": "text",
    "id": "8O2jiYeI7RxU"
   },
   "source": [
    "Here we evaluate the use of LSTMs and 1D CNNs on our multi-label classification problem. We additionally implement a simple baseline model which only consists of an embedding layer, a dropout layer to prevent overfititng, a max pooling layer, and one dense layer with a sigmoid activation function. 10-fold cross-validation is used when evaluating each model.\n",
    "\n",
    "\n"
   ]
  },
  {
   "cell_type": "code",
   "execution_count": 51,
   "metadata": {
    "colab": {},
    "colab_type": "code",
    "id": "0utOg52tGy9L"
   },
   "outputs": [],
   "source": [
    "# Combine train and test in preparation for KFold\n",
    "X = pd.concat([pd.DataFrame(X_train), pd.DataFrame(X_test)])\n",
    "y = pd.concat([pd.DataFrame(y_train), pd.DataFrame(y_test)])\n",
    "\n",
    "vocab_size = tokenizer.vocab_size"
   ]
  },
  {
   "cell_type": "code",
   "execution_count": 52,
   "metadata": {
    "colab": {},
    "colab_type": "code",
    "id": "FQBuQfmNG0ZM"
   },
   "outputs": [],
   "source": [
    "from tensorflow.keras.layers import Dropout, GlobalMaxPool1D, Dense, Activation, Conv1D, LSTM, Embedding\n",
    "\n",
    "baseline_model = tf.keras.Sequential()\n",
    "baseline_model.add(Embedding(vocab_size, 20, input_length=100))\n",
    "baseline_model.add(Dropout(0.2))\n",
    "baseline_model.add(GlobalMaxPool1D())\n",
    "baseline_model.add(Dense(8, activation='sigmoid', kernel_constraint=unit_norm()))\n",
    "\n",
    "lstm_model = tf.keras.Sequential()\n",
    "lstm_model.add(Embedding(vocab_size, 20, input_length=100))\n",
    "lstm_model.add(Dropout(0.1))\n",
    "lstm_model.add(LSTM(128, return_sequences=True, kernel_constraint=unit_norm()))\n",
    "lstm_model.add(GlobalMaxPool1D())\n",
    "lstm_model.add(Dense(8))\n",
    "lstm_model.add(Activation('sigmoid'))\n",
    "\n",
    "cnn_model = tf.keras.Sequential()\n",
    "cnn_model.add(Embedding(vocab_size, 20, input_length=100))\n",
    "cnn_model.add(Dropout(0.1))\n",
    "cnn_model.add(Conv1D(300, 3, padding='valid', activation='relu', strides=1, kernel_constraint=max_norm()))\n",
    "cnn_model.add(GlobalMaxPool1D())\n",
    "cnn_model.add(Dense(8))\n",
    "cnn_model.add(Activation('sigmoid'))\n",
    "\n",
    "models = [baseline_model, lstm_model, cnn_model]\n",
    "model_names = ['Baseline Model', 'LSTM Model', 'CNN Model']\n",
    "\n",
    "baseline_cv_scores = {'Train': {'accuracy': [], 'loss': [], 'f1_score': []}, 'Test': {'accuracy': [], 'loss': [], 'f1_score': []}}\n",
    "lstm_cv_scores = {'Train': {'accuracy': [], 'loss': [], 'f1_score': []}, 'Test': {'accuracy': [], 'loss': [], 'f1_score': []}}\n",
    "cnn_cv_scores = {'Train': {'accuracy': [], 'loss': [], 'f1_score': []}, 'Test': {'accuracy': [], 'loss': [], 'f1_score': []}}\n",
    "all_cv_scores = [baseline_cv_scores, lstm_cv_scores, cnn_cv_scores]\n",
    "\n",
    "predictions = {'Baseline Model': [], 'LSTM Model': [], 'CNN Model': []}"
   ]
  },
  {
   "cell_type": "code",
   "execution_count": 53,
   "metadata": {
    "colab": {},
    "colab_type": "code",
    "id": "YRhkYGAVG4tB"
   },
   "outputs": [],
   "source": [
    "# Manually determine f1 score for Keras models\n",
    "\n",
    "from keras import backend as K\n",
    "\n",
    "def recall_m(y_true, y_pred):\n",
    "    true_positives = K.sum(K.round(K.clip(y_true * y_pred, 0, 1)))\n",
    "    possible_positives = K.sum(K.round(K.clip(y_true, 0, 1)))\n",
    "    recall = true_positives / (possible_positives + K.epsilon())\n",
    "    return recall\n",
    "\n",
    "def precision_m(y_true, y_pred):\n",
    "    true_positives = K.sum(K.round(K.clip(y_true * y_pred, 0, 1)))\n",
    "    predicted_positives = K.sum(K.round(K.clip(y_pred, 0, 1)))\n",
    "    precision = true_positives / (predicted_positives + K.epsilon())\n",
    "    return precision\n",
    "\n",
    "def f1_m(y_true, y_pred):\n",
    "    precision = precision_m(y_true, y_pred)\n",
    "    recall = recall_m(y_true, y_pred)\n",
    "    return 2*((precision*recall)/(precision+recall+K.epsilon()))"
   ]
  },
  {
   "cell_type": "code",
   "execution_count": 54,
   "metadata": {
    "colab": {
     "base_uri": "https://localhost:8080/",
     "height": 1000
    },
    "colab_type": "code",
    "id": "Lx-khz84G6jj",
    "outputId": "b22eb665-74b3-4a1a-93a7-1cf6042ecd76"
   },
   "outputs": [
    {
     "name": "stdout",
     "output_type": "stream",
     "text": [
      "Training Baseline Model\n",
      "Epoch 1/20\n",
      "424/424 [==============================] - 3s 7ms/step - loss: 4.1521 - categorical_accuracy: 0.1417 - f1_m: 0.3987 - val_loss: 4.1416 - val_categorical_accuracy: 0.2218 - val_f1_m: 0.4494 - lr: 0.0010\n",
      "Epoch 2/20\n",
      "424/424 [==============================] - 3s 7ms/step - loss: 4.1094 - categorical_accuracy: 0.2413 - f1_m: 0.4870 - val_loss: 4.0908 - val_categorical_accuracy: 0.2508 - val_f1_m: 0.4875 - lr: 0.0010\n",
      "Epoch 3/20\n",
      "424/424 [==============================] - 3s 7ms/step - loss: 4.0363 - categorical_accuracy: 0.2692 - f1_m: 0.4754 - val_loss: 4.0294 - val_categorical_accuracy: 0.2369 - val_f1_m: 0.3358 - lr: 0.0010\n",
      "Epoch 4/20\n",
      "424/424 [==============================] - 3s 7ms/step - loss: 3.9596 - categorical_accuracy: 0.2817 - f1_m: 0.3298 - val_loss: 3.9688 - val_categorical_accuracy: 0.2296 - val_f1_m: 0.1711 - lr: 0.0010\n",
      "Epoch 5/20\n",
      "424/424 [==============================] - 3s 7ms/step - loss: 3.8834 - categorical_accuracy: 0.2969 - f1_m: 0.2003 - val_loss: 3.9085 - val_categorical_accuracy: 0.2519 - val_f1_m: 0.0735 - lr: 0.0010\n",
      "Epoch 6/20\n",
      "424/424 [==============================] - 3s 7ms/step - loss: 3.8095 - categorical_accuracy: 0.3124 - f1_m: 0.1044 - val_loss: 3.8501 - val_categorical_accuracy: 0.2739 - val_f1_m: 0.0252 - lr: 0.0010\n",
      "Epoch 7/20\n",
      "424/424 [==============================] - 3s 6ms/step - loss: 3.7354 - categorical_accuracy: 0.3356 - f1_m: 0.0534 - val_loss: 3.7945 - val_categorical_accuracy: 0.2641 - val_f1_m: 0.0041 - lr: 0.0010\n",
      "Epoch 8/20\n",
      "424/424 [==============================] - 3s 6ms/step - loss: 3.6672 - categorical_accuracy: 0.3521 - f1_m: 0.0230 - val_loss: 3.7413 - val_categorical_accuracy: 0.2841 - val_f1_m: 8.6674e-04 - lr: 0.0010\n",
      "Epoch 9/20\n",
      "424/424 [==============================] - 3s 7ms/step - loss: 3.6011 - categorical_accuracy: 0.3650 - f1_m: 0.0107 - val_loss: 3.6908 - val_categorical_accuracy: 0.2963 - val_f1_m: 0.0000e+00 - lr: 0.0010\n",
      "Epoch 10/20\n",
      "424/424 [==============================] - 3s 7ms/step - loss: 3.5387 - categorical_accuracy: 0.3756 - f1_m: 0.0048 - val_loss: 3.6444 - val_categorical_accuracy: 0.2863 - val_f1_m: 0.0000e+00 - lr: 0.0010\n",
      "Epoch 11/20\n",
      "424/424 [==============================] - 3s 7ms/step - loss: 3.4807 - categorical_accuracy: 0.3889 - f1_m: 0.0033 - val_loss: 3.6001 - val_categorical_accuracy: 0.3062 - val_f1_m: 0.0000e+00 - lr: 0.0010\n",
      "Epoch 12/20\n",
      "424/424 [==============================] - 3s 7ms/step - loss: 3.4284 - categorical_accuracy: 0.4002 - f1_m: 0.0014 - val_loss: 3.5595 - val_categorical_accuracy: 0.3036 - val_f1_m: 0.0000e+00 - lr: 0.0010\n",
      "Epoch 13/20\n",
      "424/424 [==============================] - 3s 7ms/step - loss: 3.3764 - categorical_accuracy: 0.4101 - f1_m: 0.0012 - val_loss: 3.5205 - val_categorical_accuracy: 0.3025 - val_f1_m: 0.0000e+00 - lr: 0.0010\n",
      "Epoch 14/20\n",
      "424/424 [==============================] - 3s 6ms/step - loss: 3.3263 - categorical_accuracy: 0.4144 - f1_m: 6.5312e-04 - val_loss: 3.4868 - val_categorical_accuracy: 0.3322 - val_f1_m: 0.0000e+00 - lr: 0.0010\n",
      "Epoch 15/20\n",
      "424/424 [==============================] - 3s 6ms/step - loss: 3.2830 - categorical_accuracy: 0.4191 - f1_m: 4.3541e-04 - val_loss: 3.4509 - val_categorical_accuracy: 0.3271 - val_f1_m: 0.0000e+00 - lr: 0.0010\n",
      "Epoch 16/20\n",
      "424/424 [==============================] - 3s 7ms/step - loss: 3.2423 - categorical_accuracy: 0.4237 - f1_m: 4.3321e-04 - val_loss: 3.4203 - val_categorical_accuracy: 0.3268 - val_f1_m: 0.0000e+00 - lr: 0.0010\n",
      "Epoch 17/20\n",
      "424/424 [==============================] - 3s 7ms/step - loss: 3.1989 - categorical_accuracy: 0.4313 - f1_m: 2.1771e-04 - val_loss: 3.3916 - val_categorical_accuracy: 0.3341 - val_f1_m: 0.0000e+00 - lr: 0.0010\n",
      "Epoch 18/20\n",
      "424/424 [==============================] - 3s 6ms/step - loss: 3.1609 - categorical_accuracy: 0.4394 - f1_m: 1.4514e-04 - val_loss: 3.3647 - val_categorical_accuracy: 0.3319 - val_f1_m: 0.0000e+00 - lr: 0.0010\n",
      "Epoch 19/20\n",
      "424/424 [==============================] - 3s 6ms/step - loss: 3.1285 - categorical_accuracy: 0.4437 - f1_m: 1.4514e-04 - val_loss: 3.3384 - val_categorical_accuracy: 0.3333 - val_f1_m: 0.0000e+00 - lr: 0.0010\n",
      "Epoch 20/20\n",
      "424/424 [==============================] - 3s 6ms/step - loss: 3.0900 - categorical_accuracy: 0.4494 - f1_m: 4.3541e-04 - val_loss: 3.3118 - val_categorical_accuracy: 0.3466 - val_f1_m: 0.0000e+00 - lr: 0.0010\n",
      "Train: accuracy = 43.16%, loss = 3.15%, f1 score = 0.00%\n",
      "Test: accuracy = 36.59%, loss = 3.33%, f1 score = 0.00%\n",
      "Epoch 1/20\n",
      "424/424 [==============================] - 3s 7ms/step - loss: 3.0878 - categorical_accuracy: 0.4439 - f1_m: 3.6284e-04 - val_loss: 3.2936 - val_categorical_accuracy: 0.3330 - val_f1_m: 0.0000e+00 - lr: 0.0010\n",
      "Epoch 2/20\n",
      "424/424 [==============================] - 3s 6ms/step - loss: 3.0610 - categorical_accuracy: 0.4438 - f1_m: 2.8808e-04 - val_loss: 3.2712 - val_categorical_accuracy: 0.3428 - val_f1_m: 0.0000e+00 - lr: 0.0010\n",
      "Epoch 3/20\n",
      "424/424 [==============================] - 3s 6ms/step - loss: 3.0292 - categorical_accuracy: 0.4401 - f1_m: 3.6065e-04 - val_loss: 3.2488 - val_categorical_accuracy: 0.3503 - val_f1_m: 0.0000e+00 - lr: 0.0010\n",
      "Epoch 4/20\n",
      "424/424 [==============================] - 3s 6ms/step - loss: 2.9977 - categorical_accuracy: 0.4463 - f1_m: 1.4514e-04 - val_loss: 3.2280 - val_categorical_accuracy: 0.3654 - val_f1_m: 0.0000e+00 - lr: 0.0010\n",
      "Epoch 5/20\n",
      "424/424 [==============================] - 3s 6ms/step - loss: 2.9747 - categorical_accuracy: 0.4498 - f1_m: 3.5845e-04 - val_loss: 3.2084 - val_categorical_accuracy: 0.3579 - val_f1_m: 0.0000e+00 - lr: 0.0010\n",
      "Epoch 6/20\n",
      "424/424 [==============================] - 3s 6ms/step - loss: 2.9431 - categorical_accuracy: 0.4525 - f1_m: 1.4514e-04 - val_loss: 3.1944 - val_categorical_accuracy: 0.3313 - val_f1_m: 0.0000e+00 - lr: 0.0010\n",
      "Epoch 7/20\n",
      "424/424 [==============================] - 3s 6ms/step - loss: 2.9224 - categorical_accuracy: 0.4524 - f1_m: 2.8808e-04 - val_loss: 3.1752 - val_categorical_accuracy: 0.3552 - val_f1_m: 0.0000e+00 - lr: 0.0010\n",
      "Epoch 8/20\n",
      "424/424 [==============================] - 3s 6ms/step - loss: 2.8927 - categorical_accuracy: 0.4570 - f1_m: 2.1551e-04 - val_loss: 3.1599 - val_categorical_accuracy: 0.3517 - val_f1_m: 0.0000e+00 - lr: 0.0010\n",
      "Epoch 9/20\n",
      "424/424 [==============================] - 3s 7ms/step - loss: 2.8733 - categorical_accuracy: 0.4593 - f1_m: 7.2569e-05 - val_loss: 3.1423 - val_categorical_accuracy: 0.3408 - val_f1_m: 0.0000e+00 - lr: 0.0010\n",
      "Epoch 10/20\n",
      "424/424 [==============================] - 3s 7ms/step - loss: 2.8448 - categorical_accuracy: 0.4583 - f1_m: 2.9028e-04 - val_loss: 3.1273 - val_categorical_accuracy: 0.3623 - val_f1_m: 0.0000e+00 - lr: 0.0010\n",
      "Epoch 11/20\n",
      "424/424 [==============================] - 3s 6ms/step - loss: 2.8287 - categorical_accuracy: 0.4630 - f1_m: 3.6065e-04 - val_loss: 3.1136 - val_categorical_accuracy: 0.3510 - val_f1_m: 0.0000e+00 - lr: 0.0010\n",
      "Epoch 12/20\n",
      "424/424 [==============================] - 3s 6ms/step - loss: 2.8092 - categorical_accuracy: 0.4689 - f1_m: 2.1771e-04 - val_loss: 3.0976 - val_categorical_accuracy: 0.3694 - val_f1_m: 0.0000e+00 - lr: 0.0010\n",
      "Epoch 13/20\n",
      "424/424 [==============================] - 3s 6ms/step - loss: 2.7883 - categorical_accuracy: 0.4636 - f1_m: 2.1771e-04 - val_loss: 3.0872 - val_categorical_accuracy: 0.3598 - val_f1_m: 0.0000e+00 - lr: 0.0010\n",
      "Epoch 14/20\n",
      "424/424 [==============================] - 3s 6ms/step - loss: 2.7696 - categorical_accuracy: 0.4668 - f1_m: 2.9028e-04 - val_loss: 3.0730 - val_categorical_accuracy: 0.3623 - val_f1_m: 0.0000e+00 - lr: 0.0010\n",
      "Epoch 15/20\n",
      "424/424 [==============================] - 3s 6ms/step - loss: 2.7461 - categorical_accuracy: 0.4727 - f1_m: 1.4514e-04 - val_loss: 3.0626 - val_categorical_accuracy: 0.3652 - val_f1_m: 0.0000e+00 - lr: 0.0010\n",
      "Epoch 16/20\n",
      "424/424 [==============================] - 3s 6ms/step - loss: 2.7325 - categorical_accuracy: 0.4731 - f1_m: 5.0578e-04 - val_loss: 3.0515 - val_categorical_accuracy: 0.3523 - val_f1_m: 0.0000e+00 - lr: 0.0010\n",
      "Epoch 17/20\n",
      "424/424 [==============================] - 3s 6ms/step - loss: 2.7164 - categorical_accuracy: 0.4712 - f1_m: 3.6284e-04 - val_loss: 3.0375 - val_categorical_accuracy: 0.3760 - val_f1_m: 0.0000e+00 - lr: 0.0010\n",
      "Epoch 18/20\n",
      "424/424 [==============================] - 3s 6ms/step - loss: 2.7001 - categorical_accuracy: 0.4778 - f1_m: 0.0000e+00 - val_loss: 3.0270 - val_categorical_accuracy: 0.3685 - val_f1_m: 0.0000e+00 - lr: 0.0010\n",
      "Epoch 19/20\n",
      "424/424 [==============================] - 3s 6ms/step - loss: 2.6757 - categorical_accuracy: 0.4760 - f1_m: 3.6065e-04 - val_loss: 3.0167 - val_categorical_accuracy: 0.3716 - val_f1_m: 0.0000e+00 - lr: 0.0010\n",
      "Epoch 20/20\n",
      "424/424 [==============================] - 3s 6ms/step - loss: 2.6638 - categorical_accuracy: 0.4817 - f1_m: 2.8808e-04 - val_loss: 3.0064 - val_categorical_accuracy: 0.3725 - val_f1_m: 0.0000e+00 - lr: 0.0010\n",
      "Train: accuracy = 46.68%, loss = 2.73%, f1 score = 0.00%\n",
      "Test: accuracy = 46.16%, loss = 2.83%, f1 score = 0.00%\n",
      "Epoch 1/20\n",
      "424/424 [==============================] - 4s 10ms/step - loss: 2.6688 - categorical_accuracy: 0.4798 - f1_m: 2.9028e-04 - val_loss: 2.9949 - val_categorical_accuracy: 0.3705 - val_f1_m: 0.0000e+00 - lr: 0.0010\n",
      "Epoch 2/20\n",
      "424/424 [==============================] - 4s 11ms/step - loss: 2.6460 - categorical_accuracy: 0.4836 - f1_m: 3.6284e-04 - val_loss: 2.9816 - val_categorical_accuracy: 0.3856 - val_f1_m: 0.0000e+00 - lr: 0.0010\n",
      "Epoch 3/20\n",
      "424/424 [==============================] - 4s 10ms/step - loss: 2.6312 - categorical_accuracy: 0.4845 - f1_m: 0.0000e+00 - val_loss: 2.9754 - val_categorical_accuracy: 0.3734 - val_f1_m: 0.0000e+00 - lr: 0.0010\n",
      "Epoch 4/20\n",
      "424/424 [==============================] - 4s 9ms/step - loss: 2.6204 - categorical_accuracy: 0.4807 - f1_m: 7.2569e-05 - val_loss: 2.9639 - val_categorical_accuracy: 0.3709 - val_f1_m: 0.0000e+00 - lr: 0.0010\n",
      "Epoch 5/20\n",
      "424/424 [==============================] - 4s 9ms/step - loss: 2.6069 - categorical_accuracy: 0.4820 - f1_m: 2.9028e-04 - val_loss: 2.9552 - val_categorical_accuracy: 0.3891 - val_f1_m: 0.0000e+00 - lr: 0.0010\n",
      "Epoch 6/20\n",
      "424/424 [==============================] - 4s 9ms/step - loss: 2.5927 - categorical_accuracy: 0.4830 - f1_m: 7.2569e-05 - val_loss: 2.9480 - val_categorical_accuracy: 0.3844 - val_f1_m: 0.0000e+00 - lr: 0.0010\n",
      "Epoch 7/20\n",
      "424/424 [==============================] - 4s 9ms/step - loss: 2.5748 - categorical_accuracy: 0.4836 - f1_m: 2.9028e-04 - val_loss: 2.9417 - val_categorical_accuracy: 0.3712 - val_f1_m: 0.0000e+00 - lr: 0.0010\n",
      "Epoch 8/20\n",
      "424/424 [==============================] - 4s 9ms/step - loss: 2.5640 - categorical_accuracy: 0.4883 - f1_m: 3.6284e-04 - val_loss: 2.9330 - val_categorical_accuracy: 0.3776 - val_f1_m: 0.0000e+00 - lr: 0.0010\n",
      "Epoch 9/20\n",
      "424/424 [==============================] - 4s 9ms/step - loss: 2.5487 - categorical_accuracy: 0.4911 - f1_m: 0.0000e+00 - val_loss: 2.9250 - val_categorical_accuracy: 0.3853 - val_f1_m: 0.0000e+00 - lr: 0.0010\n",
      "Epoch 10/20\n",
      "424/424 [==============================] - 4s 9ms/step - loss: 2.5341 - categorical_accuracy: 0.4921 - f1_m: 1.4514e-04 - val_loss: 2.9166 - val_categorical_accuracy: 0.3856 - val_f1_m: 0.0000e+00 - lr: 0.0010\n",
      "Epoch 11/20\n",
      "424/424 [==============================] - 4s 9ms/step - loss: 2.5223 - categorical_accuracy: 0.4904 - f1_m: 1.4514e-04 - val_loss: 2.9102 - val_categorical_accuracy: 0.3720 - val_f1_m: 0.0000e+00 - lr: 0.0010\n",
      "Epoch 12/20\n",
      "424/424 [==============================] - 4s 9ms/step - loss: 2.5117 - categorical_accuracy: 0.4900 - f1_m: 1.4514e-04 - val_loss: 2.9046 - val_categorical_accuracy: 0.3858 - val_f1_m: 0.0000e+00 - lr: 0.0010\n",
      "Epoch 13/20\n",
      "424/424 [==============================] - 3s 8ms/step - loss: 2.4993 - categorical_accuracy: 0.4929 - f1_m: 5.7615e-04 - val_loss: 2.8984 - val_categorical_accuracy: 0.3946 - val_f1_m: 0.0000e+00 - lr: 0.0010\n",
      "Epoch 14/20\n",
      "424/424 [==============================] - 4s 8ms/step - loss: 2.4890 - categorical_accuracy: 0.4950 - f1_m: 2.9028e-04 - val_loss: 2.8901 - val_categorical_accuracy: 0.3765 - val_f1_m: 0.0000e+00 - lr: 0.0010\n",
      "Epoch 15/20\n",
      "424/424 [==============================] - 4s 8ms/step - loss: 2.4781 - categorical_accuracy: 0.4921 - f1_m: 5.8055e-04 - val_loss: 2.8818 - val_categorical_accuracy: 0.4172 - val_f1_m: 0.0000e+00 - lr: 0.0010\n",
      "Epoch 16/20\n",
      "424/424 [==============================] - 4s 8ms/step - loss: 2.4682 - categorical_accuracy: 0.4943 - f1_m: 3.6284e-04 - val_loss: 2.8772 - val_categorical_accuracy: 0.3949 - val_f1_m: 0.0000e+00 - lr: 0.0010\n",
      "Epoch 17/20\n",
      "424/424 [==============================] - 4s 8ms/step - loss: 2.4525 - categorical_accuracy: 0.4977 - f1_m: 4.3541e-04 - val_loss: 2.8768 - val_categorical_accuracy: 0.3776 - val_f1_m: 0.0000e+00 - lr: 0.0010\n",
      "Epoch 18/20\n",
      "424/424 [==============================] - 4s 8ms/step - loss: 2.4453 - categorical_accuracy: 0.4982 - f1_m: 5.0798e-04 - val_loss: 2.8686 - val_categorical_accuracy: 0.3754 - val_f1_m: 0.0000e+00 - lr: 0.0010\n",
      "Epoch 19/20\n",
      "424/424 [==============================] - 4s 8ms/step - loss: 2.4349 - categorical_accuracy: 0.4921 - f1_m: 6.5092e-04 - val_loss: 2.8595 - val_categorical_accuracy: 0.3820 - val_f1_m: 0.0000e+00 - lr: 0.0010\n",
      "Epoch 20/20\n",
      "424/424 [==============================] - 4s 8ms/step - loss: 2.4298 - categorical_accuracy: 0.4938 - f1_m: 8.6643e-04 - val_loss: 2.8613 - val_categorical_accuracy: 0.3922 - val_f1_m: 0.0000e+00 - lr: 0.0010\n",
      "Train: accuracy = 48.11%, loss = 2.50%, f1 score = 0.00%\n",
      "Test: accuracy = 45.21%, loss = 2.60%, f1 score = 0.00%\n",
      "Epoch 1/20\n",
      "424/424 [==============================] - 3s 7ms/step - loss: 2.4385 - categorical_accuracy: 0.4921 - f1_m: 2.9028e-04 - val_loss: 2.8554 - val_categorical_accuracy: 0.3962 - val_f1_m: 0.0000e+00 - lr: 0.0010\n",
      "Epoch 2/20\n",
      "424/424 [==============================] - 3s 6ms/step - loss: 2.4272 - categorical_accuracy: 0.4960 - f1_m: 1.4514e-04 - val_loss: 2.8518 - val_categorical_accuracy: 0.3685 - val_f1_m: 0.0000e+00 - lr: 0.0010\n",
      "Epoch 3/20\n",
      "424/424 [==============================] - 3s 6ms/step - loss: 2.4202 - categorical_accuracy: 0.4966 - f1_m: 3.6284e-04 - val_loss: 2.8472 - val_categorical_accuracy: 0.3813 - val_f1_m: 0.0000e+00 - lr: 0.0010\n",
      "Epoch 4/20\n",
      "424/424 [==============================] - 3s 6ms/step - loss: 2.4070 - categorical_accuracy: 0.4980 - f1_m: 5.0798e-04 - val_loss: 2.8422 - val_categorical_accuracy: 0.3802 - val_f1_m: 0.0000e+00 - lr: 0.0010\n",
      "Epoch 5/20\n",
      "424/424 [==============================] - 3s 6ms/step - loss: 2.3985 - categorical_accuracy: 0.4954 - f1_m: 4.3321e-04 - val_loss: 2.8388 - val_categorical_accuracy: 0.3957 - val_f1_m: 0.0000e+00 - lr: 0.0010\n",
      "Epoch 6/20\n",
      "424/424 [==============================] - 3s 6ms/step - loss: 2.3917 - categorical_accuracy: 0.4952 - f1_m: 8.6643e-04 - val_loss: 2.8348 - val_categorical_accuracy: 0.3942 - val_f1_m: 0.0000e+00 - lr: 0.0010\n",
      "Epoch 7/20\n",
      "424/424 [==============================] - 3s 8ms/step - loss: 2.3801 - categorical_accuracy: 0.4975 - f1_m: 1.4514e-04 - val_loss: 2.8302 - val_categorical_accuracy: 0.3949 - val_f1_m: 0.0000e+00 - lr: 0.0010\n",
      "Epoch 8/20\n",
      "424/424 [==============================] - 3s 8ms/step - loss: 2.3742 - categorical_accuracy: 0.4980 - f1_m: 6.5312e-04 - val_loss: 2.8276 - val_categorical_accuracy: 0.4022 - val_f1_m: 0.0000e+00 - lr: 0.0010\n",
      "Epoch 9/20\n",
      "424/424 [==============================] - 3s 8ms/step - loss: 2.3607 - categorical_accuracy: 0.4976 - f1_m: 0.0011 - val_loss: 2.8250 - val_categorical_accuracy: 0.3618 - val_f1_m: 0.0000e+00 - lr: 0.0010\n",
      "Epoch 10/20\n",
      "424/424 [==============================] - 3s 8ms/step - loss: 2.3554 - categorical_accuracy: 0.4974 - f1_m: 3.6284e-04 - val_loss: 2.8191 - val_categorical_accuracy: 0.3807 - val_f1_m: 0.0000e+00 - lr: 0.0010\n",
      "Epoch 11/20\n",
      "424/424 [==============================] - 4s 8ms/step - loss: 2.3470 - categorical_accuracy: 0.4983 - f1_m: 7.2349e-04 - val_loss: 2.8159 - val_categorical_accuracy: 0.3816 - val_f1_m: 0.0000e+00 - lr: 0.0010\n",
      "Epoch 12/20\n",
      "424/424 [==============================] - 3s 8ms/step - loss: 2.3344 - categorical_accuracy: 0.5025 - f1_m: 6.5092e-04 - val_loss: 2.8152 - val_categorical_accuracy: 0.4398 - val_f1_m: 0.0000e+00 - lr: 0.0010\n",
      "Epoch 13/20\n",
      "424/424 [==============================] - 3s 8ms/step - loss: 2.3234 - categorical_accuracy: 0.5028 - f1_m: 6.5312e-04 - val_loss: 2.8109 - val_categorical_accuracy: 0.4082 - val_f1_m: 0.0000e+00 - lr: 0.0010\n",
      "Epoch 14/20\n",
      "424/424 [==============================] - 3s 8ms/step - loss: 2.3230 - categorical_accuracy: 0.5051 - f1_m: 9.4120e-04 - val_loss: 2.8063 - val_categorical_accuracy: 0.4104 - val_f1_m: 0.0000e+00 - lr: 0.0010\n",
      "Epoch 15/20\n",
      "424/424 [==============================] - 3s 8ms/step - loss: 2.3143 - categorical_accuracy: 0.5010 - f1_m: 6.5312e-04 - val_loss: 2.8046 - val_categorical_accuracy: 0.3946 - val_f1_m: 0.0000e+00 - lr: 0.0010\n",
      "Epoch 16/20\n",
      "424/424 [==============================] - 3s 8ms/step - loss: 2.3097 - categorical_accuracy: 0.5008 - f1_m: 8.7083e-04 - val_loss: 2.7994 - val_categorical_accuracy: 0.4119 - val_f1_m: 0.0000e+00 - lr: 0.0010\n",
      "Epoch 17/20\n",
      "424/424 [==============================] - 3s 8ms/step - loss: 2.3024 - categorical_accuracy: 0.5007 - f1_m: 5.8055e-04 - val_loss: 2.7961 - val_categorical_accuracy: 0.4006 - val_f1_m: 0.0000e+00 - lr: 0.0010\n",
      "Epoch 18/20\n",
      "424/424 [==============================] - 3s 8ms/step - loss: 2.2924 - categorical_accuracy: 0.5011 - f1_m: 8.7083e-04 - val_loss: 2.8000 - val_categorical_accuracy: 0.3847 - val_f1_m: 0.0000e+00 - lr: 0.0010\n",
      "Epoch 19/20\n",
      "424/424 [==============================] - 3s 8ms/step - loss: 2.2922 - categorical_accuracy: 0.5044 - f1_m: 8.6643e-04 - val_loss: 2.7921 - val_categorical_accuracy: 0.4015 - val_f1_m: 0.0000e+00 - lr: 0.0010\n",
      "Epoch 20/20\n",
      "424/424 [==============================] - 4s 9ms/step - loss: 2.2812 - categorical_accuracy: 0.5077 - f1_m: 0.0013 - val_loss: 2.7890 - val_categorical_accuracy: 0.4259 - val_f1_m: 0.0000e+00 - lr: 0.0010\n",
      "Train: accuracy = 51.93%, loss = 2.36%, f1 score = 0.00%\n",
      "Test: accuracy = 50.85%, loss = 2.41%, f1 score = 0.00%\n",
      "Epoch 1/20\n",
      "424/424 [==============================] - 3s 6ms/step - loss: 2.2896 - categorical_accuracy: 0.5015 - f1_m: 9.4340e-04 - val_loss: 2.7806 - val_categorical_accuracy: 0.3911 - val_f1_m: 0.0000e+00 - lr: 0.0010\n",
      "Epoch 2/20\n",
      "424/424 [==============================] - 3s 6ms/step - loss: 2.2822 - categorical_accuracy: 0.4992 - f1_m: 0.0014 - val_loss: 2.7767 - val_categorical_accuracy: 0.4106 - val_f1_m: 0.0000e+00 - lr: 0.0010\n",
      "Epoch 3/20\n",
      "424/424 [==============================] - 3s 6ms/step - loss: 2.2735 - categorical_accuracy: 0.5023 - f1_m: 0.0010 - val_loss: 2.7743 - val_categorical_accuracy: 0.4002 - val_f1_m: 0.0000e+00 - lr: 0.0010\n",
      "Epoch 4/20\n",
      "424/424 [==============================] - 3s 7ms/step - loss: 2.2714 - categorical_accuracy: 0.5048 - f1_m: 8.6863e-04 - val_loss: 2.7707 - val_categorical_accuracy: 0.4226 - val_f1_m: 0.0000e+00 - lr: 0.0010\n",
      "Epoch 5/20\n",
      "424/424 [==============================] - 3s 6ms/step - loss: 2.2634 - categorical_accuracy: 0.5057 - f1_m: 0.0019 - val_loss: 2.7686 - val_categorical_accuracy: 0.4055 - val_f1_m: 0.0000e+00 - lr: 0.0010\n",
      "Epoch 6/20\n",
      "424/424 [==============================] - 3s 6ms/step - loss: 2.2498 - categorical_accuracy: 0.5056 - f1_m: 0.0012 - val_loss: 2.7707 - val_categorical_accuracy: 0.3849 - val_f1_m: 0.0000e+00 - lr: 0.0010\n",
      "Epoch 7/20\n",
      "424/424 [==============================] - 3s 6ms/step - loss: 2.2526 - categorical_accuracy: 0.5042 - f1_m: 0.0011 - val_loss: 2.7637 - val_categorical_accuracy: 0.3889 - val_f1_m: 0.0000e+00 - lr: 0.0010\n",
      "Epoch 8/20\n",
      "424/424 [==============================] - 3s 8ms/step - loss: 2.2424 - categorical_accuracy: 0.5054 - f1_m: 0.0013 - val_loss: 2.7635 - val_categorical_accuracy: 0.3898 - val_f1_m: 0.0000e+00 - lr: 0.0010\n",
      "Epoch 9/20\n",
      "424/424 [==============================] - 3s 8ms/step - loss: 2.2397 - categorical_accuracy: 0.5034 - f1_m: 0.0017 - val_loss: 2.7604 - val_categorical_accuracy: 0.3802 - val_f1_m: 0.0000e+00 - lr: 0.0010\n",
      "Epoch 10/20\n",
      "424/424 [==============================] - 3s 8ms/step - loss: 2.2339 - categorical_accuracy: 0.5073 - f1_m: 0.0022 - val_loss: 2.7589 - val_categorical_accuracy: 0.4022 - val_f1_m: 0.0000e+00 - lr: 0.0010\n",
      "Epoch 11/20\n",
      "424/424 [==============================] - 3s 8ms/step - loss: 2.2227 - categorical_accuracy: 0.4986 - f1_m: 0.0017 - val_loss: 2.7564 - val_categorical_accuracy: 0.3820 - val_f1_m: 0.0000e+00 - lr: 0.0010\n",
      "Epoch 12/20\n",
      "424/424 [==============================] - 3s 8ms/step - loss: 2.2185 - categorical_accuracy: 0.5034 - f1_m: 0.0023 - val_loss: 2.7554 - val_categorical_accuracy: 0.4254 - val_f1_m: 0.0000e+00 - lr: 0.0010\n",
      "Epoch 13/20\n",
      "424/424 [==============================] - 3s 8ms/step - loss: 2.2156 - categorical_accuracy: 0.5124 - f1_m: 0.0028 - val_loss: 2.7540 - val_categorical_accuracy: 0.3813 - val_f1_m: 0.0000e+00 - lr: 0.0010\n",
      "Epoch 14/20\n",
      "424/424 [==============================] - 3s 8ms/step - loss: 2.2129 - categorical_accuracy: 0.5074 - f1_m: 0.0021 - val_loss: 2.7526 - val_categorical_accuracy: 0.3836 - val_f1_m: 0.0000e+00 - lr: 0.0010\n",
      "Epoch 15/20\n",
      "424/424 [==============================] - 3s 8ms/step - loss: 2.2074 - categorical_accuracy: 0.5088 - f1_m: 0.0029 - val_loss: 2.7483 - val_categorical_accuracy: 0.4246 - val_f1_m: 0.0000e+00 - lr: 0.0010\n",
      "Epoch 16/20\n",
      "424/424 [==============================] - 3s 8ms/step - loss: 2.2010 - categorical_accuracy: 0.5052 - f1_m: 0.0025 - val_loss: 2.7498 - val_categorical_accuracy: 0.3935 - val_f1_m: 0.0000e+00 - lr: 0.0010\n",
      "Epoch 17/20\n",
      "424/424 [==============================] - 3s 8ms/step - loss: 2.1906 - categorical_accuracy: 0.5070 - f1_m: 0.0019 - val_loss: 2.7466 - val_categorical_accuracy: 0.3844 - val_f1_m: 0.0000e+00 - lr: 0.0010\n",
      "Epoch 18/20\n",
      "424/424 [==============================] - 3s 8ms/step - loss: 2.1941 - categorical_accuracy: 0.5081 - f1_m: 0.0025 - val_loss: 2.7465 - val_categorical_accuracy: 0.4053 - val_f1_m: 0.0000e+00 - lr: 0.0010\n",
      "Epoch 19/20\n",
      "424/424 [==============================] - 3s 8ms/step - loss: 2.1849 - categorical_accuracy: 0.5102 - f1_m: 0.0024 - val_loss: 2.7444 - val_categorical_accuracy: 0.3971 - val_f1_m: 0.0000e+00 - lr: 0.0010\n",
      "Epoch 20/20\n",
      "424/424 [==============================] - 3s 8ms/step - loss: 2.1785 - categorical_accuracy: 0.5065 - f1_m: 0.0033 - val_loss: 2.7424 - val_categorical_accuracy: 0.4186 - val_f1_m: 0.0000e+00 - lr: 0.0010\n",
      "Train: accuracy = 50.68%, loss = 2.26%, f1 score = 0.00%\n",
      "Test: accuracy = 48.45%, loss = 2.34%, f1 score = 0.00%\n",
      "Epoch 1/20\n",
      "424/424 [==============================] - 3s 7ms/step - loss: 2.1891 - categorical_accuracy: 0.5041 - f1_m: 0.0025 - val_loss: 2.7388 - val_categorical_accuracy: 0.4044 - val_f1_m: 0.0000e+00 - lr: 0.0010\n",
      "Epoch 2/20\n",
      "424/424 [==============================] - 3s 6ms/step - loss: 2.1876 - categorical_accuracy: 0.5042 - f1_m: 0.0029 - val_loss: 2.7387 - val_categorical_accuracy: 0.4075 - val_f1_m: 0.0000e+00 - lr: 0.0010\n",
      "Epoch 3/20\n",
      "424/424 [==============================] - 3s 6ms/step - loss: 2.1774 - categorical_accuracy: 0.5092 - f1_m: 0.0023 - val_loss: 2.7347 - val_categorical_accuracy: 0.4048 - val_f1_m: 0.0000e+00 - lr: 0.0010\n",
      "Epoch 4/20\n",
      "424/424 [==============================] - 3s 6ms/step - loss: 2.1716 - categorical_accuracy: 0.5095 - f1_m: 0.0030 - val_loss: 2.7344 - val_categorical_accuracy: 0.3893 - val_f1_m: 0.0000e+00 - lr: 0.0010\n",
      "Epoch 5/20\n",
      "424/424 [==============================] - 3s 6ms/step - loss: 2.1652 - categorical_accuracy: 0.5059 - f1_m: 0.0026 - val_loss: 2.7321 - val_categorical_accuracy: 0.4241 - val_f1_m: 0.0000e+00 - lr: 0.0010\n",
      "Epoch 6/20\n",
      "424/424 [==============================] - 3s 6ms/step - loss: 2.1620 - categorical_accuracy: 0.5093 - f1_m: 0.0032 - val_loss: 2.7347 - val_categorical_accuracy: 0.3982 - val_f1_m: 0.0000e+00 - lr: 0.0010\n",
      "Epoch 7/20\n",
      "424/424 [==============================] - 3s 6ms/step - loss: 2.1585 - categorical_accuracy: 0.5085 - f1_m: 0.0035 - val_loss: 2.7293 - val_categorical_accuracy: 0.4037 - val_f1_m: 0.0000e+00 - lr: 0.0010\n",
      "Epoch 8/20\n",
      "424/424 [==============================] - 3s 6ms/step - loss: 2.1506 - categorical_accuracy: 0.5128 - f1_m: 0.0035 - val_loss: 2.7315 - val_categorical_accuracy: 0.3929 - val_f1_m: 0.0000e+00 - lr: 0.0010\n",
      "Epoch 9/20\n",
      "424/424 [==============================] - 3s 6ms/step - loss: 2.1426 - categorical_accuracy: 0.5121 - f1_m: 0.0030 - val_loss: 2.7285 - val_categorical_accuracy: 0.4325 - val_f1_m: 0.0000e+00 - lr: 0.0010\n",
      "Epoch 10/20\n",
      "424/424 [==============================] - 3s 6ms/step - loss: 2.1411 - categorical_accuracy: 0.5113 - f1_m: 0.0038 - val_loss: 2.7291 - val_categorical_accuracy: 0.3856 - val_f1_m: 0.0000e+00 - lr: 0.0010\n",
      "Epoch 11/20\n",
      "424/424 [==============================] - 3s 6ms/step - loss: 2.1451 - categorical_accuracy: 0.5118 - f1_m: 0.0037 - val_loss: 2.7262 - val_categorical_accuracy: 0.3966 - val_f1_m: 0.0000e+00 - lr: 0.0010\n",
      "Epoch 12/20\n",
      "424/424 [==============================] - 3s 6ms/step - loss: 2.1332 - categorical_accuracy: 0.5119 - f1_m: 0.0039 - val_loss: 2.7262 - val_categorical_accuracy: 0.4210 - val_f1_m: 0.0000e+00 - lr: 0.0010\n",
      "Epoch 13/20\n",
      "424/424 [==============================] - 3s 6ms/step - loss: 2.1310 - categorical_accuracy: 0.5128 - f1_m: 0.0041 - val_loss: 2.7228 - val_categorical_accuracy: 0.3800 - val_f1_m: 0.0000e+00 - lr: 0.0010\n",
      "Epoch 14/20\n",
      "424/424 [==============================] - 3s 6ms/step - loss: 2.1282 - categorical_accuracy: 0.5082 - f1_m: 0.0055 - val_loss: 2.7259 - val_categorical_accuracy: 0.4006 - val_f1_m: 0.0000e+00 - lr: 0.0010\n",
      "Epoch 15/20\n",
      "424/424 [==============================] - 3s 6ms/step - loss: 2.1283 - categorical_accuracy: 0.5079 - f1_m: 0.0048 - val_loss: 2.7235 - val_categorical_accuracy: 0.4161 - val_f1_m: 0.0000e+00 - lr: 0.0010\n",
      "Epoch 16/20\n",
      "424/424 [==============================] - 3s 6ms/step - loss: 2.1225 - categorical_accuracy: 0.5110 - f1_m: 0.0059 - val_loss: 2.7234 - val_categorical_accuracy: 0.3986 - val_f1_m: 0.0000e+00 - lr: 0.0010\n",
      "Epoch 17/20\n",
      "424/424 [==============================] - 3s 6ms/step - loss: 2.1143 - categorical_accuracy: 0.5069 - f1_m: 0.0045 - val_loss: 2.7241 - val_categorical_accuracy: 0.4170 - val_f1_m: 0.0000e+00 - lr: 0.0010\n",
      "Train: accuracy = 50.23%, loss = 2.20%, f1 score = 0.00%\n",
      "Test: accuracy = 50.25%, loss = 2.26%, f1 score = 0.00%\n",
      "Epoch 1/20\n",
      "424/424 [==============================] - 3s 6ms/step - loss: 2.1261 - categorical_accuracy: 0.5109 - f1_m: 0.0062 - val_loss: 2.7243 - val_categorical_accuracy: 0.4711 - val_f1_m: 0.0000e+00 - lr: 0.0010\n",
      "Epoch 2/20\n",
      "424/424 [==============================] - 3s 6ms/step - loss: 2.1244 - categorical_accuracy: 0.5119 - f1_m: 0.0062 - val_loss: 2.7219 - val_categorical_accuracy: 0.4150 - val_f1_m: 0.0000e+00 - lr: 0.0010\n",
      "Epoch 3/20\n",
      "424/424 [==============================] - 3s 6ms/step - loss: 2.1138 - categorical_accuracy: 0.5102 - f1_m: 0.0069 - val_loss: 2.7240 - val_categorical_accuracy: 0.4039 - val_f1_m: 0.0000e+00 - lr: 0.0010\n",
      "Epoch 4/20\n",
      "424/424 [==============================] - 3s 6ms/step - loss: 2.1197 - categorical_accuracy: 0.5131 - f1_m: 0.0060 - val_loss: 2.7245 - val_categorical_accuracy: 0.3986 - val_f1_m: 0.0000e+00 - lr: 0.0010\n",
      "Epoch 5/20\n",
      "424/424 [==============================] - 3s 6ms/step - loss: 2.1132 - categorical_accuracy: 0.5100 - f1_m: 0.0067 - val_loss: 2.7250 - val_categorical_accuracy: 0.4525 - val_f1_m: 0.0000e+00 - lr: 0.0010\n",
      "Epoch 6/20\n",
      "424/424 [==============================] - 3s 7ms/step - loss: 2.1098 - categorical_accuracy: 0.5118 - f1_m: 0.0066 - val_loss: 2.7204 - val_categorical_accuracy: 0.3723 - val_f1_m: 0.0000e+00 - lr: 0.0010\n",
      "Epoch 7/20\n",
      "424/424 [==============================] - 3s 7ms/step - loss: 2.1116 - categorical_accuracy: 0.5127 - f1_m: 0.0068 - val_loss: 2.7184 - val_categorical_accuracy: 0.4011 - val_f1_m: 0.0000e+00 - lr: 0.0010\n",
      "Epoch 8/20\n",
      "424/424 [==============================] - 3s 6ms/step - loss: 2.1054 - categorical_accuracy: 0.5071 - f1_m: 0.0067 - val_loss: 2.7170 - val_categorical_accuracy: 0.4396 - val_f1_m: 0.0000e+00 - lr: 0.0010\n",
      "Epoch 9/20\n",
      "424/424 [==============================] - 3s 6ms/step - loss: 2.1001 - categorical_accuracy: 0.5095 - f1_m: 0.0078 - val_loss: 2.7202 - val_categorical_accuracy: 0.4035 - val_f1_m: 0.0000e+00 - lr: 0.0010\n",
      "Epoch 10/20\n",
      "424/424 [==============================] - 3s 8ms/step - loss: 2.0941 - categorical_accuracy: 0.5083 - f1_m: 0.0089 - val_loss: 2.7169 - val_categorical_accuracy: 0.4192 - val_f1_m: 0.0000e+00 - lr: 0.0010\n",
      "Epoch 11/20\n",
      "424/424 [==============================] - 3s 8ms/step - loss: 2.0947 - categorical_accuracy: 0.5069 - f1_m: 0.0077 - val_loss: 2.7161 - val_categorical_accuracy: 0.4587 - val_f1_m: 0.0000e+00 - lr: 0.0010\n",
      "Epoch 12/20\n",
      "424/424 [==============================] - 3s 8ms/step - loss: 2.0936 - categorical_accuracy: 0.5081 - f1_m: 0.0076 - val_loss: 2.7150 - val_categorical_accuracy: 0.3884 - val_f1_m: 0.0000e+00 - lr: 0.0010\n",
      "Epoch 13/20\n",
      "424/424 [==============================] - 3s 8ms/step - loss: 2.0846 - categorical_accuracy: 0.5086 - f1_m: 0.0078 - val_loss: 2.7135 - val_categorical_accuracy: 0.4270 - val_f1_m: 0.0000e+00 - lr: 0.0010\n",
      "Epoch 14/20\n",
      "424/424 [==============================] - 3s 8ms/step - loss: 2.0819 - categorical_accuracy: 0.5100 - f1_m: 0.0084 - val_loss: 2.7164 - val_categorical_accuracy: 0.3929 - val_f1_m: 0.0000e+00 - lr: 0.0010\n",
      "Epoch 15/20\n",
      "424/424 [==============================] - 3s 8ms/step - loss: 2.0735 - categorical_accuracy: 0.5115 - f1_m: 0.0088 - val_loss: 2.7156 - val_categorical_accuracy: 0.4454 - val_f1_m: 0.0000e+00 - lr: 0.0010\n",
      "Epoch 16/20\n",
      "424/424 [==============================] - 3s 8ms/step - loss: 2.0759 - categorical_accuracy: 0.5080 - f1_m: 0.0092 - val_loss: 2.7173 - val_categorical_accuracy: 0.4507 - val_f1_m: 0.0000e+00 - lr: 0.0010\n",
      "Epoch 17/20\n",
      "424/424 [==============================] - 3s 8ms/step - loss: 2.0728 - categorical_accuracy: 0.5092 - f1_m: 0.0092 - val_loss: 2.7135 - val_categorical_accuracy: 0.4372 - val_f1_m: 0.0000e+00 - lr: 0.0010\n",
      "Epoch 18/20\n",
      "424/424 [==============================] - 3s 8ms/step - loss: 2.0728 - categorical_accuracy: 0.5078 - f1_m: 0.0084 - val_loss: 2.7128 - val_categorical_accuracy: 0.4228 - val_f1_m: 0.0000e+00 - lr: 0.0010\n",
      "Epoch 19/20\n",
      "424/424 [==============================] - 4s 9ms/step - loss: 2.0671 - categorical_accuracy: 0.5134 - f1_m: 0.0105 - val_loss: 2.7149 - val_categorical_accuracy: 0.4106 - val_f1_m: 4.3337e-04 - lr: 0.0010\n",
      "Epoch 20/20\n",
      "424/424 [==============================] - 4s 10ms/step - loss: 2.0682 - categorical_accuracy: 0.5082 - f1_m: 0.0106 - val_loss: 2.7129 - val_categorical_accuracy: 0.4299 - val_f1_m: 4.3337e-04 - lr: 0.0010\n",
      "Train: accuracy = 51.14%, loss = 2.15%, f1 score = 0.09%\n",
      "Test: accuracy = 51.47%, loss = 2.18%, f1 score = 0.05%\n",
      "Epoch 1/20\n",
      "424/424 [==============================] - 3s 7ms/step - loss: 2.0780 - categorical_accuracy: 0.5046 - f1_m: 0.0092 - val_loss: 2.6928 - val_categorical_accuracy: 0.4283 - val_f1_m: 0.0000e+00 - lr: 0.0010\n",
      "Epoch 2/20\n",
      "424/424 [==============================] - 3s 6ms/step - loss: 2.0711 - categorical_accuracy: 0.5064 - f1_m: 0.0098 - val_loss: 2.6890 - val_categorical_accuracy: 0.4048 - val_f1_m: 0.0000e+00 - lr: 0.0010\n",
      "Epoch 3/20\n",
      "424/424 [==============================] - 3s 6ms/step - loss: 2.0689 - categorical_accuracy: 0.5074 - f1_m: 0.0102 - val_loss: 2.6896 - val_categorical_accuracy: 0.4786 - val_f1_m: 0.0000e+00 - lr: 0.0010\n",
      "Epoch 4/20\n",
      "424/424 [==============================] - 3s 6ms/step - loss: 2.0642 - categorical_accuracy: 0.5070 - f1_m: 0.0109 - val_loss: 2.6906 - val_categorical_accuracy: 0.4066 - val_f1_m: 0.0000e+00 - lr: 0.0010\n",
      "Epoch 5/20\n",
      "424/424 [==============================] - 3s 6ms/step - loss: 2.0622 - categorical_accuracy: 0.5095 - f1_m: 0.0112 - val_loss: 2.6906 - val_categorical_accuracy: 0.4055 - val_f1_m: 4.3337e-04 - lr: 0.0010\n",
      "Epoch 6/20\n",
      "424/424 [==============================] - 3s 6ms/step - loss: 2.0560 - categorical_accuracy: 0.5114 - f1_m: 0.0112 - val_loss: 2.6899 - val_categorical_accuracy: 0.4573 - val_f1_m: 4.3337e-04 - lr: 0.0010\n",
      "Train: accuracy = 53.73%, loss = 2.14%, f1 score = 0.08%\n",
      "Test: accuracy = 54.11%, loss = 2.17%, f1 score = 0.10%\n",
      "Epoch 1/20\n",
      "424/424 [==============================] - 3s 7ms/step - loss: 2.0575 - categorical_accuracy: 0.5079 - f1_m: 0.0102 - val_loss: 2.6949 - val_categorical_accuracy: 0.3942 - val_f1_m: 0.0000e+00 - lr: 0.0010\n",
      "Epoch 2/20\n",
      "424/424 [==============================] - 3s 6ms/step - loss: 2.0635 - categorical_accuracy: 0.5113 - f1_m: 0.0106 - val_loss: 2.6941 - val_categorical_accuracy: 0.4146 - val_f1_m: 4.3337e-04 - lr: 0.0010\n",
      "Epoch 3/20\n",
      "424/424 [==============================] - 3s 7ms/step - loss: 2.0540 - categorical_accuracy: 0.5115 - f1_m: 0.0112 - val_loss: 2.6925 - val_categorical_accuracy: 0.3796 - val_f1_m: 0.0000e+00 - lr: 0.0010\n",
      "Epoch 4/20\n",
      "424/424 [==============================] - 3s 6ms/step - loss: 2.0524 - categorical_accuracy: 0.5075 - f1_m: 0.0101 - val_loss: 2.6914 - val_categorical_accuracy: 0.4354 - val_f1_m: 0.0000e+00 - lr: 0.0010\n",
      "Epoch 5/20\n",
      "424/424 [==============================] - 3s 6ms/step - loss: 2.0452 - categorical_accuracy: 0.5110 - f1_m: 0.0118 - val_loss: 2.6934 - val_categorical_accuracy: 0.3962 - val_f1_m: 4.3337e-04 - lr: 0.0010\n",
      "Epoch 6/20\n",
      "424/424 [==============================] - 3s 6ms/step - loss: 2.0436 - categorical_accuracy: 0.5091 - f1_m: 0.0133 - val_loss: 2.6913 - val_categorical_accuracy: 0.4421 - val_f1_m: 4.3337e-04 - lr: 0.0010\n",
      "Epoch 7/20\n",
      "424/424 [==============================] - 3s 6ms/step - loss: 2.0434 - categorical_accuracy: 0.5131 - f1_m: 0.0137 - val_loss: 2.6926 - val_categorical_accuracy: 0.3957 - val_f1_m: 8.5361e-04 - lr: 0.0010\n",
      "Epoch 8/20\n",
      "424/424 [==============================] - 3s 6ms/step - loss: 2.0384 - categorical_accuracy: 0.5090 - f1_m: 0.0128 - val_loss: 2.6913 - val_categorical_accuracy: 0.4192 - val_f1_m: 8.5361e-04 - lr: 0.0010\n",
      "Epoch 9/20\n",
      "424/424 [==============================] - 3s 6ms/step - loss: 2.0395 - categorical_accuracy: 0.5129 - f1_m: 0.0129 - val_loss: 2.6920 - val_categorical_accuracy: 0.4862 - val_f1_m: 4.3337e-04 - lr: 0.0010\n",
      "Epoch 10/20\n",
      "424/424 [==============================] - 3s 6ms/step - loss: 2.0373 - categorical_accuracy: 0.5108 - f1_m: 0.0132 - val_loss: 2.6947 - val_categorical_accuracy: 0.4212 - val_f1_m: 8.5361e-04 - lr: 0.0010\n",
      "Epoch 11/20\n",
      "424/424 [==============================] - 3s 6ms/step - loss: 2.0312 - categorical_accuracy: 0.5128 - f1_m: 0.0153 - val_loss: 2.6920 - val_categorical_accuracy: 0.4376 - val_f1_m: 0.0013 - lr: 0.0010\n",
      "Epoch 12/20\n",
      "424/424 [==============================] - 3s 6ms/step - loss: 2.0281 - categorical_accuracy: 0.5126 - f1_m: 0.0155 - val_loss: 2.6910 - val_categorical_accuracy: 0.4146 - val_f1_m: 8.5361e-04 - lr: 0.0010\n",
      "Epoch 13/20\n",
      "424/424 [==============================] - 3s 6ms/step - loss: 2.0258 - categorical_accuracy: 0.5115 - f1_m: 0.0168 - val_loss: 2.6919 - val_categorical_accuracy: 0.4476 - val_f1_m: 0.0013 - lr: 0.0010\n",
      "Epoch 14/20\n",
      "424/424 [==============================] - 3s 6ms/step - loss: 2.0274 - categorical_accuracy: 0.5158 - f1_m: 0.0165 - val_loss: 2.6943 - val_categorical_accuracy: 0.4323 - val_f1_m: 0.0017 - lr: 0.0010\n",
      "Epoch 15/20\n",
      "424/424 [==============================] - 3s 6ms/step - loss: 2.0209 - categorical_accuracy: 0.5093 - f1_m: 0.0176 - val_loss: 2.6915 - val_categorical_accuracy: 0.4363 - val_f1_m: 0.0013 - lr: 0.0010\n",
      "Epoch 16/20\n",
      "424/424 [==============================] - 3s 6ms/step - loss: 2.0168 - categorical_accuracy: 0.5151 - f1_m: 0.0170 - val_loss: 2.6934 - val_categorical_accuracy: 0.4316 - val_f1_m: 0.0022 - lr: 0.0010\n",
      "Train: accuracy = 50.48%, loss = 2.11%, f1 score = 0.22%\n",
      "Test: accuracy = 48.98%, loss = 2.15%, f1 score = 0.39%\n",
      "Epoch 1/20\n",
      "424/424 [==============================] - 3s 6ms/step - loss: 2.0248 - categorical_accuracy: 0.5161 - f1_m: 0.0165 - val_loss: 2.7109 - val_categorical_accuracy: 0.4075 - val_f1_m: 8.5361e-04 - lr: 0.0010\n",
      "Epoch 2/20\n",
      "424/424 [==============================] - 3s 6ms/step - loss: 2.0216 - categorical_accuracy: 0.5109 - f1_m: 0.0171 - val_loss: 2.7108 - val_categorical_accuracy: 0.3995 - val_f1_m: 0.0013 - lr: 0.0010\n",
      "Epoch 3/20\n",
      "424/424 [==============================] - 3s 6ms/step - loss: 2.0209 - categorical_accuracy: 0.5108 - f1_m: 0.0194 - val_loss: 2.7107 - val_categorical_accuracy: 0.4460 - val_f1_m: 0.0013 - lr: 0.0010\n",
      "Epoch 4/20\n",
      "424/424 [==============================] - 3s 6ms/step - loss: 2.0166 - categorical_accuracy: 0.5083 - f1_m: 0.0203 - val_loss: 2.7101 - val_categorical_accuracy: 0.4011 - val_f1_m: 0.0019 - lr: 0.0010\n",
      "Epoch 5/20\n",
      "424/424 [==============================] - 3s 6ms/step - loss: 2.0140 - categorical_accuracy: 0.5086 - f1_m: 0.0192 - val_loss: 2.7106 - val_categorical_accuracy: 0.4334 - val_f1_m: 0.0019 - lr: 0.0010\n",
      "Epoch 6/20\n",
      "424/424 [==============================] - 3s 6ms/step - loss: 2.0174 - categorical_accuracy: 0.5093 - f1_m: 0.0183 - val_loss: 2.7099 - val_categorical_accuracy: 0.4325 - val_f1_m: 0.0017 - lr: 0.0010\n",
      "Epoch 7/20\n",
      "424/424 [==============================] - 3s 6ms/step - loss: 2.0081 - categorical_accuracy: 0.5117 - f1_m: 0.0219 - val_loss: 2.7115 - val_categorical_accuracy: 0.4161 - val_f1_m: 0.0024 - lr: 0.0010\n",
      "Epoch 8/20\n",
      "424/424 [==============================] - 3s 6ms/step - loss: 2.0081 - categorical_accuracy: 0.5122 - f1_m: 0.0222 - val_loss: 2.7110 - val_categorical_accuracy: 0.4345 - val_f1_m: 0.0024 - lr: 0.0010\n",
      "Epoch 9/20\n",
      "424/424 [==============================] - 3s 6ms/step - loss: 2.0007 - categorical_accuracy: 0.5065 - f1_m: 0.0232 - val_loss: 2.7118 - val_categorical_accuracy: 0.4263 - val_f1_m: 0.0024 - lr: 0.0010\n",
      "Epoch 10/20\n",
      "424/424 [==============================] - 3s 6ms/step - loss: 1.9977 - categorical_accuracy: 0.5103 - f1_m: 0.0223 - val_loss: 2.7121 - val_categorical_accuracy: 0.4394 - val_f1_m: 0.0024 - lr: 0.0010\n",
      "Train: accuracy = 51.75%, loss = 2.10%, f1 score = 0.31%\n",
      "Test: accuracy = 50.52%, loss = 2.07%, f1 score = 0.53%\n",
      "Average baseline metrics for Baseline Model: {'Train': {'accuracy': '49.8%', 'loss': '2.37%', 'f1_score': '0.0%'}, 'Test': {'accuracy': '48.2%', 'loss': '2.43%', 'f1_score': '0.1%'}}\n",
      "Training LSTM Model\n",
      "Epoch 1/20\n",
      "424/424 [==============================] - 5s 13ms/step - loss: 4.0752 - categorical_accuracy: 0.2763 - f1_m: 0.3737 - val_loss: 3.8564 - val_categorical_accuracy: 0.3898 - val_f1_m: 0.4504 - lr: 0.0010\n",
      "Epoch 2/20\n",
      "424/424 [==============================] - 5s 11ms/step - loss: 3.3195 - categorical_accuracy: 0.5382 - f1_m: 0.4063 - val_loss: 3.1290 - val_categorical_accuracy: 0.4924 - val_f1_m: 0.2882 - lr: 0.0010\n",
      "Epoch 3/20\n",
      "424/424 [==============================] - 5s 12ms/step - loss: 2.7474 - categorical_accuracy: 0.5770 - f1_m: 0.3076 - val_loss: 2.7885 - val_categorical_accuracy: 0.5537 - val_f1_m: 0.3153 - lr: 0.0010\n",
      "Epoch 4/20\n",
      "424/424 [==============================] - 5s 12ms/step - loss: 2.4290 - categorical_accuracy: 0.6083 - f1_m: 0.3294 - val_loss: 2.7535 - val_categorical_accuracy: 0.5298 - val_f1_m: 0.3521 - lr: 0.0010\n",
      "Epoch 5/20\n",
      "424/424 [==============================] - 5s 12ms/step - loss: 2.1804 - categorical_accuracy: 0.6363 - f1_m: 0.3627 - val_loss: 2.7210 - val_categorical_accuracy: 0.4897 - val_f1_m: 0.3650 - lr: 0.0010\n",
      "Epoch 6/20\n",
      "424/424 [==============================] - 5s 12ms/step - loss: 2.0113 - categorical_accuracy: 0.6368 - f1_m: 0.3867 - val_loss: 2.9017 - val_categorical_accuracy: 0.5497 - val_f1_m: 0.4007 - lr: 0.0010\n",
      "Epoch 7/20\n",
      "424/424 [==============================] - 5s 12ms/step - loss: 1.8902 - categorical_accuracy: 0.6187 - f1_m: 0.4181 - val_loss: 2.8133 - val_categorical_accuracy: 0.6291 - val_f1_m: 0.4614 - lr: 0.0010\n",
      "Epoch 8/20\n",
      "424/424 [==============================] - 5s 11ms/step - loss: 1.8011 - categorical_accuracy: 0.6097 - f1_m: 0.4920 - val_loss: 3.0383 - val_categorical_accuracy: 0.5061 - val_f1_m: 0.4896 - lr: 0.0010\n",
      "Epoch 9/20\n",
      "424/424 [==============================] - 5s 12ms/step - loss: 1.7238 - categorical_accuracy: 0.6015 - f1_m: 0.5604 - val_loss: 2.9968 - val_categorical_accuracy: 0.5511 - val_f1_m: 0.5877 - lr: 0.0010\n",
      "Train: accuracy = 59.92%, loss = 1.93%, f1 score = 64.69%\n",
      "Test: accuracy = 56.13%, loss = 3.08%, f1 score = 58.85%\n",
      "Epoch 1/20\n",
      "424/424 [==============================] - 5s 12ms/step - loss: 1.8195 - categorical_accuracy: 0.5800 - f1_m: 0.5812 - val_loss: 2.7403 - val_categorical_accuracy: 0.5070 - val_f1_m: 0.5970 - lr: 0.0010\n",
      "Epoch 2/20\n",
      "424/424 [==============================] - 5s 12ms/step - loss: 1.6948 - categorical_accuracy: 0.5941 - f1_m: 0.6731 - val_loss: 2.8679 - val_categorical_accuracy: 0.5101 - val_f1_m: 0.6500 - lr: 0.0010\n",
      "Epoch 3/20\n",
      "424/424 [==============================] - 5s 12ms/step - loss: 1.6071 - categorical_accuracy: 0.5862 - f1_m: 0.7598 - val_loss: 2.9243 - val_categorical_accuracy: 0.5240 - val_f1_m: 0.7023 - lr: 0.0010\n",
      "Epoch 4/20\n",
      "424/424 [==============================] - 5s 12ms/step - loss: 1.5688 - categorical_accuracy: 0.5684 - f1_m: 0.8022 - val_loss: 2.9800 - val_categorical_accuracy: 0.4884 - val_f1_m: 0.7311 - lr: 0.0010\n",
      "Epoch 5/20\n",
      "424/424 [==============================] - 5s 12ms/step - loss: 1.5692 - categorical_accuracy: 0.5540 - f1_m: 0.8481 - val_loss: 2.8754 - val_categorical_accuracy: 0.5017 - val_f1_m: 0.7360 - lr: 0.0010\n",
      "Train: accuracy = 52.83%, loss = 1.84%, f1 score = 83.68%\n",
      "Test: accuracy = 53.14%, loss = 2.06%, f1 score = 79.04%\n",
      "Epoch 1/20\n",
      "424/424 [==============================] - 5s 12ms/step - loss: 1.5674 - categorical_accuracy: 0.5437 - f1_m: 0.8635 - val_loss: 3.0860 - val_categorical_accuracy: 0.5243 - val_f1_m: 0.7627 - lr: 0.0010\n",
      "Epoch 2/20\n",
      "424/424 [==============================] - 5s 12ms/step - loss: 1.5208 - categorical_accuracy: 0.5256 - f1_m: 0.8881 - val_loss: 3.0008 - val_categorical_accuracy: 0.5088 - val_f1_m: 0.7767 - lr: 0.0010\n",
      "Epoch 3/20\n",
      "424/424 [==============================] - 5s 11ms/step - loss: 1.5637 - categorical_accuracy: 0.5325 - f1_m: 0.8763 - val_loss: 3.0475 - val_categorical_accuracy: 0.5586 - val_f1_m: 0.7939 - lr: 0.0010\n",
      "Epoch 4/20\n",
      "424/424 [==============================] - 5s 12ms/step - loss: 1.4657 - categorical_accuracy: 0.5441 - f1_m: 0.9365 - val_loss: 3.1095 - val_categorical_accuracy: 0.4516 - val_f1_m: 0.7806 - lr: 0.0010\n",
      "Epoch 5/20\n",
      "424/424 [==============================] - 5s 12ms/step - loss: 1.4536 - categorical_accuracy: 0.5257 - f1_m: 0.9414 - val_loss: 3.1364 - val_categorical_accuracy: 0.6018 - val_f1_m: 0.8064 - lr: 0.0010\n",
      "Epoch 6/20\n",
      "424/424 [==============================] - 5s 11ms/step - loss: 1.4649 - categorical_accuracy: 0.5499 - f1_m: 0.9502 - val_loss: 3.1290 - val_categorical_accuracy: 0.5302 - val_f1_m: 0.8048 - lr: 0.0010\n",
      "Train: accuracy = 52.39%, loss = 1.84%, f1 score = 93.11%\n",
      "Test: accuracy = 57.53%, loss = 2.02%, f1 score = 88.66%\n",
      "Epoch 1/20\n",
      "424/424 [==============================] - 5s 12ms/step - loss: 1.4903 - categorical_accuracy: 0.5646 - f1_m: 0.9425 - val_loss: 2.9332 - val_categorical_accuracy: 0.6023 - val_f1_m: 0.8101 - lr: 0.0010\n",
      "Epoch 2/20\n",
      "424/424 [==============================] - 5s 11ms/step - loss: 1.4502 - categorical_accuracy: 0.5412 - f1_m: 0.9588 - val_loss: 3.1056 - val_categorical_accuracy: 0.5799 - val_f1_m: 0.8095 - lr: 0.0010\n",
      "Epoch 3/20\n",
      "424/424 [==============================] - 5s 12ms/step - loss: 1.4557 - categorical_accuracy: 0.5361 - f1_m: 0.9632 - val_loss: 3.2747 - val_categorical_accuracy: 0.5367 - val_f1_m: 0.8100 - lr: 0.0010\n",
      "Epoch 4/20\n",
      "424/424 [==============================] - 5s 12ms/step - loss: 1.4435 - categorical_accuracy: 0.5113 - f1_m: 0.9704 - val_loss: 3.2170 - val_categorical_accuracy: 0.4130 - val_f1_m: 0.8224 - lr: 0.0010\n",
      "Epoch 5/20\n",
      "424/424 [==============================] - 5s 11ms/step - loss: 1.4247 - categorical_accuracy: 0.4783 - f1_m: 0.9754 - val_loss: 3.4337 - val_categorical_accuracy: 0.5034 - val_f1_m: 0.8111 - lr: 0.0010\n",
      "Train: accuracy = 49.21%, loss = 1.91%, f1 score = 94.44%\n",
      "Test: accuracy = 53.09%, loss = 1.96%, f1 score = 92.65%\n",
      "Epoch 1/20\n",
      "424/424 [==============================] - 5s 13ms/step - loss: 1.4484 - categorical_accuracy: 0.4858 - f1_m: 0.9711 - val_loss: 3.1710 - val_categorical_accuracy: 0.4139 - val_f1_m: 0.8160 - lr: 0.0010\n",
      "Epoch 2/20\n",
      "424/424 [==============================] - 5s 12ms/step - loss: 1.4276 - categorical_accuracy: 0.5365 - f1_m: 0.9787 - val_loss: 3.2885 - val_categorical_accuracy: 0.5380 - val_f1_m: 0.8191 - lr: 0.0010\n",
      "Epoch 3/20\n",
      "424/424 [==============================] - 5s 11ms/step - loss: 1.4216 - categorical_accuracy: 0.5447 - f1_m: 0.9839 - val_loss: 3.1993 - val_categorical_accuracy: 0.4879 - val_f1_m: 0.8190 - lr: 0.0010\n",
      "Epoch 4/20\n",
      "424/424 [==============================] - 5s 12ms/step - loss: 1.4259 - categorical_accuracy: 0.4647 - f1_m: 0.9812 - val_loss: 3.3409 - val_categorical_accuracy: 0.4660 - val_f1_m: 0.8155 - lr: 0.0010\n",
      "Epoch 5/20\n",
      "424/424 [==============================] - 5s 12ms/step - loss: 1.4211 - categorical_accuracy: 0.4808 - f1_m: 0.9847 - val_loss: 3.4318 - val_categorical_accuracy: 0.4206 - val_f1_m: 0.8223 - lr: 0.0010\n",
      "Train: accuracy = 38.52%, loss = 1.90%, f1 score = 95.22%\n",
      "Test: accuracy = 42.87%, loss = 1.86%, f1 score = 94.41%\n",
      "Epoch 1/20\n",
      "424/424 [==============================] - 5s 12ms/step - loss: 1.4280 - categorical_accuracy: 0.3876 - f1_m: 0.9826 - val_loss: 3.1942 - val_categorical_accuracy: 0.3532 - val_f1_m: 0.8208 - lr: 0.0010\n",
      "Epoch 2/20\n",
      "424/424 [==============================] - 5s 12ms/step - loss: 1.4110 - categorical_accuracy: 0.5212 - f1_m: 0.9890 - val_loss: 3.4360 - val_categorical_accuracy: 0.4591 - val_f1_m: 0.8258 - lr: 0.0010\n",
      "Epoch 3/20\n",
      "424/424 [==============================] - 5s 11ms/step - loss: 1.4107 - categorical_accuracy: 0.4948 - f1_m: 0.9894 - val_loss: 3.4400 - val_categorical_accuracy: 0.4237 - val_f1_m: 0.8187 - lr: 0.0010\n",
      "Epoch 4/20\n",
      "424/424 [==============================] - 5s 11ms/step - loss: 1.4190 - categorical_accuracy: 0.4219 - f1_m: 0.9882 - val_loss: 3.6250 - val_categorical_accuracy: 0.3330 - val_f1_m: 0.8203 - lr: 0.0010\n",
      "Epoch 5/20\n",
      "424/424 [==============================] - 5s 11ms/step - loss: 1.4202 - categorical_accuracy: 0.4236 - f1_m: 0.9884 - val_loss: 3.4387 - val_categorical_accuracy: 0.4935 - val_f1_m: 0.8172 - lr: 0.0010\n",
      "Train: accuracy = 46.99%, loss = 1.91%, f1 score = 94.99%\n",
      "Test: accuracy = 50.15%, loss = 1.91%, f1 score = 93.67%\n",
      "Epoch 1/20\n",
      "424/424 [==============================] - 5s 12ms/step - loss: 1.4253 - categorical_accuracy: 0.3784 - f1_m: 0.9877 - val_loss: 3.1989 - val_categorical_accuracy: 0.6096 - val_f1_m: 0.8109 - lr: 0.0010\n",
      "Epoch 2/20\n",
      "424/424 [==============================] - 5s 12ms/step - loss: 1.4078 - categorical_accuracy: 0.4781 - f1_m: 0.9923 - val_loss: 3.6421 - val_categorical_accuracy: 0.4334 - val_f1_m: 0.8265 - lr: 0.0010\n",
      "Epoch 3/20\n",
      "424/424 [==============================] - 5s 13ms/step - loss: 1.4147 - categorical_accuracy: 0.4655 - f1_m: 0.9915 - val_loss: 3.5637 - val_categorical_accuracy: 0.5571 - val_f1_m: 0.8207 - lr: 0.0010\n",
      "Epoch 4/20\n",
      "424/424 [==============================] - 5s 12ms/step - loss: 1.4131 - categorical_accuracy: 0.4611 - f1_m: 0.9909 - val_loss: 3.4701 - val_categorical_accuracy: 0.4128 - val_f1_m: 0.8155 - lr: 0.0010\n",
      "Epoch 5/20\n",
      "424/424 [==============================] - 5s 12ms/step - loss: 1.4128 - categorical_accuracy: 0.4380 - f1_m: 0.9906 - val_loss: 3.5689 - val_categorical_accuracy: 0.3900 - val_f1_m: 0.8237 - lr: 0.0010\n",
      "Train: accuracy = 38.08%, loss = 1.93%, f1 score = 95.42%\n",
      "Test: accuracy = 40.90%, loss = 1.85%, f1 score = 95.56%\n",
      "Epoch 1/20\n",
      "424/424 [==============================] - 5s 12ms/step - loss: 1.4148 - categorical_accuracy: 0.4129 - f1_m: 0.9901 - val_loss: 3.5049 - val_categorical_accuracy: 0.4277 - val_f1_m: 0.8261 - lr: 0.0010\n",
      "Epoch 2/20\n",
      "424/424 [==============================] - 5s 11ms/step - loss: 1.4043 - categorical_accuracy: 0.4238 - f1_m: 0.9939 - val_loss: 3.5994 - val_categorical_accuracy: 0.5076 - val_f1_m: 0.8236 - lr: 0.0010\n",
      "Epoch 3/20\n",
      "424/424 [==============================] - 5s 12ms/step - loss: 1.3976 - categorical_accuracy: 0.3808 - f1_m: 0.9965 - val_loss: 3.5874 - val_categorical_accuracy: 0.5238 - val_f1_m: 0.8253 - lr: 0.0010\n",
      "Epoch 4/20\n",
      "424/424 [==============================] - 5s 11ms/step - loss: 1.4100 - categorical_accuracy: 0.4374 - f1_m: 0.9930 - val_loss: 3.5331 - val_categorical_accuracy: 0.3559 - val_f1_m: 0.8351 - lr: 0.0010\n",
      "Epoch 5/20\n",
      "424/424 [==============================] - 5s 12ms/step - loss: 1.4050 - categorical_accuracy: 0.4298 - f1_m: 0.9941 - val_loss: 3.3776 - val_categorical_accuracy: 0.3419 - val_f1_m: 0.8238 - lr: 0.0010\n",
      "Epoch 6/20\n",
      "424/424 [==============================] - 5s 12ms/step - loss: 1.3995 - categorical_accuracy: 0.4549 - f1_m: 0.9954 - val_loss: 3.6354 - val_categorical_accuracy: 0.4135 - val_f1_m: 0.8304 - lr: 0.0010\n",
      "Epoch 7/20\n",
      "424/424 [==============================] - 5s 12ms/step - loss: 1.3934 - categorical_accuracy: 0.4970 - f1_m: 0.9977 - val_loss: 3.6277 - val_categorical_accuracy: 0.5668 - val_f1_m: 0.8266 - lr: 0.0010\n",
      "Epoch 8/20\n",
      "424/424 [==============================] - 5s 12ms/step - loss: 1.3934 - categorical_accuracy: 0.4567 - f1_m: 0.9974 - val_loss: 3.7178 - val_categorical_accuracy: 0.4970 - val_f1_m: 0.8240 - lr: 0.0010\n",
      "Epoch 9/20\n",
      "424/424 [==============================] - 5s 12ms/step - loss: 1.3930 - categorical_accuracy: 0.4394 - f1_m: 0.9978 - val_loss: 3.7837 - val_categorical_accuracy: 0.3980 - val_f1_m: 0.8233 - lr: 0.0010\n",
      "Train: accuracy = 38.61%, loss = 1.99%, f1 score = 95.47%\n",
      "Test: accuracy = 40.45%, loss = 2.04%, f1 score = 94.83%\n",
      "Epoch 1/20\n",
      "424/424 [==============================] - 5s 12ms/step - loss: 1.4055 - categorical_accuracy: 0.4040 - f1_m: 0.9951 - val_loss: 3.5300 - val_categorical_accuracy: 0.4647 - val_f1_m: 0.8249 - lr: 0.0010\n",
      "Epoch 2/20\n",
      "424/424 [==============================] - 5s 12ms/step - loss: 1.4035 - categorical_accuracy: 0.3566 - f1_m: 0.9949 - val_loss: 3.4117 - val_categorical_accuracy: 0.3142 - val_f1_m: 0.8257 - lr: 0.0010\n",
      "Epoch 3/20\n",
      "424/424 [==============================] - 5s 11ms/step - loss: 1.4004 - categorical_accuracy: 0.4579 - f1_m: 0.9960 - val_loss: 3.4937 - val_categorical_accuracy: 0.5161 - val_f1_m: 0.8283 - lr: 0.0010\n",
      "Epoch 4/20\n",
      "424/424 [==============================] - 5s 11ms/step - loss: 1.3900 - categorical_accuracy: 0.4594 - f1_m: 0.9989 - val_loss: 3.7322 - val_categorical_accuracy: 0.4921 - val_f1_m: 0.8217 - lr: 0.0010\n",
      "Epoch 5/20\n",
      "424/424 [==============================] - 5s 11ms/step - loss: 1.3936 - categorical_accuracy: 0.5466 - f1_m: 0.9978 - val_loss: 3.7928 - val_categorical_accuracy: 0.4990 - val_f1_m: 0.8311 - lr: 0.0010\n",
      "Epoch 6/20\n",
      "424/424 [==============================] - 5s 12ms/step - loss: 1.3971 - categorical_accuracy: 0.4665 - f1_m: 0.9973 - val_loss: 3.7914 - val_categorical_accuracy: 0.4099 - val_f1_m: 0.8318 - lr: 0.0010\n",
      "Train: accuracy = 41.06%, loss = 1.99%, f1 score = 95.69%\n",
      "Test: accuracy = 43.14%, loss = 2.15%, f1 score = 94.73%\n",
      "Epoch 1/20\n",
      "424/424 [==============================] - 5s 12ms/step - loss: 1.4071 - categorical_accuracy: 0.3602 - f1_m: 0.9954 - val_loss: 3.6351 - val_categorical_accuracy: 0.2850 - val_f1_m: 0.8243 - lr: 0.0010\n",
      "Epoch 2/20\n",
      "424/424 [==============================] - 5s 12ms/step - loss: 1.3984 - categorical_accuracy: 0.3666 - f1_m: 0.9964 - val_loss: 3.7612 - val_categorical_accuracy: 0.2799 - val_f1_m: 0.8219 - lr: 0.0010\n",
      "Epoch 3/20\n",
      "424/424 [==============================] - 5s 12ms/step - loss: 1.4024 - categorical_accuracy: 0.4597 - f1_m: 0.9958 - val_loss: 3.6121 - val_categorical_accuracy: 0.3470 - val_f1_m: 0.8217 - lr: 0.0010\n",
      "Epoch 4/20\n",
      "424/424 [==============================] - 5s 12ms/step - loss: 1.3962 - categorical_accuracy: 0.3902 - f1_m: 0.9972 - val_loss: 3.5870 - val_categorical_accuracy: 0.3596 - val_f1_m: 0.8281 - lr: 0.0010\n",
      "Epoch 5/20\n",
      "424/424 [==============================] - 5s 12ms/step - loss: 1.3945 - categorical_accuracy: 0.4149 - f1_m: 0.9982 - val_loss: 3.7864 - val_categorical_accuracy: 0.4472 - val_f1_m: 0.8235 - lr: 0.0010\n",
      "Epoch 6/20\n",
      "424/424 [==============================] - 5s 11ms/step - loss: 1.3946 - categorical_accuracy: 0.5213 - f1_m: 0.9978 - val_loss: 3.8159 - val_categorical_accuracy: 0.6029 - val_f1_m: 0.8248 - lr: 0.0010\n",
      "Epoch 7/20\n",
      "424/424 [==============================] - 5s 12ms/step - loss: 1.3886 - categorical_accuracy: 0.5469 - f1_m: 0.9994 - val_loss: 3.9342 - val_categorical_accuracy: 0.5285 - val_f1_m: 0.8292 - lr: 0.0010\n",
      "Epoch 8/20\n",
      "424/424 [==============================] - 5s 12ms/step - loss: 1.3886 - categorical_accuracy: 0.5681 - f1_m: 0.9993 - val_loss: 4.0270 - val_categorical_accuracy: 0.5353 - val_f1_m: 0.8252 - lr: 0.0010\n",
      "Train: accuracy = 55.06%, loss = 2.05%, f1 score = 95.50%\n",
      "Test: accuracy = 55.76%, loss = 2.02%, f1 score = 95.54%\n",
      "Average baseline metrics for LSTM Model: {'Train': {'accuracy': '47.3%', 'loss': '1.93%', 'f1_score': '90.8%'}, 'Test': {'accuracy': '49.3%', 'loss': '2.09%', 'f1_score': '89.0%'}}\n",
      "Training CNN Model\n",
      "Epoch 1/20\n",
      "424/424 [==============================] - 3s 7ms/step - loss: 4.0857 - categorical_accuracy: 0.1430 - f1_m: 0.3422 - val_loss: 3.7762 - val_categorical_accuracy: 0.2214 - val_f1_m: 0.2023 - lr: 0.0010\n",
      "Epoch 2/20\n",
      "424/424 [==============================] - 3s 7ms/step - loss: 3.2084 - categorical_accuracy: 0.3754 - f1_m: 0.0467 - val_loss: 2.9060 - val_categorical_accuracy: 0.4086 - val_f1_m: 0.0028 - lr: 0.0010\n",
      "Epoch 3/20\n",
      "424/424 [==============================] - 3s 7ms/step - loss: 2.5276 - categorical_accuracy: 0.4434 - f1_m: 0.0164 - val_loss: 2.7060 - val_categorical_accuracy: 0.4649 - val_f1_m: 0.0348 - lr: 0.0010\n",
      "Epoch 4/20\n",
      "424/424 [==============================] - 3s 7ms/step - loss: 2.1500 - categorical_accuracy: 0.4827 - f1_m: 0.0687 - val_loss: 2.6948 - val_categorical_accuracy: 0.4600 - val_f1_m: 0.1129 - lr: 0.0010\n",
      "Epoch 5/20\n",
      "424/424 [==============================] - 3s 7ms/step - loss: 1.8927 - categorical_accuracy: 0.5130 - f1_m: 0.1718 - val_loss: 2.8038 - val_categorical_accuracy: 0.4884 - val_f1_m: 0.2739 - lr: 0.0010\n",
      "Epoch 6/20\n",
      "424/424 [==============================] - 3s 7ms/step - loss: 1.7379 - categorical_accuracy: 0.5293 - f1_m: 0.2975 - val_loss: 2.8786 - val_categorical_accuracy: 0.5790 - val_f1_m: 0.3629 - lr: 0.0010\n",
      "Epoch 7/20\n",
      "424/424 [==============================] - 3s 7ms/step - loss: 1.6513 - categorical_accuracy: 0.5528 - f1_m: 0.3819 - val_loss: 3.0029 - val_categorical_accuracy: 0.4893 - val_f1_m: 0.4589 - lr: 0.0010\n",
      "Epoch 8/20\n",
      "424/424 [==============================] - 3s 7ms/step - loss: 1.5982 - categorical_accuracy: 0.5672 - f1_m: 0.4570 - val_loss: 3.1180 - val_categorical_accuracy: 0.5347 - val_f1_m: 0.5182 - lr: 0.0010\n",
      "Train: accuracy = 57.30%, loss = 1.92%, f1 score = 55.29%\n",
      "Test: accuracy = 55.28%, loss = 3.18%, f1 score = 51.61%\n",
      "Epoch 1/20\n",
      "424/424 [==============================] - 3s 7ms/step - loss: 1.7444 - categorical_accuracy: 0.5650 - f1_m: 0.5062 - val_loss: 2.8551 - val_categorical_accuracy: 0.5923 - val_f1_m: 0.5769 - lr: 0.0010\n",
      "Epoch 2/20\n",
      "424/424 [==============================] - 3s 7ms/step - loss: 1.6273 - categorical_accuracy: 0.5853 - f1_m: 0.5665 - val_loss: 2.8834 - val_categorical_accuracy: 0.6153 - val_f1_m: 0.6141 - lr: 0.0010\n",
      "Epoch 3/20\n",
      "424/424 [==============================] - 3s 7ms/step - loss: 1.5632 - categorical_accuracy: 0.6009 - f1_m: 0.6347 - val_loss: 2.9349 - val_categorical_accuracy: 0.6158 - val_f1_m: 0.6501 - lr: 0.0010\n",
      "Epoch 4/20\n",
      "424/424 [==============================] - 3s 7ms/step - loss: 1.5208 - categorical_accuracy: 0.6030 - f1_m: 0.6986 - val_loss: 3.0257 - val_categorical_accuracy: 0.5803 - val_f1_m: 0.6979 - lr: 0.0010\n",
      "Epoch 5/20\n",
      "424/424 [==============================] - 3s 7ms/step - loss: 1.4951 - categorical_accuracy: 0.6107 - f1_m: 0.7764 - val_loss: 3.0971 - val_categorical_accuracy: 0.6506 - val_f1_m: 0.7440 - lr: 0.0010\n",
      "Train: accuracy = 69.18%, loss = 1.86%, f1 score = 84.46%\n",
      "Test: accuracy = 72.83%, loss = 2.03%, f1 score = 79.89%\n",
      "Epoch 1/20\n",
      "424/424 [==============================] - 3s 7ms/step - loss: 1.5118 - categorical_accuracy: 0.6003 - f1_m: 0.8397 - val_loss: 3.0968 - val_categorical_accuracy: 0.5575 - val_f1_m: 0.7750 - lr: 0.0010\n",
      "Epoch 2/20\n",
      "424/424 [==============================] - 3s 7ms/step - loss: 1.4767 - categorical_accuracy: 0.5996 - f1_m: 0.8882 - val_loss: 3.1854 - val_categorical_accuracy: 0.6091 - val_f1_m: 0.7959 - lr: 0.0010\n",
      "Epoch 3/20\n",
      "424/424 [==============================] - 3s 7ms/step - loss: 1.4547 - categorical_accuracy: 0.5993 - f1_m: 0.9252 - val_loss: 3.2471 - val_categorical_accuracy: 0.6282 - val_f1_m: 0.8044 - lr: 0.0010\n",
      "Epoch 4/20\n",
      "424/424 [==============================] - 3s 7ms/step - loss: 1.4439 - categorical_accuracy: 0.5996 - f1_m: 0.9479 - val_loss: 3.3204 - val_categorical_accuracy: 0.6078 - val_f1_m: 0.8118 - lr: 0.0010\n",
      "Epoch 5/20\n",
      "424/424 [==============================] - 3s 7ms/step - loss: 1.4345 - categorical_accuracy: 0.6007 - f1_m: 0.9630 - val_loss: 3.3963 - val_categorical_accuracy: 0.5899 - val_f1_m: 0.8126 - lr: 0.0010\n",
      "Train: accuracy = 59.75%, loss = 1.90%, f1 score = 94.58%\n",
      "Test: accuracy = 65.70%, loss = 1.99%, f1 score = 91.09%\n",
      "Epoch 1/20\n",
      "424/424 [==============================] - 3s 7ms/step - loss: 1.4401 - categorical_accuracy: 0.5878 - f1_m: 0.9675 - val_loss: 3.4642 - val_categorical_accuracy: 0.5650 - val_f1_m: 0.8164 - lr: 0.0010\n",
      "Epoch 2/20\n",
      "424/424 [==============================] - 3s 7ms/step - loss: 1.4246 - categorical_accuracy: 0.5883 - f1_m: 0.9784 - val_loss: 3.5234 - val_categorical_accuracy: 0.5548 - val_f1_m: 0.8172 - lr: 0.0010\n",
      "Epoch 3/20\n",
      "424/424 [==============================] - 3s 7ms/step - loss: 1.4154 - categorical_accuracy: 0.5895 - f1_m: 0.9854 - val_loss: 3.6074 - val_categorical_accuracy: 0.5438 - val_f1_m: 0.8187 - lr: 0.0010\n",
      "Epoch 4/20\n",
      "424/424 [==============================] - 3s 7ms/step - loss: 1.4108 - categorical_accuracy: 0.6003 - f1_m: 0.9895 - val_loss: 3.6952 - val_categorical_accuracy: 0.5905 - val_f1_m: 0.8194 - lr: 0.0010\n",
      "Epoch 5/20\n",
      "424/424 [==============================] - 3s 7ms/step - loss: 1.4050 - categorical_accuracy: 0.5851 - f1_m: 0.9919 - val_loss: 3.8025 - val_categorical_accuracy: 0.6173 - val_f1_m: 0.8172 - lr: 0.0010\n",
      "Train: accuracy = 64.35%, loss = 1.99%, f1 score = 95.28%\n",
      "Test: accuracy = 69.69%, loss = 2.00%, f1 score = 94.07%\n",
      "Epoch 1/20\n",
      "424/424 [==============================] - 3s 7ms/step - loss: 1.4142 - categorical_accuracy: 0.5815 - f1_m: 0.9904 - val_loss: 3.8585 - val_categorical_accuracy: 0.5805 - val_f1_m: 0.8173 - lr: 0.0010\n",
      "Epoch 2/20\n",
      "424/424 [==============================] - 3s 7ms/step - loss: 1.4052 - categorical_accuracy: 0.5913 - f1_m: 0.9927 - val_loss: 3.9347 - val_categorical_accuracy: 0.6264 - val_f1_m: 0.8132 - lr: 0.0010\n",
      "Epoch 3/20\n",
      "424/424 [==============================] - 3s 7ms/step - loss: 1.4013 - categorical_accuracy: 0.6023 - f1_m: 0.9943 - val_loss: 4.0785 - val_categorical_accuracy: 0.6306 - val_f1_m: 0.8115 - lr: 0.0010\n",
      "Epoch 4/20\n",
      "424/424 [==============================] - 3s 7ms/step - loss: 1.3993 - categorical_accuracy: 0.5967 - f1_m: 0.9961 - val_loss: 4.0627 - val_categorical_accuracy: 0.5774 - val_f1_m: 0.8143 - lr: 0.0010\n",
      "Epoch 5/20\n",
      "424/424 [==============================] - 3s 7ms/step - loss: 1.3947 - categorical_accuracy: 0.5956 - f1_m: 0.9972 - val_loss: 4.2187 - val_categorical_accuracy: 0.5628 - val_f1_m: 0.8148 - lr: 0.0010\n",
      "Train: accuracy = 59.38%, loss = 2.10%, f1 score = 95.28%\n",
      "Test: accuracy = 61.86%, loss = 1.95%, f1 score = 95.44%\n",
      "Epoch 1/20\n",
      "424/424 [==============================] - 3s 7ms/step - loss: 1.4028 - categorical_accuracy: 0.5928 - f1_m: 0.9955 - val_loss: 4.1205 - val_categorical_accuracy: 0.5978 - val_f1_m: 0.8220 - lr: 0.0010\n",
      "Epoch 2/20\n",
      "424/424 [==============================] - 3s 7ms/step - loss: 1.3964 - categorical_accuracy: 0.6000 - f1_m: 0.9970 - val_loss: 4.1625 - val_categorical_accuracy: 0.5907 - val_f1_m: 0.8168 - lr: 0.0010\n",
      "Epoch 3/20\n",
      "424/424 [==============================] - 3s 7ms/step - loss: 1.3956 - categorical_accuracy: 0.6090 - f1_m: 0.9977 - val_loss: 4.0934 - val_categorical_accuracy: 0.5823 - val_f1_m: 0.8235 - lr: 0.0010\n",
      "Epoch 4/20\n",
      "424/424 [==============================] - 3s 7ms/step - loss: 1.3955 - categorical_accuracy: 0.5967 - f1_m: 0.9971 - val_loss: 4.2339 - val_categorical_accuracy: 0.5918 - val_f1_m: 0.8180 - lr: 0.0010\n",
      "Epoch 5/20\n",
      "424/424 [==============================] - 3s 7ms/step - loss: 1.3955 - categorical_accuracy: 0.5722 - f1_m: 0.9976 - val_loss: 4.3807 - val_categorical_accuracy: 0.6009 - val_f1_m: 0.8169 - lr: 0.0010\n",
      "Epoch 6/20\n",
      "424/424 [==============================] - 3s 7ms/step - loss: 1.3940 - categorical_accuracy: 0.6072 - f1_m: 0.9980 - val_loss: 4.3101 - val_categorical_accuracy: 0.5353 - val_f1_m: 0.8168 - lr: 0.0010\n",
      "Epoch 7/20\n",
      "424/424 [==============================] - 3s 7ms/step - loss: 1.3920 - categorical_accuracy: 0.5915 - f1_m: 0.9984 - val_loss: 4.4561 - val_categorical_accuracy: 0.5418 - val_f1_m: 0.8150 - lr: 0.0010\n",
      "Train: accuracy = 56.53%, loss = 2.15%, f1 score = 95.28%\n",
      "Test: accuracy = 57.33%, loss = 2.22%, f1 score = 94.69%\n",
      "Epoch 1/20\n",
      "424/424 [==============================] - 3s 7ms/step - loss: 1.3964 - categorical_accuracy: 0.5696 - f1_m: 0.9974 - val_loss: 4.3341 - val_categorical_accuracy: 0.5856 - val_f1_m: 0.8200 - lr: 0.0010\n",
      "Epoch 2/20\n",
      "424/424 [==============================] - 3s 7ms/step - loss: 1.3925 - categorical_accuracy: 0.6070 - f1_m: 0.9986 - val_loss: 4.4648 - val_categorical_accuracy: 0.5768 - val_f1_m: 0.8187 - lr: 0.0010\n",
      "Epoch 3/20\n",
      "424/424 [==============================] - 3s 7ms/step - loss: 1.3915 - categorical_accuracy: 0.6008 - f1_m: 0.9985 - val_loss: 4.4008 - val_categorical_accuracy: 0.6182 - val_f1_m: 0.8184 - lr: 0.0010\n",
      "Epoch 4/20\n",
      "424/424 [==============================] - 3s 7ms/step - loss: 1.3921 - categorical_accuracy: 0.6321 - f1_m: 0.9986 - val_loss: 4.4611 - val_categorical_accuracy: 0.5876 - val_f1_m: 0.8187 - lr: 0.0010\n",
      "Epoch 5/20\n",
      "424/424 [==============================] - 3s 7ms/step - loss: 1.3908 - categorical_accuracy: 0.6039 - f1_m: 0.9989 - val_loss: 4.5306 - val_categorical_accuracy: 0.5792 - val_f1_m: 0.8183 - lr: 0.0010\n",
      "Train: accuracy = 60.64%, loss = 2.17%, f1 score = 95.35%\n",
      "Test: accuracy = 62.54%, loss = 2.12%, f1 score = 95.57%\n",
      "Epoch 1/20\n",
      "424/424 [==============================] - 3s 7ms/step - loss: 1.3930 - categorical_accuracy: 0.6317 - f1_m: 0.9985 - val_loss: 4.5094 - val_categorical_accuracy: 0.6333 - val_f1_m: 0.8168 - lr: 0.0010\n",
      "Epoch 2/20\n",
      "424/424 [==============================] - 3s 7ms/step - loss: 1.3902 - categorical_accuracy: 0.6324 - f1_m: 0.9990 - val_loss: 4.6688 - val_categorical_accuracy: 0.5861 - val_f1_m: 0.8192 - lr: 0.0010\n",
      "Epoch 3/20\n",
      "424/424 [==============================] - 3s 7ms/step - loss: 1.3904 - categorical_accuracy: 0.6269 - f1_m: 0.9988 - val_loss: 4.6436 - val_categorical_accuracy: 0.6051 - val_f1_m: 0.8220 - lr: 0.0010\n",
      "Epoch 4/20\n",
      "424/424 [==============================] - 3s 7ms/step - loss: 1.3888 - categorical_accuracy: 0.6269 - f1_m: 0.9994 - val_loss: 4.6595 - val_categorical_accuracy: 0.6109 - val_f1_m: 0.8245 - lr: 0.0010\n",
      "Epoch 5/20\n",
      "424/424 [==============================] - 3s 7ms/step - loss: 1.3911 - categorical_accuracy: 0.6705 - f1_m: 0.9991 - val_loss: 4.7747 - val_categorical_accuracy: 0.5910 - val_f1_m: 0.8157 - lr: 0.0010\n",
      "Train: accuracy = 60.95%, loss = 2.23%, f1 score = 95.26%\n",
      "Test: accuracy = 61.00%, loss = 2.36%, f1 score = 94.77%\n",
      "Epoch 1/20\n",
      "424/424 [==============================] - 3s 7ms/step - loss: 1.3915 - categorical_accuracy: 0.6361 - f1_m: 0.9988 - val_loss: 4.6059 - val_categorical_accuracy: 0.6315 - val_f1_m: 0.8140 - lr: 0.0010\n",
      "Epoch 2/20\n",
      "424/424 [==============================] - 3s 7ms/step - loss: 1.3889 - categorical_accuracy: 0.6428 - f1_m: 0.9993 - val_loss: 4.8225 - val_categorical_accuracy: 0.6096 - val_f1_m: 0.8109 - lr: 0.0010\n",
      "Epoch 3/20\n",
      "424/424 [==============================] - 3s 7ms/step - loss: 1.3886 - categorical_accuracy: 0.6718 - f1_m: 0.9995 - val_loss: 4.8634 - val_categorical_accuracy: 0.6180 - val_f1_m: 0.8152 - lr: 0.0010\n",
      "Epoch 4/20\n",
      "424/424 [==============================] - 3s 7ms/step - loss: 1.3911 - categorical_accuracy: 0.6734 - f1_m: 0.9988 - val_loss: 4.8367 - val_categorical_accuracy: 0.6459 - val_f1_m: 0.8133 - lr: 0.0010\n",
      "Epoch 5/20\n",
      "424/424 [==============================] - 3s 7ms/step - loss: 1.3906 - categorical_accuracy: 0.7059 - f1_m: 0.9991 - val_loss: 4.7085 - val_categorical_accuracy: 0.6386 - val_f1_m: 0.8048 - lr: 0.0010\n",
      "Train: accuracy = 69.85%, loss = 2.22%, f1 score = 95.17%\n",
      "Test: accuracy = 70.52%, loss = 2.32%, f1 score = 94.72%\n",
      "Epoch 1/20\n",
      "424/424 [==============================] - 3s 7ms/step - loss: 1.3992 - categorical_accuracy: 0.6852 - f1_m: 0.9985 - val_loss: 4.6142 - val_categorical_accuracy: 0.6559 - val_f1_m: 0.8271 - lr: 0.0010\n",
      "Epoch 2/20\n",
      "424/424 [==============================] - 3s 7ms/step - loss: 1.3935 - categorical_accuracy: 0.6769 - f1_m: 0.9990 - val_loss: 4.7917 - val_categorical_accuracy: 0.6991 - val_f1_m: 0.8213 - lr: 0.0010\n",
      "Epoch 3/20\n",
      "424/424 [==============================] - 3s 8ms/step - loss: 1.3914 - categorical_accuracy: 0.6822 - f1_m: 0.9992 - val_loss: 4.9628 - val_categorical_accuracy: 0.6240 - val_f1_m: 0.8168 - lr: 0.0010\n",
      "Epoch 4/20\n",
      "424/424 [==============================] - 3s 8ms/step - loss: 1.3920 - categorical_accuracy: 0.7147 - f1_m: 0.9991 - val_loss: 4.9682 - val_categorical_accuracy: 0.6328 - val_f1_m: 0.8173 - lr: 0.0010\n",
      "Epoch 5/20\n",
      "424/424 [==============================] - 3s 8ms/step - loss: 1.3894 - categorical_accuracy: 0.7189 - f1_m: 0.9993 - val_loss: 5.0452 - val_categorical_accuracy: 0.6592 - val_f1_m: 0.8169 - lr: 0.0010\n",
      "Train: accuracy = 70.15%, loss = 2.30%, f1 score = 95.29%\n",
      "Test: accuracy = 70.92%, loss = 2.28%, f1 score = 95.38%\n",
      "Average baseline metrics for CNN Model: {'Train': {'accuracy': '62.8%', 'loss': '2.08%', 'f1_score': '89.9%'}, 'Test': {'accuracy': '64.9%', 'loss': '2.25%', 'f1_score': '88.8%'}}\n"
     ]
    }
   ],
   "source": [
    "# from tensorflow.keras.callbacks import ReduceLROnPlateau, EarlyStopping, ModelCheckpoint\n",
    "kfold = KFold(n_splits=10, shuffle=True, random_state=7)\n",
    "\n",
    "for i in range(len(models)):\n",
    "  train_idx = []\n",
    "  test_idx = []\n",
    "  print(\"Training\", model_names[i])\n",
    "  for train, test in kfold.split(X, y):\n",
    "    train_idx.append(train)\n",
    "    test_idx.append(test)\n",
    "    models[i].compile(optimizer='adam', loss='categorical_crossentropy', metrics=['categorical_accuracy', f1_m])\n",
    "\n",
    "    callbacks = [\n",
    "      ReduceLROnPlateau(),\n",
    "      EarlyStopping(patience=4),\n",
    "      ModelCheckpoint(filepath='model-conv1d.h5', save_best_only=True)]\n",
    "\n",
    "    models[i].fit(X.iloc[train], y.iloc[train],\n",
    "                      epochs=20,\n",
    "                      batch_size=32,\n",
    "                      validation_split = 0.25,\n",
    "                      callbacks=callbacks)\n",
    "    \n",
    "    \n",
    "    train_loss, train_accuracy, train_f1 = models[i].evaluate(X.iloc[train], y.iloc[train], verbose=0)\n",
    "    test_loss, test_accuracy, test_f1 = models[i].evaluate(X.iloc[test], y.iloc[test], verbose=0)\n",
    "\n",
    "    print(\"Train: accuracy = {:.2f}%, loss = {:.2f}%, f1 score = {:.2f}%\".format(train_accuracy*100, train_loss, train_f1*100))\n",
    "    all_cv_scores[i]['Train']['accuracy'].append(round(train_accuracy, 2))\n",
    "    all_cv_scores[i]['Train']['loss'].append(round(train_loss, 2))\n",
    "    all_cv_scores[i]['Train']['f1_score'].append(round(train_f1, 2))\n",
    "    print(\"Test: accuracy = {:.2f}%, loss = {:.2f}%, f1 score = {:.2f}%\".format(test_accuracy*100, test_loss, test_f1*100)) \n",
    "    all_cv_scores[i]['Test']['accuracy'].append(round(test_accuracy, 2))\n",
    "    all_cv_scores[i]['Test']['loss'].append(round(test_loss, 2))\n",
    "    all_cv_scores[i]['Test']['f1_score'].append(round(test_f1, 2))\n",
    "\n",
    "  prediction = models[i].predict(X.iloc[test_idx[-1]])\n",
    "  predictions[model_names[i]].append(prediction)\n",
    "\n",
    "  # Compute average metrics\n",
    "  all_cv_scores[i]['Train']['accuracy'] = str(round((sum(all_cv_scores[i]['Train']['accuracy']) / len(all_cv_scores[i]['Train']['accuracy']))*100, 2))+'%'\n",
    "  all_cv_scores[i]['Train']['loss'] = str(round(sum(all_cv_scores[i]['Train']['loss']) / len(all_cv_scores[i]['Train']['loss']),2))+'%'\n",
    "  all_cv_scores[i]['Train']['f1_score'] = str(round((sum(all_cv_scores[i]['Train']['f1_score']) / len(all_cv_scores[i]['Train']['f1_score']))*100, 2))+'%'\n",
    "  all_cv_scores[i]['Test']['accuracy'] = str(round((sum(all_cv_scores[i]['Test']['accuracy']) / len(all_cv_scores[i]['Test']['accuracy']))*100, 2))+'%'\n",
    "  all_cv_scores[i]['Test']['loss'] = str(round(sum(all_cv_scores[i]['Test']['loss']) / len(all_cv_scores[i]['Test']['loss']),2))+'%'\n",
    "  all_cv_scores[i]['Test']['f1_score'] = str(round((sum(all_cv_scores[i]['Test']['f1_score']) / len(all_cv_scores[i]['Test']['f1_score']))*100, 2))+'%'\n",
    "\n",
    "  print(\"Average baseline metrics for {}:\".format(model_names[i]), all_cv_scores[i])"
   ]
  },
  {
   "cell_type": "code",
   "execution_count": 58,
   "metadata": {
    "colab": {
     "base_uri": "https://localhost:8080/",
     "height": 164
    },
    "colab_type": "code",
    "id": "E7XfFIb_GolK",
    "outputId": "4834469b-2f29-424c-9015-2ca4ff22f1fe"
   },
   "outputs": [
    {
     "data": {
      "text/html": [
       "<div>\n",
       "<style scoped>\n",
       "    .dataframe tbody tr th:only-of-type {\n",
       "        vertical-align: middle;\n",
       "    }\n",
       "\n",
       "    .dataframe tbody tr th {\n",
       "        vertical-align: top;\n",
       "    }\n",
       "\n",
       "    .dataframe thead th {\n",
       "        text-align: right;\n",
       "    }\n",
       "</style>\n",
       "<table border=\"1\" class=\"dataframe\">\n",
       "  <thead>\n",
       "    <tr style=\"text-align: right;\">\n",
       "      <th></th>\n",
       "      <th>Model</th>\n",
       "      <th>Train accuracy</th>\n",
       "      <th>Train loss</th>\n",
       "      <th>Train f1 score</th>\n",
       "      <th>Test accuracy</th>\n",
       "      <th>Test loss</th>\n",
       "      <th>Test f1 score</th>\n",
       "    </tr>\n",
       "  </thead>\n",
       "  <tbody>\n",
       "    <tr>\n",
       "      <th>0</th>\n",
       "      <td>Baseline Model</td>\n",
       "      <td>49.8%</td>\n",
       "      <td>2.37%</td>\n",
       "      <td>0.0%</td>\n",
       "      <td>48.2%</td>\n",
       "      <td>2.43%</td>\n",
       "      <td>0.0%</td>\n",
       "    </tr>\n",
       "    <tr>\n",
       "      <th>1</th>\n",
       "      <td>LSTM Model</td>\n",
       "      <td>47.3%</td>\n",
       "      <td>1.93%</td>\n",
       "      <td>90.8%</td>\n",
       "      <td>49.3%</td>\n",
       "      <td>2.09%</td>\n",
       "      <td>90.8%</td>\n",
       "    </tr>\n",
       "    <tr>\n",
       "      <th>2</th>\n",
       "      <td>CNN Model</td>\n",
       "      <td>62.8%</td>\n",
       "      <td>2.08%</td>\n",
       "      <td>89.9%</td>\n",
       "      <td>64.9%</td>\n",
       "      <td>2.25%</td>\n",
       "      <td>89.9%</td>\n",
       "    </tr>\n",
       "  </tbody>\n",
       "</table>\n",
       "</div>"
      ],
      "text/plain": [
       "            Model Train accuracy  ... Test loss Test f1 score\n",
       "0  Baseline Model          49.8%  ...     2.43%          0.0%\n",
       "1      LSTM Model          47.3%  ...     2.09%         90.8%\n",
       "2       CNN Model          62.8%  ...     2.25%         89.9%\n",
       "\n",
       "[3 rows x 7 columns]"
      ]
     },
     "execution_count": 58,
     "metadata": {
      "tags": []
     },
     "output_type": "execute_result"
    }
   ],
   "source": [
    "nn_summary = pd.DataFrame()\n",
    "nn_summary['Model'] = model_names\n",
    "nn_summary['Train accuracy'] = [score['Train']['accuracy'] for score in all_cv_scores]\n",
    "nn_summary['Train loss'] = [score['Train']['loss'] for score in all_cv_scores]\n",
    "nn_summary['Train f1 score'] = [score['Train']['f1_score'] for score in all_cv_scores]\n",
    "nn_summary['Test accuracy'] = [score['Test']['accuracy'] for score in all_cv_scores]\n",
    "nn_summary['Test loss'] = [score['Test']['loss'] for score in all_cv_scores]\n",
    "nn_summary['Test f1 score'] = [score['Train']['f1_score'] for score in all_cv_scores]\n",
    "nn_summary"
   ]
  },
  {
   "cell_type": "markdown",
   "metadata": {
    "colab_type": "text",
    "id": "pJsRKrrAtaDL"
   },
   "source": [
    "## BERT"
   ]
  },
  {
   "cell_type": "markdown",
   "metadata": {
    "colab_type": "text",
    "id": "6rZ005DRdgNP"
   },
   "source": [
    "BERT, released by Google in October 2018, is a contextual model that is based on the [transformer architecture](https://papers.nips.cc/paper/7181-attention-is-all-you-need.pdf). It is the first language representation that is deeply bidirectional, unsupervised, and pre-trained using only a plain text corpus. Here we adapt BERT for multi-label classification and compare it to earlier models."
   ]
  },
  {
   "cell_type": "code",
   "execution_count": 18,
   "metadata": {
    "colab": {},
    "colab_type": "code",
    "id": "gf8Kcl6a-7vv"
   },
   "outputs": [],
   "source": [
    "X_train_decoded = tokenizer.batch_decode(X_train)\n",
    "\n",
    "encodings = tokenizer.batch_encode_plus(X_train_decoded,max_length=max_length,pad_to_max_length=True)\n",
    "X_train = encodings['input_ids'] # tokenized and encoded sentences\n",
    "token_type_ids = encodings['token_type_ids'] # token type ids\n",
    "attention_masks = encodings['attention_mask'] # attention masks"
   ]
  },
  {
   "cell_type": "code",
   "execution_count": 20,
   "metadata": {
    "colab": {
     "base_uri": "https://localhost:8080/",
     "height": 55
    },
    "colab_type": "code",
    "id": "oyGARoW9Aoc1",
    "outputId": "b74e77a4-dcb8-4435-c21b-e84f6f56e054"
   },
   "outputs": [
    {
     "name": "stdout",
     "output_type": "stream",
     "text": [
      "train_df label indices with only one instance:  []\n"
     ]
    }
   ],
   "source": [
    "y_train = list(y_train)\n",
    "# Identifying indices of 'one_hot_labels' entries that only occur once - this will allow us to stratify split our training data later\n",
    "label_counts = pd.Series(y_train).astype(str).value_counts()\n",
    "one_freq = label_counts[label_counts==1].keys()\n",
    "one_freq_idxs = sorted(list(pd.Series(y_train)[pd.Series(y_train).astype(str).isin(one_freq)].index), reverse=True)\n",
    "print('train_df label indices with only one instance: ', one_freq_idxs)"
   ]
  },
  {
   "cell_type": "code",
   "execution_count": 21,
   "metadata": {
    "colab": {},
    "colab_type": "code",
    "id": "MywVr0JPWlrx"
   },
   "outputs": [],
   "source": [
    "# Gathering single instance inputs to force into the training set after stratified split\n",
    "one_freq_input_ids = [X_train.pop(i) for i in one_freq_idxs]\n",
    "one_freq_token_types = [token_type_ids.pop(i) for i in one_freq_idxs]\n",
    "one_freq_attention_masks = [attention_masks.pop(i) for i in one_freq_idxs]\n",
    "one_freq_labels = [y_train.pop(i) for i in one_freq_idxs]"
   ]
  },
  {
   "cell_type": "code",
   "execution_count": 22,
   "metadata": {
    "colab": {},
    "colab_type": "code",
    "id": "FRxl_L6_WnmW"
   },
   "outputs": [],
   "source": [
    "# Use train_test_split to split our data into train and validation sets\n",
    "\n",
    "train_inputs, validation_inputs, train_labels, validation_labels, train_token_types, validation_token_types, train_masks, validation_masks = train_test_split(X_train, y_train, token_type_ids,attention_masks,\n",
    "                                                            random_state=2020, test_size=0.10, stratify = y_train)\n",
    "\n",
    "# Add one frequency data to train data\n",
    "train_inputs.extend(one_freq_input_ids)\n",
    "train_labels.extend(one_freq_labels)\n",
    "train_masks.extend(one_freq_attention_masks)\n",
    "train_token_types.extend(one_freq_token_types)\n",
    "\n",
    "# Convert all of our data into torch tensors, the required datatype for our model\n",
    "train_inputs = torch.tensor(train_inputs)\n",
    "train_labels = torch.tensor(train_labels)\n",
    "train_masks = torch.tensor(train_masks)\n",
    "train_token_types = torch.tensor(train_token_types)\n",
    "\n",
    "validation_inputs = torch.tensor(validation_inputs)\n",
    "validation_labels = torch.tensor(validation_labels)\n",
    "validation_masks = torch.tensor(validation_masks)\n",
    "validation_token_types = torch.tensor(validation_token_types)"
   ]
  },
  {
   "cell_type": "code",
   "execution_count": 23,
   "metadata": {
    "colab": {},
    "colab_type": "code",
    "id": "2hY09ETwWpe8"
   },
   "outputs": [],
   "source": [
    "# Select a batch size for training. For fine-tuning with XLNet, the authors recommend a batch size of 32, 48, or 128. We will use 32 here to avoid memory issues.\n",
    "batch_size = 32\n",
    "\n",
    "# Create an iterator of our data with torch DataLoader. This helps save on memory during training because, unlike a for loop, \n",
    "# with an iterator the entire dataset does not need to be loaded into memory\n",
    "\n",
    "train_data = TensorDataset(train_inputs, train_masks, train_labels, train_token_types)\n",
    "train_sampler = RandomSampler(train_data)\n",
    "train_dataloader = DataLoader(train_data, sampler=train_sampler, batch_size=batch_size)\n",
    "\n",
    "validation_data = TensorDataset(validation_inputs, validation_masks, validation_labels, validation_token_types)\n",
    "validation_sampler = SequentialSampler(validation_data)\n",
    "validation_dataloader = DataLoader(validation_data, sampler=validation_sampler, batch_size=batch_size)"
   ]
  },
  {
   "cell_type": "code",
   "execution_count": 24,
   "metadata": {
    "colab": {},
    "colab_type": "code",
    "id": "Htbk99GnWrpc"
   },
   "outputs": [],
   "source": [
    "torch.save(validation_dataloader,'validation_data_loader')\n",
    "torch.save(train_dataloader,'train_data_loader')"
   ]
  },
  {
   "cell_type": "markdown",
   "metadata": {
    "colab_type": "text",
    "id": "ncGteBuSFuZM"
   },
   "source": [
    "### Load model and set parameters"
   ]
  },
  {
   "cell_type": "code",
   "execution_count": 25,
   "metadata": {
    "colab": {
     "base_uri": "https://localhost:8080/",
     "height": 1000,
     "referenced_widgets": [
      "a960cb38ccf3463ab4026ebfafcc9c8d",
      "bb7a23b8ea3d49b199cf789a493dc921",
      "441985bc12c4469fab4a63cf36210f4f",
      "672bfabaffa342248ec15f13358fb971",
      "3282c1ddcac247d6bc5e2249d22c5a02",
      "e3f5955dc66e4558a2dca1ec8e70ebfd",
      "236291aadd744b1aa61cfb213101956c",
      "f77d2529f562473eaa80cf0d5be8a706",
      "4e45ca918e8248d89d07073854e211ab",
      "cd37dec43e0a41aab31c2933ec0aef62",
      "9c035f5ee73b48bba5994da48cc925ac",
      "924c94943f0b42ab85bb1ca83079809f",
      "349e71af60234086b5b91ed330eb49e7",
      "0dcb8628d231434988df138330f78355",
      "83ee9e4435af4b1e96f1033d1aa42f6e",
      "7ef34a030787430ba6e90e7e6f387cf3"
     ]
    },
    "colab_type": "code",
    "id": "463EQT50WuEf",
    "outputId": "37551c28-d58c-42f1-a954-5b577c60dfc6"
   },
   "outputs": [
    {
     "data": {
      "application/vnd.jupyter.widget-view+json": {
       "model_id": "a960cb38ccf3463ab4026ebfafcc9c8d",
       "version_major": 2,
       "version_minor": 0
      },
      "text/plain": [
       "HBox(children=(FloatProgress(value=0.0, description='Downloading', max=433.0, style=ProgressStyle(description_…"
      ]
     },
     "metadata": {
      "tags": []
     },
     "output_type": "display_data"
    },
    {
     "name": "stdout",
     "output_type": "stream",
     "text": [
      "\n"
     ]
    },
    {
     "data": {
      "application/vnd.jupyter.widget-view+json": {
       "model_id": "4e45ca918e8248d89d07073854e211ab",
       "version_major": 2,
       "version_minor": 0
      },
      "text/plain": [
       "HBox(children=(FloatProgress(value=0.0, description='Downloading', max=440473133.0, style=ProgressStyle(descri…"
      ]
     },
     "metadata": {
      "tags": []
     },
     "output_type": "display_data"
    },
    {
     "name": "stdout",
     "output_type": "stream",
     "text": [
      "\n"
     ]
    },
    {
     "data": {
      "text/plain": [
       "BertForSequenceClassification(\n",
       "  (bert): BertModel(\n",
       "    (embeddings): BertEmbeddings(\n",
       "      (word_embeddings): Embedding(30522, 768, padding_idx=0)\n",
       "      (position_embeddings): Embedding(512, 768)\n",
       "      (token_type_embeddings): Embedding(2, 768)\n",
       "      (LayerNorm): LayerNorm((768,), eps=1e-12, elementwise_affine=True)\n",
       "      (dropout): Dropout(p=0.1, inplace=False)\n",
       "    )\n",
       "    (encoder): BertEncoder(\n",
       "      (layer): ModuleList(\n",
       "        (0): BertLayer(\n",
       "          (attention): BertAttention(\n",
       "            (self): BertSelfAttention(\n",
       "              (query): Linear(in_features=768, out_features=768, bias=True)\n",
       "              (key): Linear(in_features=768, out_features=768, bias=True)\n",
       "              (value): Linear(in_features=768, out_features=768, bias=True)\n",
       "              (dropout): Dropout(p=0.1, inplace=False)\n",
       "            )\n",
       "            (output): BertSelfOutput(\n",
       "              (dense): Linear(in_features=768, out_features=768, bias=True)\n",
       "              (LayerNorm): LayerNorm((768,), eps=1e-12, elementwise_affine=True)\n",
       "              (dropout): Dropout(p=0.1, inplace=False)\n",
       "            )\n",
       "          )\n",
       "          (intermediate): BertIntermediate(\n",
       "            (dense): Linear(in_features=768, out_features=3072, bias=True)\n",
       "          )\n",
       "          (output): BertOutput(\n",
       "            (dense): Linear(in_features=3072, out_features=768, bias=True)\n",
       "            (LayerNorm): LayerNorm((768,), eps=1e-12, elementwise_affine=True)\n",
       "            (dropout): Dropout(p=0.1, inplace=False)\n",
       "          )\n",
       "        )\n",
       "        (1): BertLayer(\n",
       "          (attention): BertAttention(\n",
       "            (self): BertSelfAttention(\n",
       "              (query): Linear(in_features=768, out_features=768, bias=True)\n",
       "              (key): Linear(in_features=768, out_features=768, bias=True)\n",
       "              (value): Linear(in_features=768, out_features=768, bias=True)\n",
       "              (dropout): Dropout(p=0.1, inplace=False)\n",
       "            )\n",
       "            (output): BertSelfOutput(\n",
       "              (dense): Linear(in_features=768, out_features=768, bias=True)\n",
       "              (LayerNorm): LayerNorm((768,), eps=1e-12, elementwise_affine=True)\n",
       "              (dropout): Dropout(p=0.1, inplace=False)\n",
       "            )\n",
       "          )\n",
       "          (intermediate): BertIntermediate(\n",
       "            (dense): Linear(in_features=768, out_features=3072, bias=True)\n",
       "          )\n",
       "          (output): BertOutput(\n",
       "            (dense): Linear(in_features=3072, out_features=768, bias=True)\n",
       "            (LayerNorm): LayerNorm((768,), eps=1e-12, elementwise_affine=True)\n",
       "            (dropout): Dropout(p=0.1, inplace=False)\n",
       "          )\n",
       "        )\n",
       "        (2): BertLayer(\n",
       "          (attention): BertAttention(\n",
       "            (self): BertSelfAttention(\n",
       "              (query): Linear(in_features=768, out_features=768, bias=True)\n",
       "              (key): Linear(in_features=768, out_features=768, bias=True)\n",
       "              (value): Linear(in_features=768, out_features=768, bias=True)\n",
       "              (dropout): Dropout(p=0.1, inplace=False)\n",
       "            )\n",
       "            (output): BertSelfOutput(\n",
       "              (dense): Linear(in_features=768, out_features=768, bias=True)\n",
       "              (LayerNorm): LayerNorm((768,), eps=1e-12, elementwise_affine=True)\n",
       "              (dropout): Dropout(p=0.1, inplace=False)\n",
       "            )\n",
       "          )\n",
       "          (intermediate): BertIntermediate(\n",
       "            (dense): Linear(in_features=768, out_features=3072, bias=True)\n",
       "          )\n",
       "          (output): BertOutput(\n",
       "            (dense): Linear(in_features=3072, out_features=768, bias=True)\n",
       "            (LayerNorm): LayerNorm((768,), eps=1e-12, elementwise_affine=True)\n",
       "            (dropout): Dropout(p=0.1, inplace=False)\n",
       "          )\n",
       "        )\n",
       "        (3): BertLayer(\n",
       "          (attention): BertAttention(\n",
       "            (self): BertSelfAttention(\n",
       "              (query): Linear(in_features=768, out_features=768, bias=True)\n",
       "              (key): Linear(in_features=768, out_features=768, bias=True)\n",
       "              (value): Linear(in_features=768, out_features=768, bias=True)\n",
       "              (dropout): Dropout(p=0.1, inplace=False)\n",
       "            )\n",
       "            (output): BertSelfOutput(\n",
       "              (dense): Linear(in_features=768, out_features=768, bias=True)\n",
       "              (LayerNorm): LayerNorm((768,), eps=1e-12, elementwise_affine=True)\n",
       "              (dropout): Dropout(p=0.1, inplace=False)\n",
       "            )\n",
       "          )\n",
       "          (intermediate): BertIntermediate(\n",
       "            (dense): Linear(in_features=768, out_features=3072, bias=True)\n",
       "          )\n",
       "          (output): BertOutput(\n",
       "            (dense): Linear(in_features=3072, out_features=768, bias=True)\n",
       "            (LayerNorm): LayerNorm((768,), eps=1e-12, elementwise_affine=True)\n",
       "            (dropout): Dropout(p=0.1, inplace=False)\n",
       "          )\n",
       "        )\n",
       "        (4): BertLayer(\n",
       "          (attention): BertAttention(\n",
       "            (self): BertSelfAttention(\n",
       "              (query): Linear(in_features=768, out_features=768, bias=True)\n",
       "              (key): Linear(in_features=768, out_features=768, bias=True)\n",
       "              (value): Linear(in_features=768, out_features=768, bias=True)\n",
       "              (dropout): Dropout(p=0.1, inplace=False)\n",
       "            )\n",
       "            (output): BertSelfOutput(\n",
       "              (dense): Linear(in_features=768, out_features=768, bias=True)\n",
       "              (LayerNorm): LayerNorm((768,), eps=1e-12, elementwise_affine=True)\n",
       "              (dropout): Dropout(p=0.1, inplace=False)\n",
       "            )\n",
       "          )\n",
       "          (intermediate): BertIntermediate(\n",
       "            (dense): Linear(in_features=768, out_features=3072, bias=True)\n",
       "          )\n",
       "          (output): BertOutput(\n",
       "            (dense): Linear(in_features=3072, out_features=768, bias=True)\n",
       "            (LayerNorm): LayerNorm((768,), eps=1e-12, elementwise_affine=True)\n",
       "            (dropout): Dropout(p=0.1, inplace=False)\n",
       "          )\n",
       "        )\n",
       "        (5): BertLayer(\n",
       "          (attention): BertAttention(\n",
       "            (self): BertSelfAttention(\n",
       "              (query): Linear(in_features=768, out_features=768, bias=True)\n",
       "              (key): Linear(in_features=768, out_features=768, bias=True)\n",
       "              (value): Linear(in_features=768, out_features=768, bias=True)\n",
       "              (dropout): Dropout(p=0.1, inplace=False)\n",
       "            )\n",
       "            (output): BertSelfOutput(\n",
       "              (dense): Linear(in_features=768, out_features=768, bias=True)\n",
       "              (LayerNorm): LayerNorm((768,), eps=1e-12, elementwise_affine=True)\n",
       "              (dropout): Dropout(p=0.1, inplace=False)\n",
       "            )\n",
       "          )\n",
       "          (intermediate): BertIntermediate(\n",
       "            (dense): Linear(in_features=768, out_features=3072, bias=True)\n",
       "          )\n",
       "          (output): BertOutput(\n",
       "            (dense): Linear(in_features=3072, out_features=768, bias=True)\n",
       "            (LayerNorm): LayerNorm((768,), eps=1e-12, elementwise_affine=True)\n",
       "            (dropout): Dropout(p=0.1, inplace=False)\n",
       "          )\n",
       "        )\n",
       "        (6): BertLayer(\n",
       "          (attention): BertAttention(\n",
       "            (self): BertSelfAttention(\n",
       "              (query): Linear(in_features=768, out_features=768, bias=True)\n",
       "              (key): Linear(in_features=768, out_features=768, bias=True)\n",
       "              (value): Linear(in_features=768, out_features=768, bias=True)\n",
       "              (dropout): Dropout(p=0.1, inplace=False)\n",
       "            )\n",
       "            (output): BertSelfOutput(\n",
       "              (dense): Linear(in_features=768, out_features=768, bias=True)\n",
       "              (LayerNorm): LayerNorm((768,), eps=1e-12, elementwise_affine=True)\n",
       "              (dropout): Dropout(p=0.1, inplace=False)\n",
       "            )\n",
       "          )\n",
       "          (intermediate): BertIntermediate(\n",
       "            (dense): Linear(in_features=768, out_features=3072, bias=True)\n",
       "          )\n",
       "          (output): BertOutput(\n",
       "            (dense): Linear(in_features=3072, out_features=768, bias=True)\n",
       "            (LayerNorm): LayerNorm((768,), eps=1e-12, elementwise_affine=True)\n",
       "            (dropout): Dropout(p=0.1, inplace=False)\n",
       "          )\n",
       "        )\n",
       "        (7): BertLayer(\n",
       "          (attention): BertAttention(\n",
       "            (self): BertSelfAttention(\n",
       "              (query): Linear(in_features=768, out_features=768, bias=True)\n",
       "              (key): Linear(in_features=768, out_features=768, bias=True)\n",
       "              (value): Linear(in_features=768, out_features=768, bias=True)\n",
       "              (dropout): Dropout(p=0.1, inplace=False)\n",
       "            )\n",
       "            (output): BertSelfOutput(\n",
       "              (dense): Linear(in_features=768, out_features=768, bias=True)\n",
       "              (LayerNorm): LayerNorm((768,), eps=1e-12, elementwise_affine=True)\n",
       "              (dropout): Dropout(p=0.1, inplace=False)\n",
       "            )\n",
       "          )\n",
       "          (intermediate): BertIntermediate(\n",
       "            (dense): Linear(in_features=768, out_features=3072, bias=True)\n",
       "          )\n",
       "          (output): BertOutput(\n",
       "            (dense): Linear(in_features=3072, out_features=768, bias=True)\n",
       "            (LayerNorm): LayerNorm((768,), eps=1e-12, elementwise_affine=True)\n",
       "            (dropout): Dropout(p=0.1, inplace=False)\n",
       "          )\n",
       "        )\n",
       "        (8): BertLayer(\n",
       "          (attention): BertAttention(\n",
       "            (self): BertSelfAttention(\n",
       "              (query): Linear(in_features=768, out_features=768, bias=True)\n",
       "              (key): Linear(in_features=768, out_features=768, bias=True)\n",
       "              (value): Linear(in_features=768, out_features=768, bias=True)\n",
       "              (dropout): Dropout(p=0.1, inplace=False)\n",
       "            )\n",
       "            (output): BertSelfOutput(\n",
       "              (dense): Linear(in_features=768, out_features=768, bias=True)\n",
       "              (LayerNorm): LayerNorm((768,), eps=1e-12, elementwise_affine=True)\n",
       "              (dropout): Dropout(p=0.1, inplace=False)\n",
       "            )\n",
       "          )\n",
       "          (intermediate): BertIntermediate(\n",
       "            (dense): Linear(in_features=768, out_features=3072, bias=True)\n",
       "          )\n",
       "          (output): BertOutput(\n",
       "            (dense): Linear(in_features=3072, out_features=768, bias=True)\n",
       "            (LayerNorm): LayerNorm((768,), eps=1e-12, elementwise_affine=True)\n",
       "            (dropout): Dropout(p=0.1, inplace=False)\n",
       "          )\n",
       "        )\n",
       "        (9): BertLayer(\n",
       "          (attention): BertAttention(\n",
       "            (self): BertSelfAttention(\n",
       "              (query): Linear(in_features=768, out_features=768, bias=True)\n",
       "              (key): Linear(in_features=768, out_features=768, bias=True)\n",
       "              (value): Linear(in_features=768, out_features=768, bias=True)\n",
       "              (dropout): Dropout(p=0.1, inplace=False)\n",
       "            )\n",
       "            (output): BertSelfOutput(\n",
       "              (dense): Linear(in_features=768, out_features=768, bias=True)\n",
       "              (LayerNorm): LayerNorm((768,), eps=1e-12, elementwise_affine=True)\n",
       "              (dropout): Dropout(p=0.1, inplace=False)\n",
       "            )\n",
       "          )\n",
       "          (intermediate): BertIntermediate(\n",
       "            (dense): Linear(in_features=768, out_features=3072, bias=True)\n",
       "          )\n",
       "          (output): BertOutput(\n",
       "            (dense): Linear(in_features=3072, out_features=768, bias=True)\n",
       "            (LayerNorm): LayerNorm((768,), eps=1e-12, elementwise_affine=True)\n",
       "            (dropout): Dropout(p=0.1, inplace=False)\n",
       "          )\n",
       "        )\n",
       "        (10): BertLayer(\n",
       "          (attention): BertAttention(\n",
       "            (self): BertSelfAttention(\n",
       "              (query): Linear(in_features=768, out_features=768, bias=True)\n",
       "              (key): Linear(in_features=768, out_features=768, bias=True)\n",
       "              (value): Linear(in_features=768, out_features=768, bias=True)\n",
       "              (dropout): Dropout(p=0.1, inplace=False)\n",
       "            )\n",
       "            (output): BertSelfOutput(\n",
       "              (dense): Linear(in_features=768, out_features=768, bias=True)\n",
       "              (LayerNorm): LayerNorm((768,), eps=1e-12, elementwise_affine=True)\n",
       "              (dropout): Dropout(p=0.1, inplace=False)\n",
       "            )\n",
       "          )\n",
       "          (intermediate): BertIntermediate(\n",
       "            (dense): Linear(in_features=768, out_features=3072, bias=True)\n",
       "          )\n",
       "          (output): BertOutput(\n",
       "            (dense): Linear(in_features=3072, out_features=768, bias=True)\n",
       "            (LayerNorm): LayerNorm((768,), eps=1e-12, elementwise_affine=True)\n",
       "            (dropout): Dropout(p=0.1, inplace=False)\n",
       "          )\n",
       "        )\n",
       "        (11): BertLayer(\n",
       "          (attention): BertAttention(\n",
       "            (self): BertSelfAttention(\n",
       "              (query): Linear(in_features=768, out_features=768, bias=True)\n",
       "              (key): Linear(in_features=768, out_features=768, bias=True)\n",
       "              (value): Linear(in_features=768, out_features=768, bias=True)\n",
       "              (dropout): Dropout(p=0.1, inplace=False)\n",
       "            )\n",
       "            (output): BertSelfOutput(\n",
       "              (dense): Linear(in_features=768, out_features=768, bias=True)\n",
       "              (LayerNorm): LayerNorm((768,), eps=1e-12, elementwise_affine=True)\n",
       "              (dropout): Dropout(p=0.1, inplace=False)\n",
       "            )\n",
       "          )\n",
       "          (intermediate): BertIntermediate(\n",
       "            (dense): Linear(in_features=768, out_features=3072, bias=True)\n",
       "          )\n",
       "          (output): BertOutput(\n",
       "            (dense): Linear(in_features=3072, out_features=768, bias=True)\n",
       "            (LayerNorm): LayerNorm((768,), eps=1e-12, elementwise_affine=True)\n",
       "            (dropout): Dropout(p=0.1, inplace=False)\n",
       "          )\n",
       "        )\n",
       "      )\n",
       "    )\n",
       "    (pooler): BertPooler(\n",
       "      (dense): Linear(in_features=768, out_features=768, bias=True)\n",
       "      (activation): Tanh()\n",
       "    )\n",
       "  )\n",
       "  (dropout): Dropout(p=0.1, inplace=False)\n",
       "  (classifier): Linear(in_features=768, out_features=8, bias=True)\n",
       ")"
      ]
     },
     "execution_count": 25,
     "metadata": {
      "tags": []
     },
     "output_type": "execute_result"
    }
   ],
   "source": [
    "# Load model, the pretrained model will include a single linear classification layer on top for classification. \n",
    "model = BertForSequenceClassification.from_pretrained(\"bert-base-uncased\", num_labels=8)\n",
    "model.cuda()"
   ]
  },
  {
   "cell_type": "markdown",
   "metadata": {
    "colab_type": "text",
    "id": "jGE4gv9qfhRG"
   },
   "source": [
    "Setting custom optimization parameters for the AdamW optimizer https://huggingface.co/transformers/main_classes/optimizer_schedules.html"
   ]
  },
  {
   "cell_type": "code",
   "execution_count": 26,
   "metadata": {
    "colab": {},
    "colab_type": "code",
    "id": "GsV8zwWYnIT9"
   },
   "outputs": [],
   "source": [
    "# setting custom optimization parameters. You may implement a scheduler here as well.\n",
    "param_optimizer = list(model.named_parameters())\n",
    "no_decay = ['bias', 'gamma', 'beta']\n",
    "optimizer_grouped_parameters = [\n",
    "    {'params': [p for n, p in param_optimizer if not any(nd in n for nd in no_decay)],\n",
    "     'weight_decay_rate': 0.01},\n",
    "    {'params': [p for n, p in param_optimizer if any(nd in n for nd in no_decay)],\n",
    "     'weight_decay_rate': 0.0}\n",
    "]\n",
    "\n",
    "optimizer = AdamW(optimizer_grouped_parameters,lr=2e-5,correct_bias=True)"
   ]
  },
  {
   "cell_type": "markdown",
   "metadata": {
    "colab_type": "text",
    "id": "JRQQZ8zIFzLW"
   },
   "source": [
    "### Train model"
   ]
  },
  {
   "cell_type": "code",
   "execution_count": 35,
   "metadata": {
    "colab": {
     "base_uri": "https://localhost:8080/",
     "height": 354
    },
    "colab_type": "code",
    "id": "BDL7YhHyUR8w",
    "outputId": "891571e1-932d-44cc-f674-a1af4097e62d"
   },
   "outputs": [
    {
     "name": "stderr",
     "output_type": "stream",
     "text": [
      "\n",
      "\n",
      "Epoch:   0%|          | 0/3 [00:00<?, ?it/s]\u001b[A\u001b[A"
     ]
    },
    {
     "name": "stdout",
     "output_type": "stream",
     "text": [
      "Train loss: 16.944092703340328\n"
     ]
    },
    {
     "name": "stderr",
     "output_type": "stream",
     "text": [
      "\n",
      "\n",
      "Epoch:  33%|███▎      | 1/3 [02:19<04:38, 139.01s/it]\u001b[A\u001b[A"
     ]
    },
    {
     "name": "stdout",
     "output_type": "stream",
     "text": [
      "Validation F1 Score:  78.48707309288221\n",
      "Validation Accuracy:  67.72585669781932\n",
      "Train loss: 9.60335345460778\n"
     ]
    },
    {
     "name": "stderr",
     "output_type": "stream",
     "text": [
      "\n",
      "\n",
      "Epoch:  67%|██████▋   | 2/3 [04:37<02:18, 138.99s/it]\u001b[A\u001b[A"
     ]
    },
    {
     "name": "stdout",
     "output_type": "stream",
     "text": [
      "Validation F1 Score:  80.01254115065058\n",
      "Validation Accuracy:  71.8380062305296\n",
      "Train loss: 6.085545459218257\n"
     ]
    },
    {
     "name": "stderr",
     "output_type": "stream",
     "text": [
      "\n",
      "\n",
      "Epoch: 100%|██████████| 3/3 [06:56<00:00, 138.96s/it]"
     ]
    },
    {
     "name": "stdout",
     "output_type": "stream",
     "text": [
      "Validation F1 Score:  81.7754077791719\n",
      "Validation Accuracy:  75.14018691588785\n"
     ]
    },
    {
     "name": "stderr",
     "output_type": "stream",
     "text": [
      "\n"
     ]
    }
   ],
   "source": [
    "# Store our loss and accuracy for plotting\n",
    "train_loss_set = []\n",
    "\n",
    "# Number of training epochs (authors recommend between 2 and 4)\n",
    "epochs = 3\n",
    "\n",
    "# trange is a tqdm wrapper around the normal python range\n",
    "for _ in trange(epochs, desc=\"Epoch\"):\n",
    "\n",
    "  # Training\n",
    "  \n",
    "  # Set our model to training mode (as opposed to evaluation mode)\n",
    "  model.train()\n",
    "\n",
    "  # Tracking variables\n",
    "  tr_loss = 0 #running loss\n",
    "  nb_tr_examples, nb_tr_steps = 0, 0\n",
    "  \n",
    "  # Train the data for one epoch\n",
    "  for step, batch in enumerate(train_dataloader):\n",
    "    # Add batch to GPU\n",
    "    batch = tuple(t.to(device) for t in batch)\n",
    "    # Unpack the inputs from our dataloader\n",
    "    b_input_ids, b_input_mask, b_labels, b_token_types = batch\n",
    "    # Clear out the gradients (by default they accumulate)\n",
    "    optimizer.zero_grad()\n",
    "\n",
    "    # Forward pass for multilabel classification\n",
    "    outputs = model(b_input_ids, token_type_ids=None, attention_mask=b_input_mask)\n",
    "    logits = outputs[0]\n",
    "    loss_func = BCEWithLogitsLoss() \n",
    "    loss = loss_func(logits.view(-1, 8),b_labels.type_as(logits).view(-1, 8)) #convert labels to float for calculation\n",
    "\n",
    "    train_loss_set.append(loss.item())    \n",
    "\n",
    "    # Backward pass\n",
    "    loss.backward()\n",
    "    # Update parameters and take a step using the computed gradient\n",
    "    optimizer.step()\n",
    "\n",
    "    # Update tracking variables\n",
    "    tr_loss += loss.item()\n",
    "    nb_tr_examples += b_input_ids.size(0)\n",
    "    nb_tr_steps += 1\n",
    "\n",
    "  print(\"Train loss: {}\".format((tr_loss/nb_tr_steps)*100))\n",
    "\n",
    "###############################################################################\n",
    "\n",
    "  # Validation\n",
    "\n",
    "  # Put model in evaluation mode to evaluate loss on the validation set\n",
    "  model.eval()\n",
    "\n",
    "  # Variables to gather full output\n",
    "  logit_preds,true_labels,pred_labels,tokenized_texts = [],[],[],[]\n",
    "\n",
    "  # Predict\n",
    "  for i, batch in enumerate(validation_dataloader):\n",
    "    batch = tuple(t.to(device) for t in batch)\n",
    "    # Unpack the inputs from our dataloader\n",
    "    b_input_ids, b_input_mask, b_labels, b_token_types = batch\n",
    "    with torch.no_grad():\n",
    "      # Forward pass\n",
    "      outs = model(b_input_ids, token_type_ids=None, attention_mask=b_input_mask)\n",
    "      b_logit_pred = outs[0]\n",
    "      pred_label = torch.sigmoid(b_logit_pred)\n",
    "\n",
    "      b_logit_pred = b_logit_pred.detach().cpu().numpy()\n",
    "      pred_label = pred_label.to('cpu').numpy()\n",
    "      b_labels = b_labels.to('cpu').numpy()\n",
    "\n",
    "    tokenized_texts.append(b_input_ids)\n",
    "    logit_preds.append(b_logit_pred)\n",
    "    true_labels.append(b_labels)\n",
    "    pred_labels.append(pred_label)\n",
    "\n",
    "  # Flatten outputs\n",
    "  pred_labels = [item for sublist in pred_labels for item in sublist]\n",
    "  true_labels = [item for sublist in true_labels for item in sublist]\n",
    "\n",
    "  # Calculate Accuracy\n",
    "  threshold = 0.50\n",
    "  pred_bools = [pl>threshold for pl in pred_labels]\n",
    "  true_bools = [tl==1 for tl in true_labels]\n",
    "  val_f1_accuracy = f1_score(true_bools,pred_bools,average='micro')*100\n",
    "  val_flat_accuracy = accuracy_score(true_bools, pred_bools)*100\n",
    "\n",
    "  print('Validation F1 Score: ', val_f1_accuracy)\n",
    "  print('Validation Accuracy: ', val_flat_accuracy)\n"
   ]
  },
  {
   "cell_type": "code",
   "execution_count": 28,
   "metadata": {
    "colab": {},
    "colab_type": "code",
    "id": "HofHSrM-SFem"
   },
   "outputs": [],
   "source": [
    "torch.save(model.state_dict(), 'bert_model_cognitive_functions')"
   ]
  },
  {
   "cell_type": "markdown",
   "metadata": {
    "colab_type": "text",
    "id": "_7dd2GE3F4yK"
   },
   "source": [
    "### Load and preprocess test data"
   ]
  },
  {
   "cell_type": "code",
   "execution_count": 29,
   "metadata": {
    "colab": {},
    "colab_type": "code",
    "id": "eyPraPhQYTs1"
   },
   "outputs": [],
   "source": [
    "# Encoding input data\n",
    "X_test_decoded = tokenizer.batch_decode(X_test)\n",
    "test_encodings = tokenizer.batch_encode_plus(X_test_decoded,max_length=max_length,pad_to_max_length=True)\n",
    "test_input_ids = test_encodings['input_ids']\n",
    "test_token_type_ids = test_encodings['token_type_ids']\n",
    "test_attention_masks = test_encodings['attention_mask']"
   ]
  },
  {
   "cell_type": "code",
   "execution_count": 30,
   "metadata": {
    "colab": {},
    "colab_type": "code",
    "id": "eBXKl5bMKi7C"
   },
   "outputs": [],
   "source": [
    "# Make tensors out of data\n",
    "test_inputs = torch.tensor(test_input_ids)\n",
    "test_labels = torch.tensor(y_test)\n",
    "test_masks = torch.tensor(test_attention_masks)\n",
    "test_token_types = torch.tensor(test_token_type_ids)\n",
    "# Create test dataloader\n",
    "test_data = TensorDataset(test_inputs, test_masks, test_labels, test_token_types)\n",
    "test_sampler = SequentialSampler(test_data)\n",
    "test_dataloader = DataLoader(test_data, sampler=test_sampler, batch_size=batch_size)\n",
    "# Save test dataloader\n",
    "torch.save(test_dataloader,'test_data_loader')"
   ]
  },
  {
   "cell_type": "markdown",
   "metadata": {
    "colab_type": "text",
    "id": "PFTWxCA_GBau"
   },
   "source": [
    "### Prediction and metics"
   ]
  },
  {
   "cell_type": "code",
   "execution_count": 36,
   "metadata": {
    "colab": {},
    "colab_type": "code",
    "id": "ctMvxh9SYWQf"
   },
   "outputs": [],
   "source": [
    "# Test\n",
    "\n",
    "# Put model in evaluation mode to evaluate loss on the validation set\n",
    "model.eval()\n",
    "\n",
    "#track variables\n",
    "logit_preds,true_labels,pred_labels,tokenized_texts = [],[],[],[]\n",
    "\n",
    "# Predict\n",
    "for i, batch in enumerate(test_dataloader):\n",
    "  batch = tuple(t.to(device) for t in batch)\n",
    "  # Unpack the inputs from our dataloader\n",
    "  b_input_ids, b_input_mask, b_labels, b_token_types = batch\n",
    "  with torch.no_grad():\n",
    "    # Forward pass\n",
    "    outs = model(b_input_ids, token_type_ids=None, attention_mask=b_input_mask)\n",
    "    b_logit_pred = outs[0]\n",
    "    pred_label = torch.sigmoid(b_logit_pred)\n",
    "\n",
    "    b_logit_pred = b_logit_pred.detach().cpu().numpy()\n",
    "    pred_label = pred_label.to('cpu').numpy()\n",
    "    b_labels = b_labels.to('cpu').numpy()\n",
    "\n",
    "  tokenized_texts.append(b_input_ids)\n",
    "  logit_preds.append(b_logit_pred)\n",
    "  true_labels.append(b_labels)\n",
    "  pred_labels.append(pred_label)\n",
    "\n",
    "# Flatten outputs\n",
    "tokenized_texts = [item for sublist in tokenized_texts for item in sublist]\n",
    "pred_labels = [item for sublist in pred_labels for item in sublist]\n",
    "true_labels = [item for sublist in true_labels for item in sublist]\n",
    "# Converting flattened binary values to boolean values\n",
    "true_bools = [tl==1 for tl in true_labels]"
   ]
  },
  {
   "cell_type": "markdown",
   "metadata": {
    "colab_type": "text",
    "id": "bQeGWqeMzAoZ"
   },
   "source": [
    "We need to threshold our sigmoid function outputs which range from [0, 1]. Here we use 0.5 as a threshold."
   ]
  },
  {
   "cell_type": "code",
   "execution_count": 37,
   "metadata": {
    "colab": {
     "base_uri": "https://localhost:8080/",
     "height": 372
    },
    "colab_type": "code",
    "id": "D3CqPcspYY8L",
    "outputId": "271e40a3-1971-45ae-d184-8900e6d51538"
   },
   "outputs": [
    {
     "name": "stdout",
     "output_type": "stream",
     "text": [
      "Test F1 Score:  0.839332748024583\n",
      "Test Accuracy:  0.7876370887337986 \n",
      "\n",
      "              precision    recall  f1-score   support\n",
      "\n",
      "          Ne       0.71      0.74      0.72       952\n",
      "          Ni       0.75      0.73      0.74      1036\n",
      "          Se       0.98      0.98      0.98      1037\n",
      "          Si       0.99      1.00      0.99       987\n",
      "          Fi       0.78      0.78      0.78      1007\n",
      "          Fe       0.82      0.78      0.80      1023\n",
      "          Ti       0.83      0.79      0.81       982\n",
      "          Te       0.89      0.88      0.88      1000\n",
      "\n",
      "   micro avg       0.84      0.83      0.84      8024\n",
      "   macro avg       0.84      0.83      0.84      8024\n",
      "weighted avg       0.84      0.83      0.84      8024\n",
      " samples avg       0.84      0.83      0.84      8024\n",
      "\n"
     ]
    }
   ],
   "source": [
    "from sklearn.metrics import classification_report\n",
    "import pickle\n",
    "pred_bools = [pl>0.50 for pl in pred_labels] #boolean output after thresholding\n",
    "\n",
    "# Print and save classification report\n",
    "print('Test F1 Score: ', f1_score(true_bools, pred_bools,average='micro'))\n",
    "print('Test Accuracy: ', accuracy_score(true_bools, pred_bools),'\\n')\n",
    "clf_report = classification_report(true_bools,pred_bools,target_names=label_cols)\n",
    "pickle.dump(clf_report, open('classification_report.txt','wb')) #save report\n",
    "print(clf_report)"
   ]
  },
  {
   "cell_type": "markdown",
   "metadata": {
    "colab_type": "text",
    "id": "5rLqrHK87eir"
   },
   "source": [
    "### Output"
   ]
  },
  {
   "cell_type": "code",
   "execution_count": 38,
   "metadata": {
    "colab": {
     "base_uri": "https://localhost:8080/",
     "height": 55
    },
    "colab_type": "code",
    "id": "fVzHq-kWYlJx",
    "outputId": "9e3b9cd4-f734-4bcc-c2d4-bce5e6894a00"
   },
   "outputs": [
    {
     "name": "stdout",
     "output_type": "stream",
     "text": [
      "{0: 'Ne', 1: 'Ni', 2: 'Se', 3: 'Si', 4: 'Fi', 5: 'Fe', 6: 'Ti', 7: 'Te'}\n"
     ]
    }
   ],
   "source": [
    "idx2label = dict(zip(range(8),label_cols))\n",
    "print(idx2label)"
   ]
  },
  {
   "cell_type": "code",
   "execution_count": 39,
   "metadata": {
    "colab": {},
    "colab_type": "code",
    "id": "j6ITgQqsYjgY"
   },
   "outputs": [],
   "source": [
    "# Getting indices of where boolean one hot vector true_bools is True so we can use idx2label to gather label names\n",
    "true_label_idxs, pred_label_idxs=[],[]\n",
    "for vals in true_bools:\n",
    "  true_label_idxs.append(np.where(vals)[0].flatten().tolist())\n",
    "for vals in pred_bools:\n",
    "  pred_label_idxs.append(np.where(vals)[0].flatten().tolist())"
   ]
  },
  {
   "cell_type": "code",
   "execution_count": 40,
   "metadata": {
    "colab": {},
    "colab_type": "code",
    "id": "OOGhXM3R4a91"
   },
   "outputs": [],
   "source": [
    "# Gathering vectors of label names using idx2label\n",
    "true_label_texts, pred_label_texts = [], []\n",
    "for vals in true_label_idxs:\n",
    "  if vals:\n",
    "    true_label_texts.append([idx2label[val] for val in vals])\n",
    "  else:\n",
    "    true_label_texts.append(vals)\n",
    "\n",
    "for vals in pred_label_idxs:\n",
    "  if vals:\n",
    "    pred_label_texts.append([idx2label[val] for val in vals])\n",
    "  else:\n",
    "    pred_label_texts.append(vals)"
   ]
  },
  {
   "cell_type": "code",
   "execution_count": 41,
   "metadata": {
    "colab": {},
    "colab_type": "code",
    "id": "WAQKI26-Yf42"
   },
   "outputs": [],
   "source": [
    "# Decoding input ids to comment text\n",
    "comment_texts = [tokenizer.decode(text,skip_special_tokens=True,clean_up_tokenization_spaces=False) for text in tokenized_texts]"
   ]
  },
  {
   "cell_type": "code",
   "execution_count": 42,
   "metadata": {
    "colab": {
     "base_uri": "https://localhost:8080/",
     "height": 228
    },
    "colab_type": "code",
    "id": "M0jheRTTXto4",
    "outputId": "0c0f59fc-6265-4ca9-9e9c-9f40cf1e46cd"
   },
   "outputs": [
    {
     "data": {
      "text/html": [
       "<div>\n",
       "<style scoped>\n",
       "    .dataframe tbody tr th:only-of-type {\n",
       "        vertical-align: middle;\n",
       "    }\n",
       "\n",
       "    .dataframe tbody tr th {\n",
       "        vertical-align: top;\n",
       "    }\n",
       "\n",
       "    .dataframe thead th {\n",
       "        text-align: right;\n",
       "    }\n",
       "</style>\n",
       "<table border=\"1\" class=\"dataframe\">\n",
       "  <thead>\n",
       "    <tr style=\"text-align: right;\">\n",
       "      <th></th>\n",
       "      <th>comment_text</th>\n",
       "      <th>true_labels</th>\n",
       "      <th>pred_labels</th>\n",
       "    </tr>\n",
       "  </thead>\n",
       "  <tbody>\n",
       "    <tr>\n",
       "      <th>0</th>\n",
       "      <td>' thetechman if it ' s due to circumstances ? ...</td>\n",
       "      <td>[Se, Ti]</td>\n",
       "      <td>[Se, Ti]</td>\n",
       "    </tr>\n",
       "    <tr>\n",
       "      <th>1</th>\n",
       "      <td>' also , try going for community college for t...</td>\n",
       "      <td>[Ne, Ti]</td>\n",
       "      <td>[Ne, Ti]</td>\n",
       "    </tr>\n",
       "    <tr>\n",
       "      <th>2</th>\n",
       "      <td>' i have had problems with him all my life . p...</td>\n",
       "      <td>[Ne, Ti]</td>\n",
       "      <td>[Ne, Ti]</td>\n",
       "    </tr>\n",
       "    <tr>\n",
       "      <th>3</th>\n",
       "      <td>' but for various reasons taylor swift ' s rel...</td>\n",
       "      <td>[Ne, Ti]</td>\n",
       "      <td>[Ni, Fe]</td>\n",
       "    </tr>\n",
       "    <tr>\n",
       "      <th>4</th>\n",
       "      <td>' this happens to me ! it usually happens when...</td>\n",
       "      <td>[Se, Ti]</td>\n",
       "      <td>[Se, Ti]</td>\n",
       "    </tr>\n",
       "  </tbody>\n",
       "</table>\n",
       "</div>"
      ],
      "text/plain": [
       "                                        comment_text true_labels pred_labels\n",
       "0  ' thetechman if it ' s due to circumstances ? ...    [Se, Ti]    [Se, Ti]\n",
       "1  ' also , try going for community college for t...    [Ne, Ti]    [Ne, Ti]\n",
       "2  ' i have had problems with him all my life . p...    [Ne, Ti]    [Ne, Ti]\n",
       "3  ' but for various reasons taylor swift ' s rel...    [Ne, Ti]    [Ni, Fe]\n",
       "4  ' this happens to me ! it usually happens when...    [Se, Ti]    [Se, Ti]"
      ]
     },
     "execution_count": 42,
     "metadata": {
      "tags": []
     },
     "output_type": "execute_result"
    }
   ],
   "source": [
    "# Converting lists to df\n",
    "comparisons_df = pd.DataFrame({'comment_text': comment_texts, 'true_labels': true_label_texts, 'pred_labels':pred_label_texts})\n",
    "comparisons_df.to_csv('comparisons.csv')\n",
    "comparisons_df.head()"
   ]
  },
  {
   "cell_type": "code",
   "execution_count": 43,
   "metadata": {
    "colab": {
     "base_uri": "https://localhost:8080/",
     "height": 1000
    },
    "colab_type": "code",
    "id": "3mmuVi4sXvaq",
    "outputId": "50905868-7b50-4d90-bb06-acddef75a186"
   },
   "outputs": [
    {
     "data": {
      "text/html": [
       "<div>\n",
       "<style scoped>\n",
       "    .dataframe tbody tr th:only-of-type {\n",
       "        vertical-align: middle;\n",
       "    }\n",
       "\n",
       "    .dataframe tbody tr th {\n",
       "        vertical-align: top;\n",
       "    }\n",
       "\n",
       "    .dataframe thead th {\n",
       "        text-align: right;\n",
       "    }\n",
       "</style>\n",
       "<table border=\"1\" class=\"dataframe\">\n",
       "  <thead>\n",
       "    <tr style=\"text-align: right;\">\n",
       "      <th></th>\n",
       "      <th>comment_text</th>\n",
       "      <th>true_labels</th>\n",
       "      <th>pred_labels</th>\n",
       "    </tr>\n",
       "  </thead>\n",
       "  <tbody>\n",
       "    <tr>\n",
       "      <th>300</th>\n",
       "      <td>' dear ex - bff , you are an asshole . this se...</td>\n",
       "      <td>[Se, Ti]</td>\n",
       "      <td>[Se, Ti]</td>\n",
       "    </tr>\n",
       "    <tr>\n",
       "      <th>301</th>\n",
       "      <td>' thanks a lot you guys . i ' ve been wonderin...</td>\n",
       "      <td>[Se, Fi]</td>\n",
       "      <td>[Se, Fi]</td>\n",
       "    </tr>\n",
       "    <tr>\n",
       "      <th>302</th>\n",
       "      <td>' 1 . 2 . slytherin 3 . yes , jk has spoken ! ...</td>\n",
       "      <td>[Si, Fe]</td>\n",
       "      <td>[Si, Fe]</td>\n",
       "    </tr>\n",
       "    <tr>\n",
       "      <th>303</th>\n",
       "      <td>' well , he didn ' t appear toxic when i met h...</td>\n",
       "      <td>[Ni, Te]</td>\n",
       "      <td>[Ne, Ti]</td>\n",
       "    </tr>\n",
       "    <tr>\n",
       "      <th>304</th>\n",
       "      <td>' romance is great . romance isn ' t great whe...</td>\n",
       "      <td>[Si, Te]</td>\n",
       "      <td>[Si, Te]</td>\n",
       "    </tr>\n",
       "    <tr>\n",
       "      <th>305</th>\n",
       "      <td>' let ' s be detached together . : wink : ( i ...</td>\n",
       "      <td>[Si, Fe]</td>\n",
       "      <td>[Si, Fe]</td>\n",
       "    </tr>\n",
       "    <tr>\n",
       "      <th>306</th>\n",
       "      <td>' http : / / www . youtube . com / watch ? v =...</td>\n",
       "      <td>[Ne, Ti]</td>\n",
       "      <td>[Ne, Ti]</td>\n",
       "    </tr>\n",
       "    <tr>\n",
       "      <th>307</th>\n",
       "      <td>' i ’ m direct and straightforward to the poin...</td>\n",
       "      <td>[Si, Te]</td>\n",
       "      <td>[Si, Te]</td>\n",
       "    </tr>\n",
       "    <tr>\n",
       "      <th>308</th>\n",
       "      <td>' when your most common response to hey * name...</td>\n",
       "      <td>[Ni, Te]</td>\n",
       "      <td>[Ne, Ti]</td>\n",
       "    </tr>\n",
       "    <tr>\n",
       "      <th>309</th>\n",
       "      <td>' oh look ! my handwriting : ) http : / / i252...</td>\n",
       "      <td>[Ni, Fe]</td>\n",
       "      <td>[Ni, Fe]</td>\n",
       "    </tr>\n",
       "    <tr>\n",
       "      <th>310</th>\n",
       "      <td>' http : / / www . youtube . com / watch ? v =...</td>\n",
       "      <td>[Se, Fi]</td>\n",
       "      <td>[Se, Fi]</td>\n",
       "    </tr>\n",
       "    <tr>\n",
       "      <th>311</th>\n",
       "      <td>' i ' m an isfj , but whatevs . . . . 1 - - i ...</td>\n",
       "      <td>[Si, Fe]</td>\n",
       "      <td>[Si, Fe]</td>\n",
       "    </tr>\n",
       "    <tr>\n",
       "      <th>312</th>\n",
       "      <td>' i ' m exactly the same way ; 2 - 3 friends i...</td>\n",
       "      <td>[Si, Fe]</td>\n",
       "      <td>[Si, Fe]</td>\n",
       "    </tr>\n",
       "    <tr>\n",
       "      <th>313</th>\n",
       "      <td>' deleted thread , written while drunk . enfp ...</td>\n",
       "      <td>[Se, Ti]</td>\n",
       "      <td>[Se, Ti]</td>\n",
       "    </tr>\n",
       "    <tr>\n",
       "      <th>314</th>\n",
       "      <td>' https : / / www . youtube . com / watch ? v ...</td>\n",
       "      <td>[Se, Fi]</td>\n",
       "      <td>[Se, Fi]</td>\n",
       "    </tr>\n",
       "    <tr>\n",
       "      <th>315</th>\n",
       "      <td>' the thread has already probably moved on to ...</td>\n",
       "      <td>[Si, Fe]</td>\n",
       "      <td>[Si, Fe]</td>\n",
       "    </tr>\n",
       "    <tr>\n",
       "      <th>316</th>\n",
       "      <td>aries doesnt seem to fit me that well as a per...</td>\n",
       "      <td>[Se, Fi]</td>\n",
       "      <td>[Se, Fi]</td>\n",
       "    </tr>\n",
       "    <tr>\n",
       "      <th>317</th>\n",
       "      <td>i ' ll start . https : / / ifunny . co / fun /...</td>\n",
       "      <td>[Ni, Te]</td>\n",
       "      <td>[Ni, Te]</td>\n",
       "    </tr>\n",
       "    <tr>\n",
       "      <th>318</th>\n",
       "      <td>' according to my boyfriend , yes , are pretty...</td>\n",
       "      <td>[Si, Te]</td>\n",
       "      <td>[Si, Te]</td>\n",
       "    </tr>\n",
       "    <tr>\n",
       "      <th>319</th>\n",
       "      <td>' i hate small talk just get to the point , if...</td>\n",
       "      <td>[Se, Ti]</td>\n",
       "      <td>[Se, Ti]</td>\n",
       "    </tr>\n",
       "    <tr>\n",
       "      <th>320</th>\n",
       "      <td>daenerys targaryen . she never considers the p...</td>\n",
       "      <td>[Ni, Te]</td>\n",
       "      <td>[Ni, Te]</td>\n",
       "    </tr>\n",
       "    <tr>\n",
       "      <th>321</th>\n",
       "      <td>i had a friend that was an infp , he is loving...</td>\n",
       "      <td>[Ni, Te]</td>\n",
       "      <td>[Ni, Fe]</td>\n",
       "    </tr>\n",
       "    <tr>\n",
       "      <th>322</th>\n",
       "      <td>' bonds are overrated . what ' s worse , being...</td>\n",
       "      <td>[Se, Ti]</td>\n",
       "      <td>[Se, Ti]</td>\n",
       "    </tr>\n",
       "    <tr>\n",
       "      <th>323</th>\n",
       "      <td>' 8 months have passed since i last took a vis...</td>\n",
       "      <td>[Se, Ti]</td>\n",
       "      <td>[Se, Ti]</td>\n",
       "    </tr>\n",
       "    <tr>\n",
       "      <th>324</th>\n",
       "      <td>' so true ! ; ) it ' s not just you . . . it d...</td>\n",
       "      <td>[Ni, Fe]</td>\n",
       "      <td>[Ne, Fi]</td>\n",
       "    </tr>\n",
       "    <tr>\n",
       "      <th>325</th>\n",
       "      <td>' ah ! i understand now : ) i see , by rebel y...</td>\n",
       "      <td>[Se, Fi]</td>\n",
       "      <td>[Se, Fi]</td>\n",
       "    </tr>\n",
       "    <tr>\n",
       "      <th>326</th>\n",
       "      <td>' today at work i suddenly realize that this o...</td>\n",
       "      <td>[Se, Fi]</td>\n",
       "      <td>[Se, Fi]</td>\n",
       "    </tr>\n",
       "    <tr>\n",
       "      <th>327</th>\n",
       "      <td>' their are more sps but sj have higher qualit...</td>\n",
       "      <td>[Si, Fe]</td>\n",
       "      <td>[Si, Fe]</td>\n",
       "    </tr>\n",
       "    <tr>\n",
       "      <th>328</th>\n",
       "      <td>' masaru he ' s the leader , has a very strong...</td>\n",
       "      <td>[Ni, Fe]</td>\n",
       "      <td>[Ne, Fi]</td>\n",
       "    </tr>\n",
       "    <tr>\n",
       "      <th>329</th>\n",
       "      <td>' nicole , i ' m not going to trip with you , ...</td>\n",
       "      <td>[Ni, Fe]</td>\n",
       "      <td>[Ne, Fe]</td>\n",
       "    </tr>\n",
       "  </tbody>\n",
       "</table>\n",
       "</div>"
      ],
      "text/plain": [
       "                                          comment_text true_labels pred_labels\n",
       "300  ' dear ex - bff , you are an asshole . this se...    [Se, Ti]    [Se, Ti]\n",
       "301  ' thanks a lot you guys . i ' ve been wonderin...    [Se, Fi]    [Se, Fi]\n",
       "302  ' 1 . 2 . slytherin 3 . yes , jk has spoken ! ...    [Si, Fe]    [Si, Fe]\n",
       "303  ' well , he didn ' t appear toxic when i met h...    [Ni, Te]    [Ne, Ti]\n",
       "304  ' romance is great . romance isn ' t great whe...    [Si, Te]    [Si, Te]\n",
       "305  ' let ' s be detached together . : wink : ( i ...    [Si, Fe]    [Si, Fe]\n",
       "306  ' http : / / www . youtube . com / watch ? v =...    [Ne, Ti]    [Ne, Ti]\n",
       "307  ' i ’ m direct and straightforward to the poin...    [Si, Te]    [Si, Te]\n",
       "308  ' when your most common response to hey * name...    [Ni, Te]    [Ne, Ti]\n",
       "309  ' oh look ! my handwriting : ) http : / / i252...    [Ni, Fe]    [Ni, Fe]\n",
       "310  ' http : / / www . youtube . com / watch ? v =...    [Se, Fi]    [Se, Fi]\n",
       "311  ' i ' m an isfj , but whatevs . . . . 1 - - i ...    [Si, Fe]    [Si, Fe]\n",
       "312  ' i ' m exactly the same way ; 2 - 3 friends i...    [Si, Fe]    [Si, Fe]\n",
       "313  ' deleted thread , written while drunk . enfp ...    [Se, Ti]    [Se, Ti]\n",
       "314  ' https : / / www . youtube . com / watch ? v ...    [Se, Fi]    [Se, Fi]\n",
       "315  ' the thread has already probably moved on to ...    [Si, Fe]    [Si, Fe]\n",
       "316  aries doesnt seem to fit me that well as a per...    [Se, Fi]    [Se, Fi]\n",
       "317  i ' ll start . https : / / ifunny . co / fun /...    [Ni, Te]    [Ni, Te]\n",
       "318  ' according to my boyfriend , yes , are pretty...    [Si, Te]    [Si, Te]\n",
       "319  ' i hate small talk just get to the point , if...    [Se, Ti]    [Se, Ti]\n",
       "320  daenerys targaryen . she never considers the p...    [Ni, Te]    [Ni, Te]\n",
       "321  i had a friend that was an infp , he is loving...    [Ni, Te]    [Ni, Fe]\n",
       "322  ' bonds are overrated . what ' s worse , being...    [Se, Ti]    [Se, Ti]\n",
       "323  ' 8 months have passed since i last took a vis...    [Se, Ti]    [Se, Ti]\n",
       "324  ' so true ! ; ) it ' s not just you . . . it d...    [Ni, Fe]    [Ne, Fi]\n",
       "325  ' ah ! i understand now : ) i see , by rebel y...    [Se, Fi]    [Se, Fi]\n",
       "326  ' today at work i suddenly realize that this o...    [Se, Fi]    [Se, Fi]\n",
       "327  ' their are more sps but sj have higher qualit...    [Si, Fe]    [Si, Fe]\n",
       "328  ' masaru he ' s the leader , has a very strong...    [Ni, Fe]    [Ne, Fi]\n",
       "329  ' nicole , i ' m not going to trip with you , ...    [Ni, Fe]    [Ne, Fe]"
      ]
     },
     "execution_count": 43,
     "metadata": {
      "tags": []
     },
     "output_type": "execute_result"
    }
   ],
   "source": [
    "comparisons_df[300:330]"
   ]
  },
  {
   "cell_type": "markdown",
   "metadata": {
    "colab_type": "text",
    "id": "PWFd18u3zlF8"
   },
   "source": [
    "### Optimizing threshold value for micro F1 score"
   ]
  },
  {
   "cell_type": "markdown",
   "metadata": {
    "colab_type": "text",
    "id": "c6mDy1lw0S4y"
   },
   "source": [
    "Doing this may result in a trade offs between precision, flat accuracy and micro F1 accuracy. You may tune the threshold however you want."
   ]
  },
  {
   "cell_type": "code",
   "execution_count": 45,
   "metadata": {
    "colab": {
     "base_uri": "https://localhost:8080/",
     "height": 372
    },
    "colab_type": "code",
    "id": "NPvVIFazmTC5",
    "outputId": "ecf2cfda-38db-4cc8-e649-4a73ba42b9c0"
   },
   "outputs": [
    {
     "name": "stdout",
     "output_type": "stream",
     "text": [
      "Best Threshold:  0.7\n",
      "Test F1 Score:  0.8393434147602429\n",
      "Test Accuracy:  0.7619641076769691\n",
      "              precision    recall  f1-score   support\n",
      "\n",
      "          Ne       0.72      0.68      0.70       952\n",
      "          Ni       0.78      0.69      0.74      1036\n",
      "          Se       0.98      0.98      0.98      1037\n",
      "          Si       0.99      1.00      0.99       987\n",
      "          Fi       0.81      0.73      0.77      1007\n",
      "          Fe       0.87      0.76      0.81      1023\n",
      "          Ti       0.87      0.77      0.81       982\n",
      "          Te       0.92      0.87      0.89      1000\n",
      "\n",
      "   micro avg       0.87      0.81      0.84      8024\n",
      "   macro avg       0.87      0.81      0.84      8024\n",
      "weighted avg       0.87      0.81      0.84      8024\n",
      " samples avg       0.84      0.81      0.82      8024\n",
      "\n"
     ]
    }
   ],
   "source": [
    "# Calculate Accuracy - maximize F1 accuracy by tuning threshold values. First with 'macro_thresholds' on the order of e^-1 then with 'micro_thresholds' on the order of e^-2\n",
    "\n",
    "macro_thresholds = np.array(range(1,10))/10\n",
    "\n",
    "f1_results, acc_results = [], []\n",
    "for th in macro_thresholds:\n",
    "  pred_bools = [pl>th for pl in pred_labels]\n",
    "  test_f1_score = f1_score(true_bools,pred_bools,average='micro')\n",
    "  test_accuracy = accuracy_score(true_bools, pred_bools)\n",
    "  f1_results.append(test_f1_score)\n",
    "  acc_results.append(test_accuracy)\n",
    "  \n",
    "\n",
    "best_macro_th = macro_thresholds[np.argmax(f1_results)] #best macro threshold value\n",
    "\n",
    "micro_thresholds = (np.array(range(10))/100)+best_macro_th #calculating micro threshold values\n",
    "\n",
    "f1_results, acc_results = [], []\n",
    "for th in micro_thresholds:\n",
    "  pred_bools = [pl>th for pl in pred_labels]\n",
    "  test_f1_score = f1_score(true_bools,pred_bools,average='micro')\n",
    "  test_accuracy = accuracy_score(true_bools, pred_bools)\n",
    "  f1_results.append(test_f1_score)\n",
    "  acc_results.append(test_accuracy)\n",
    "\n",
    "best_f1_idx = np.argmax(f1_results) #best threshold value\n",
    "\n",
    "# Printing and saving classification report\n",
    "print('Best Threshold: ', micro_thresholds[best_f1_idx])\n",
    "print('Test F1 Score: ', f1_results[best_f1_idx])\n",
    "print('Test Accuracy: ', acc_results[best_f1_idx])\n",
    "\n",
    "best_pred_bools = [pl>micro_thresholds[best_f1_idx] for pl in pred_labels]\n",
    "clf_report_optimized = classification_report(true_bools,best_pred_bools, target_names=label_cols)\n",
    "pickle.dump(clf_report_optimized, open('classification_report_optimized.txt','wb'))\n",
    "print(clf_report_optimized)"
   ]
  },
  {
   "cell_type": "markdown",
   "metadata": {
    "colab_type": "text",
    "id": "EXMjP3OCa2fI"
   },
   "source": [
    "Now, let's compare these results with those of MLkNN and CNN which were the best performing models in their respective categories:"
   ]
  },
  {
   "cell_type": "code",
   "execution_count": 50,
   "metadata": {
    "colab": {
     "base_uri": "https://localhost:8080/",
     "height": 319
    },
    "colab_type": "code",
    "id": "Hh-I9RC8mjFT",
    "outputId": "b8f4666f-3183-4111-ab0e-39ee67f8b23f"
   },
   "outputs": [
    {
     "name": "stdout",
     "output_type": "stream",
     "text": [
      "              precision    recall  f1-score   support\n",
      "\n",
      "          Ne       0.23      0.46      0.30       952\n",
      "          Ni       0.26      0.34      0.29      1036\n",
      "          Se       0.23      0.09      0.13      1037\n",
      "          Si       0.23      0.06      0.10       987\n",
      "          Fi       0.27      0.36      0.31      1007\n",
      "          Fe       0.27      0.26      0.26      1023\n",
      "          Ti       0.27      0.28      0.27       982\n",
      "          Te       0.24      0.16      0.19      1000\n",
      "\n",
      "   micro avg       0.25      0.25      0.25      8024\n",
      "   macro avg       0.25      0.25      0.23      8024\n",
      "weighted avg       0.25      0.25      0.23      8024\n",
      " samples avg       0.25      0.25      0.25      8024\n",
      "\n"
     ]
    }
   ],
   "source": [
    "X_train = np.array(X_train)\n",
    "y_train = np.array(y_train)\n",
    "\n",
    "mlknn_classifier = MLkNN(k=1, s=0.5)\n",
    "mlknn_classifier.fit(X_train, y_train)\n",
    "mlknn_pred = mlknn_classifier.predict(X_test)\n",
    "print(classification_report(y_test,mlknn_pred, target_names=label_cols))"
   ]
  },
  {
   "cell_type": "code",
   "execution_count": 94,
   "metadata": {
    "colab": {
     "base_uri": "https://localhost:8080/",
     "height": 319
    },
    "colab_type": "code",
    "id": "LOEHSGM8ic0t",
    "outputId": "cc1fcdeb-53a3-4db6-b0f6-8d74d56b6e91"
   },
   "outputs": [
    {
     "name": "stdout",
     "output_type": "stream",
     "text": [
      "Epoch 1/20\n",
      "377/377 [==============================] - 3s 8ms/step - loss: 4.1182 - categorical_accuracy: 0.1507 - f1_m: 0.3513 - val_loss: 3.9329 - val_categorical_accuracy: 0.2845 - val_f1_m: 0.2534 - lr: 0.0010\n",
      "Epoch 2/20\n",
      "377/377 [==============================] - 3s 7ms/step - loss: 3.3450 - categorical_accuracy: 0.3740 - f1_m: 0.0800 - val_loss: 2.9987 - val_categorical_accuracy: 0.4086 - val_f1_m: 0.0116 - lr: 0.0010\n",
      "Epoch 3/20\n",
      "377/377 [==============================] - 3s 7ms/step - loss: 2.5592 - categorical_accuracy: 0.4430 - f1_m: 0.0225 - val_loss: 2.7916 - val_categorical_accuracy: 0.4682 - val_f1_m: 0.0233 - lr: 0.0010\n",
      "Epoch 4/20\n",
      "377/377 [==============================] - 3s 7ms/step - loss: 2.1514 - categorical_accuracy: 0.4758 - f1_m: 0.0705 - val_loss: 2.7745 - val_categorical_accuracy: 0.5293 - val_f1_m: 0.1270 - lr: 0.0010\n",
      "Epoch 5/20\n",
      "377/377 [==============================] - 3s 7ms/step - loss: 1.8850 - categorical_accuracy: 0.5052 - f1_m: 0.1719 - val_loss: 2.8802 - val_categorical_accuracy: 0.5495 - val_f1_m: 0.2512 - lr: 0.0010\n",
      "Epoch 6/20\n",
      "377/377 [==============================] - 3s 7ms/step - loss: 1.7346 - categorical_accuracy: 0.5304 - f1_m: 0.2770 - val_loss: 2.9769 - val_categorical_accuracy: 0.5448 - val_f1_m: 0.3749 - lr: 0.0010\n",
      "Epoch 7/20\n",
      "377/377 [==============================] - 3s 7ms/step - loss: 1.6470 - categorical_accuracy: 0.5482 - f1_m: 0.3668 - val_loss: 3.1473 - val_categorical_accuracy: 0.5687 - val_f1_m: 0.4578 - lr: 0.0010\n",
      "Epoch 8/20\n",
      "377/377 [==============================] - 3s 7ms/step - loss: 1.5934 - categorical_accuracy: 0.5669 - f1_m: 0.4376 - val_loss: 3.2247 - val_categorical_accuracy: 0.5844 - val_f1_m: 0.5018 - lr: 0.0010\n"
     ]
    }
   ],
   "source": [
    "from tensorflow.keras.layers import Dropout, GlobalMaxPool1D, Dense, Activation, Conv1D, LSTM, Embedding\n",
    "\n",
    "cnn_model = tf.keras.Sequential()\n",
    "cnn_model.add(Embedding(vocab_size, 20, input_length=100))\n",
    "cnn_model.add(Dropout(0.1))\n",
    "cnn_model.add(Conv1D(300, 3, padding='valid', activation='relu', strides=1, kernel_constraint=max_norm()))\n",
    "cnn_model.add(GlobalMaxPool1D())\n",
    "cnn_model.add(Dense(8))\n",
    "cnn_model.add(Activation('sigmoid'))\n",
    "\n",
    "cnn_model.compile(optimizer='adam', loss='categorical_crossentropy', metrics=['categorical_accuracy', f1_m])\n",
    "\n",
    "callbacks = [\n",
    "      ReduceLROnPlateau(),\n",
    "      EarlyStopping(patience=4),\n",
    "      ModelCheckpoint(filepath='model-conv1d.h5', save_best_only=True)]\n",
    "\n",
    "cnn_model.fit(X_train, y_train,\n",
    "                      epochs=20,\n",
    "                      batch_size=32,\n",
    "                      validation_split = 0.25,\n",
    "                      callbacks=callbacks)\n",
    "\n",
    "cnn_pred = cnn_model.predict(X_test)"
   ]
  },
  {
   "cell_type": "code",
   "execution_count": 148,
   "metadata": {
    "colab": {},
    "colab_type": "code",
    "id": "XlE-BT_zz2gh"
   },
   "outputs": [],
   "source": [
    "# Process CNN prediction data for use in classification_report\n",
    "\n",
    "rounded_pred = np.zeros((cnn_pred.shape))\n",
    "rounded_pred = rounded_pred.tolist()\n",
    "\n",
    "for row in range(len(cnn_pred)):\n",
    "  for i in cnn_pred[row]:\n",
    "    row_minus_max = []\n",
    "\n",
    "    rounded_pred[row][np.where(cnn_pred[row] == max(cnn_pred[row]))[0][0]] = float(1)\n",
    "\n",
    "    for i in cnn_pred[row]:\n",
    "      if i != max(cnn_pred[row]):\n",
    "        row_minus_max.append(i)\n",
    "    rounded_pred[row][np.where(row_minus_max == max(row_minus_max))[0][0]] = float(1)"
   ]
  },
  {
   "cell_type": "code",
   "execution_count": 154,
   "metadata": {
    "colab": {
     "base_uri": "https://localhost:8080/",
     "height": 319
    },
    "colab_type": "code",
    "id": "CJWMmGhh2Nnj",
    "outputId": "4da24179-1816-4e0b-d050-4701de52cc48"
   },
   "outputs": [
    {
     "name": "stdout",
     "output_type": "stream",
     "text": [
      "              precision    recall  f1-score   support\n",
      "\n",
      "          Ne       0.66      0.66      0.66       952\n",
      "          Ni       0.69      0.69      0.69      1036\n",
      "          Se       0.93      0.97      0.95      1037\n",
      "          Si       0.60      1.00      0.75       987\n",
      "          Fi       0.28      0.25      0.26      1007\n",
      "          Fe       0.31      0.30      0.31      1023\n",
      "          Ti       0.26      0.26      0.26       982\n",
      "          Te       0.80      0.25      0.39      1000\n",
      "\n",
      "   micro avg       0.56      0.55      0.55      8024\n",
      "   macro avg       0.56      0.55      0.53      8024\n",
      "weighted avg       0.57      0.55      0.53      8024\n",
      " samples avg       0.56      0.55      0.55      8024\n",
      "\n"
     ]
    }
   ],
   "source": [
    "print(classification_report(y_test,rounded_pred, target_names=label_cols))"
   ]
  },
  {
   "cell_type": "markdown",
   "metadata": {
    "colab_type": "text",
    "id": "iKcnIbYD-I8a"
   },
   "source": [
    "BERT returns superior precision, recall, and F1 scores in predicting each cognitive function, thus making it the optimal classifier in this case."
   ]
  }
 ],
 "metadata": {
  "accelerator": "GPU",
  "colab": {
   "collapsed_sections": [],
   "machine_shape": "hm",
   "name": "Cognitive Functions Classification Project",
   "provenance": []
  },
  "kernelspec": {
   "display_name": "Python 3",
   "language": "python",
   "name": "python3"
  },
  "language_info": {
   "codemirror_mode": {
    "name": "ipython",
    "version": 3
   },
   "file_extension": ".py",
   "mimetype": "text/x-python",
   "name": "python",
   "nbconvert_exporter": "python",
   "pygments_lexer": "ipython3",
   "version": "3.7.4"
  },
  "widgets": {
   "application/vnd.jupyter.widget-state+json": {
    "0dcb8628d231434988df138330f78355": {
     "model_module": "@jupyter-widgets/base",
     "model_name": "LayoutModel",
     "state": {
      "_model_module": "@jupyter-widgets/base",
      "_model_module_version": "1.2.0",
      "_model_name": "LayoutModel",
      "_view_count": null,
      "_view_module": "@jupyter-widgets/base",
      "_view_module_version": "1.2.0",
      "_view_name": "LayoutView",
      "align_content": null,
      "align_items": null,
      "align_self": null,
      "border": null,
      "bottom": null,
      "display": null,
      "flex": null,
      "flex_flow": null,
      "grid_area": null,
      "grid_auto_columns": null,
      "grid_auto_flow": null,
      "grid_auto_rows": null,
      "grid_column": null,
      "grid_gap": null,
      "grid_row": null,
      "grid_template_areas": null,
      "grid_template_columns": null,
      "grid_template_rows": null,
      "height": null,
      "justify_content": null,
      "justify_items": null,
      "left": null,
      "margin": null,
      "max_height": null,
      "max_width": null,
      "min_height": null,
      "min_width": null,
      "object_fit": null,
      "object_position": null,
      "order": null,
      "overflow": null,
      "overflow_x": null,
      "overflow_y": null,
      "padding": null,
      "right": null,
      "top": null,
      "visibility": null,
      "width": null
     }
    },
    "16783d3fea394fe2ba5c26c075fc3048": {
     "model_module": "@jupyter-widgets/controls",
     "model_name": "ProgressStyleModel",
     "state": {
      "_model_module": "@jupyter-widgets/controls",
      "_model_module_version": "1.5.0",
      "_model_name": "ProgressStyleModel",
      "_view_count": null,
      "_view_module": "@jupyter-widgets/base",
      "_view_module_version": "1.2.0",
      "_view_name": "StyleView",
      "bar_color": null,
      "description_width": "initial"
     }
    },
    "2342b81815f14c09b0f9da6a7ad18065": {
     "model_module": "@jupyter-widgets/base",
     "model_name": "LayoutModel",
     "state": {
      "_model_module": "@jupyter-widgets/base",
      "_model_module_version": "1.2.0",
      "_model_name": "LayoutModel",
      "_view_count": null,
      "_view_module": "@jupyter-widgets/base",
      "_view_module_version": "1.2.0",
      "_view_name": "LayoutView",
      "align_content": null,
      "align_items": null,
      "align_self": null,
      "border": null,
      "bottom": null,
      "display": null,
      "flex": null,
      "flex_flow": null,
      "grid_area": null,
      "grid_auto_columns": null,
      "grid_auto_flow": null,
      "grid_auto_rows": null,
      "grid_column": null,
      "grid_gap": null,
      "grid_row": null,
      "grid_template_areas": null,
      "grid_template_columns": null,
      "grid_template_rows": null,
      "height": null,
      "justify_content": null,
      "justify_items": null,
      "left": null,
      "margin": null,
      "max_height": null,
      "max_width": null,
      "min_height": null,
      "min_width": null,
      "object_fit": null,
      "object_position": null,
      "order": null,
      "overflow": null,
      "overflow_x": null,
      "overflow_y": null,
      "padding": null,
      "right": null,
      "top": null,
      "visibility": null,
      "width": null
     }
    },
    "236291aadd744b1aa61cfb213101956c": {
     "model_module": "@jupyter-widgets/controls",
     "model_name": "DescriptionStyleModel",
     "state": {
      "_model_module": "@jupyter-widgets/controls",
      "_model_module_version": "1.5.0",
      "_model_name": "DescriptionStyleModel",
      "_view_count": null,
      "_view_module": "@jupyter-widgets/base",
      "_view_module_version": "1.2.0",
      "_view_name": "StyleView",
      "description_width": ""
     }
    },
    "3282c1ddcac247d6bc5e2249d22c5a02": {
     "model_module": "@jupyter-widgets/controls",
     "model_name": "ProgressStyleModel",
     "state": {
      "_model_module": "@jupyter-widgets/controls",
      "_model_module_version": "1.5.0",
      "_model_name": "ProgressStyleModel",
      "_view_count": null,
      "_view_module": "@jupyter-widgets/base",
      "_view_module_version": "1.2.0",
      "_view_name": "StyleView",
      "bar_color": null,
      "description_width": "initial"
     }
    },
    "349e71af60234086b5b91ed330eb49e7": {
     "model_module": "@jupyter-widgets/controls",
     "model_name": "ProgressStyleModel",
     "state": {
      "_model_module": "@jupyter-widgets/controls",
      "_model_module_version": "1.5.0",
      "_model_name": "ProgressStyleModel",
      "_view_count": null,
      "_view_module": "@jupyter-widgets/base",
      "_view_module_version": "1.2.0",
      "_view_name": "StyleView",
      "bar_color": null,
      "description_width": "initial"
     }
    },
    "420de59dc5884b22ab896cafaa915c2a": {
     "model_module": "@jupyter-widgets/controls",
     "model_name": "HBoxModel",
     "state": {
      "_dom_classes": [],
      "_model_module": "@jupyter-widgets/controls",
      "_model_module_version": "1.5.0",
      "_model_name": "HBoxModel",
      "_view_count": null,
      "_view_module": "@jupyter-widgets/controls",
      "_view_module_version": "1.5.0",
      "_view_name": "HBoxView",
      "box_style": "",
      "children": [
       "IPY_MODEL_4ef76e25bde049748bd87c6e6d008fb1",
       "IPY_MODEL_60dc985c51834f3389872c7af578a933"
      ],
      "layout": "IPY_MODEL_2342b81815f14c09b0f9da6a7ad18065"
     }
    },
    "441985bc12c4469fab4a63cf36210f4f": {
     "model_module": "@jupyter-widgets/controls",
     "model_name": "FloatProgressModel",
     "state": {
      "_dom_classes": [],
      "_model_module": "@jupyter-widgets/controls",
      "_model_module_version": "1.5.0",
      "_model_name": "FloatProgressModel",
      "_view_count": null,
      "_view_module": "@jupyter-widgets/controls",
      "_view_module_version": "1.5.0",
      "_view_name": "ProgressView",
      "bar_style": "success",
      "description": "Downloading: 100%",
      "description_tooltip": null,
      "layout": "IPY_MODEL_e3f5955dc66e4558a2dca1ec8e70ebfd",
      "max": 433,
      "min": 0,
      "orientation": "horizontal",
      "style": "IPY_MODEL_3282c1ddcac247d6bc5e2249d22c5a02",
      "value": 433
     }
    },
    "4e45ca918e8248d89d07073854e211ab": {
     "model_module": "@jupyter-widgets/controls",
     "model_name": "HBoxModel",
     "state": {
      "_dom_classes": [],
      "_model_module": "@jupyter-widgets/controls",
      "_model_module_version": "1.5.0",
      "_model_name": "HBoxModel",
      "_view_count": null,
      "_view_module": "@jupyter-widgets/controls",
      "_view_module_version": "1.5.0",
      "_view_name": "HBoxView",
      "box_style": "",
      "children": [
       "IPY_MODEL_9c035f5ee73b48bba5994da48cc925ac",
       "IPY_MODEL_924c94943f0b42ab85bb1ca83079809f"
      ],
      "layout": "IPY_MODEL_cd37dec43e0a41aab31c2933ec0aef62"
     }
    },
    "4ef76e25bde049748bd87c6e6d008fb1": {
     "model_module": "@jupyter-widgets/controls",
     "model_name": "FloatProgressModel",
     "state": {
      "_dom_classes": [],
      "_model_module": "@jupyter-widgets/controls",
      "_model_module_version": "1.5.0",
      "_model_name": "FloatProgressModel",
      "_view_count": null,
      "_view_module": "@jupyter-widgets/controls",
      "_view_module_version": "1.5.0",
      "_view_name": "ProgressView",
      "bar_style": "success",
      "description": "Downloading: 100%",
      "description_tooltip": null,
      "layout": "IPY_MODEL_d83c3cc9a05242448dfc6a3e02cb8a5f",
      "max": 231508,
      "min": 0,
      "orientation": "horizontal",
      "style": "IPY_MODEL_16783d3fea394fe2ba5c26c075fc3048",
      "value": 231508
     }
    },
    "60dc985c51834f3389872c7af578a933": {
     "model_module": "@jupyter-widgets/controls",
     "model_name": "HTMLModel",
     "state": {
      "_dom_classes": [],
      "_model_module": "@jupyter-widgets/controls",
      "_model_module_version": "1.5.0",
      "_model_name": "HTMLModel",
      "_view_count": null,
      "_view_module": "@jupyter-widgets/controls",
      "_view_module_version": "1.5.0",
      "_view_name": "HTMLView",
      "description": "",
      "description_tooltip": null,
      "layout": "IPY_MODEL_df5505d129884a929bcb960655748c2c",
      "placeholder": "​",
      "style": "IPY_MODEL_ee2ef92d81104c68a655f39652c99dbb",
      "value": " 232k/232k [00:00&lt;00:00, 1.05MB/s]"
     }
    },
    "672bfabaffa342248ec15f13358fb971": {
     "model_module": "@jupyter-widgets/controls",
     "model_name": "HTMLModel",
     "state": {
      "_dom_classes": [],
      "_model_module": "@jupyter-widgets/controls",
      "_model_module_version": "1.5.0",
      "_model_name": "HTMLModel",
      "_view_count": null,
      "_view_module": "@jupyter-widgets/controls",
      "_view_module_version": "1.5.0",
      "_view_name": "HTMLView",
      "description": "",
      "description_tooltip": null,
      "layout": "IPY_MODEL_f77d2529f562473eaa80cf0d5be8a706",
      "placeholder": "​",
      "style": "IPY_MODEL_236291aadd744b1aa61cfb213101956c",
      "value": " 433/433 [00:00&lt;00:00, 1.42kB/s]"
     }
    },
    "7ef34a030787430ba6e90e7e6f387cf3": {
     "model_module": "@jupyter-widgets/base",
     "model_name": "LayoutModel",
     "state": {
      "_model_module": "@jupyter-widgets/base",
      "_model_module_version": "1.2.0",
      "_model_name": "LayoutModel",
      "_view_count": null,
      "_view_module": "@jupyter-widgets/base",
      "_view_module_version": "1.2.0",
      "_view_name": "LayoutView",
      "align_content": null,
      "align_items": null,
      "align_self": null,
      "border": null,
      "bottom": null,
      "display": null,
      "flex": null,
      "flex_flow": null,
      "grid_area": null,
      "grid_auto_columns": null,
      "grid_auto_flow": null,
      "grid_auto_rows": null,
      "grid_column": null,
      "grid_gap": null,
      "grid_row": null,
      "grid_template_areas": null,
      "grid_template_columns": null,
      "grid_template_rows": null,
      "height": null,
      "justify_content": null,
      "justify_items": null,
      "left": null,
      "margin": null,
      "max_height": null,
      "max_width": null,
      "min_height": null,
      "min_width": null,
      "object_fit": null,
      "object_position": null,
      "order": null,
      "overflow": null,
      "overflow_x": null,
      "overflow_y": null,
      "padding": null,
      "right": null,
      "top": null,
      "visibility": null,
      "width": null
     }
    },
    "83ee9e4435af4b1e96f1033d1aa42f6e": {
     "model_module": "@jupyter-widgets/controls",
     "model_name": "DescriptionStyleModel",
     "state": {
      "_model_module": "@jupyter-widgets/controls",
      "_model_module_version": "1.5.0",
      "_model_name": "DescriptionStyleModel",
      "_view_count": null,
      "_view_module": "@jupyter-widgets/base",
      "_view_module_version": "1.2.0",
      "_view_name": "StyleView",
      "description_width": ""
     }
    },
    "924c94943f0b42ab85bb1ca83079809f": {
     "model_module": "@jupyter-widgets/controls",
     "model_name": "HTMLModel",
     "state": {
      "_dom_classes": [],
      "_model_module": "@jupyter-widgets/controls",
      "_model_module_version": "1.5.0",
      "_model_name": "HTMLModel",
      "_view_count": null,
      "_view_module": "@jupyter-widgets/controls",
      "_view_module_version": "1.5.0",
      "_view_name": "HTMLView",
      "description": "",
      "description_tooltip": null,
      "layout": "IPY_MODEL_7ef34a030787430ba6e90e7e6f387cf3",
      "placeholder": "​",
      "style": "IPY_MODEL_83ee9e4435af4b1e96f1033d1aa42f6e",
      "value": " 440M/440M [00:07&lt;00:00, 60.8MB/s]"
     }
    },
    "9c035f5ee73b48bba5994da48cc925ac": {
     "model_module": "@jupyter-widgets/controls",
     "model_name": "FloatProgressModel",
     "state": {
      "_dom_classes": [],
      "_model_module": "@jupyter-widgets/controls",
      "_model_module_version": "1.5.0",
      "_model_name": "FloatProgressModel",
      "_view_count": null,
      "_view_module": "@jupyter-widgets/controls",
      "_view_module_version": "1.5.0",
      "_view_name": "ProgressView",
      "bar_style": "success",
      "description": "Downloading: 100%",
      "description_tooltip": null,
      "layout": "IPY_MODEL_0dcb8628d231434988df138330f78355",
      "max": 440473133,
      "min": 0,
      "orientation": "horizontal",
      "style": "IPY_MODEL_349e71af60234086b5b91ed330eb49e7",
      "value": 440473133
     }
    },
    "a960cb38ccf3463ab4026ebfafcc9c8d": {
     "model_module": "@jupyter-widgets/controls",
     "model_name": "HBoxModel",
     "state": {
      "_dom_classes": [],
      "_model_module": "@jupyter-widgets/controls",
      "_model_module_version": "1.5.0",
      "_model_name": "HBoxModel",
      "_view_count": null,
      "_view_module": "@jupyter-widgets/controls",
      "_view_module_version": "1.5.0",
      "_view_name": "HBoxView",
      "box_style": "",
      "children": [
       "IPY_MODEL_441985bc12c4469fab4a63cf36210f4f",
       "IPY_MODEL_672bfabaffa342248ec15f13358fb971"
      ],
      "layout": "IPY_MODEL_bb7a23b8ea3d49b199cf789a493dc921"
     }
    },
    "bb7a23b8ea3d49b199cf789a493dc921": {
     "model_module": "@jupyter-widgets/base",
     "model_name": "LayoutModel",
     "state": {
      "_model_module": "@jupyter-widgets/base",
      "_model_module_version": "1.2.0",
      "_model_name": "LayoutModel",
      "_view_count": null,
      "_view_module": "@jupyter-widgets/base",
      "_view_module_version": "1.2.0",
      "_view_name": "LayoutView",
      "align_content": null,
      "align_items": null,
      "align_self": null,
      "border": null,
      "bottom": null,
      "display": null,
      "flex": null,
      "flex_flow": null,
      "grid_area": null,
      "grid_auto_columns": null,
      "grid_auto_flow": null,
      "grid_auto_rows": null,
      "grid_column": null,
      "grid_gap": null,
      "grid_row": null,
      "grid_template_areas": null,
      "grid_template_columns": null,
      "grid_template_rows": null,
      "height": null,
      "justify_content": null,
      "justify_items": null,
      "left": null,
      "margin": null,
      "max_height": null,
      "max_width": null,
      "min_height": null,
      "min_width": null,
      "object_fit": null,
      "object_position": null,
      "order": null,
      "overflow": null,
      "overflow_x": null,
      "overflow_y": null,
      "padding": null,
      "right": null,
      "top": null,
      "visibility": null,
      "width": null
     }
    },
    "cd37dec43e0a41aab31c2933ec0aef62": {
     "model_module": "@jupyter-widgets/base",
     "model_name": "LayoutModel",
     "state": {
      "_model_module": "@jupyter-widgets/base",
      "_model_module_version": "1.2.0",
      "_model_name": "LayoutModel",
      "_view_count": null,
      "_view_module": "@jupyter-widgets/base",
      "_view_module_version": "1.2.0",
      "_view_name": "LayoutView",
      "align_content": null,
      "align_items": null,
      "align_self": null,
      "border": null,
      "bottom": null,
      "display": null,
      "flex": null,
      "flex_flow": null,
      "grid_area": null,
      "grid_auto_columns": null,
      "grid_auto_flow": null,
      "grid_auto_rows": null,
      "grid_column": null,
      "grid_gap": null,
      "grid_row": null,
      "grid_template_areas": null,
      "grid_template_columns": null,
      "grid_template_rows": null,
      "height": null,
      "justify_content": null,
      "justify_items": null,
      "left": null,
      "margin": null,
      "max_height": null,
      "max_width": null,
      "min_height": null,
      "min_width": null,
      "object_fit": null,
      "object_position": null,
      "order": null,
      "overflow": null,
      "overflow_x": null,
      "overflow_y": null,
      "padding": null,
      "right": null,
      "top": null,
      "visibility": null,
      "width": null
     }
    },
    "d83c3cc9a05242448dfc6a3e02cb8a5f": {
     "model_module": "@jupyter-widgets/base",
     "model_name": "LayoutModel",
     "state": {
      "_model_module": "@jupyter-widgets/base",
      "_model_module_version": "1.2.0",
      "_model_name": "LayoutModel",
      "_view_count": null,
      "_view_module": "@jupyter-widgets/base",
      "_view_module_version": "1.2.0",
      "_view_name": "LayoutView",
      "align_content": null,
      "align_items": null,
      "align_self": null,
      "border": null,
      "bottom": null,
      "display": null,
      "flex": null,
      "flex_flow": null,
      "grid_area": null,
      "grid_auto_columns": null,
      "grid_auto_flow": null,
      "grid_auto_rows": null,
      "grid_column": null,
      "grid_gap": null,
      "grid_row": null,
      "grid_template_areas": null,
      "grid_template_columns": null,
      "grid_template_rows": null,
      "height": null,
      "justify_content": null,
      "justify_items": null,
      "left": null,
      "margin": null,
      "max_height": null,
      "max_width": null,
      "min_height": null,
      "min_width": null,
      "object_fit": null,
      "object_position": null,
      "order": null,
      "overflow": null,
      "overflow_x": null,
      "overflow_y": null,
      "padding": null,
      "right": null,
      "top": null,
      "visibility": null,
      "width": null
     }
    },
    "df5505d129884a929bcb960655748c2c": {
     "model_module": "@jupyter-widgets/base",
     "model_name": "LayoutModel",
     "state": {
      "_model_module": "@jupyter-widgets/base",
      "_model_module_version": "1.2.0",
      "_model_name": "LayoutModel",
      "_view_count": null,
      "_view_module": "@jupyter-widgets/base",
      "_view_module_version": "1.2.0",
      "_view_name": "LayoutView",
      "align_content": null,
      "align_items": null,
      "align_self": null,
      "border": null,
      "bottom": null,
      "display": null,
      "flex": null,
      "flex_flow": null,
      "grid_area": null,
      "grid_auto_columns": null,
      "grid_auto_flow": null,
      "grid_auto_rows": null,
      "grid_column": null,
      "grid_gap": null,
      "grid_row": null,
      "grid_template_areas": null,
      "grid_template_columns": null,
      "grid_template_rows": null,
      "height": null,
      "justify_content": null,
      "justify_items": null,
      "left": null,
      "margin": null,
      "max_height": null,
      "max_width": null,
      "min_height": null,
      "min_width": null,
      "object_fit": null,
      "object_position": null,
      "order": null,
      "overflow": null,
      "overflow_x": null,
      "overflow_y": null,
      "padding": null,
      "right": null,
      "top": null,
      "visibility": null,
      "width": null
     }
    },
    "e3f5955dc66e4558a2dca1ec8e70ebfd": {
     "model_module": "@jupyter-widgets/base",
     "model_name": "LayoutModel",
     "state": {
      "_model_module": "@jupyter-widgets/base",
      "_model_module_version": "1.2.0",
      "_model_name": "LayoutModel",
      "_view_count": null,
      "_view_module": "@jupyter-widgets/base",
      "_view_module_version": "1.2.0",
      "_view_name": "LayoutView",
      "align_content": null,
      "align_items": null,
      "align_self": null,
      "border": null,
      "bottom": null,
      "display": null,
      "flex": null,
      "flex_flow": null,
      "grid_area": null,
      "grid_auto_columns": null,
      "grid_auto_flow": null,
      "grid_auto_rows": null,
      "grid_column": null,
      "grid_gap": null,
      "grid_row": null,
      "grid_template_areas": null,
      "grid_template_columns": null,
      "grid_template_rows": null,
      "height": null,
      "justify_content": null,
      "justify_items": null,
      "left": null,
      "margin": null,
      "max_height": null,
      "max_width": null,
      "min_height": null,
      "min_width": null,
      "object_fit": null,
      "object_position": null,
      "order": null,
      "overflow": null,
      "overflow_x": null,
      "overflow_y": null,
      "padding": null,
      "right": null,
      "top": null,
      "visibility": null,
      "width": null
     }
    },
    "ee2ef92d81104c68a655f39652c99dbb": {
     "model_module": "@jupyter-widgets/controls",
     "model_name": "DescriptionStyleModel",
     "state": {
      "_model_module": "@jupyter-widgets/controls",
      "_model_module_version": "1.5.0",
      "_model_name": "DescriptionStyleModel",
      "_view_count": null,
      "_view_module": "@jupyter-widgets/base",
      "_view_module_version": "1.2.0",
      "_view_name": "StyleView",
      "description_width": ""
     }
    },
    "f77d2529f562473eaa80cf0d5be8a706": {
     "model_module": "@jupyter-widgets/base",
     "model_name": "LayoutModel",
     "state": {
      "_model_module": "@jupyter-widgets/base",
      "_model_module_version": "1.2.0",
      "_model_name": "LayoutModel",
      "_view_count": null,
      "_view_module": "@jupyter-widgets/base",
      "_view_module_version": "1.2.0",
      "_view_name": "LayoutView",
      "align_content": null,
      "align_items": null,
      "align_self": null,
      "border": null,
      "bottom": null,
      "display": null,
      "flex": null,
      "flex_flow": null,
      "grid_area": null,
      "grid_auto_columns": null,
      "grid_auto_flow": null,
      "grid_auto_rows": null,
      "grid_column": null,
      "grid_gap": null,
      "grid_row": null,
      "grid_template_areas": null,
      "grid_template_columns": null,
      "grid_template_rows": null,
      "height": null,
      "justify_content": null,
      "justify_items": null,
      "left": null,
      "margin": null,
      "max_height": null,
      "max_width": null,
      "min_height": null,
      "min_width": null,
      "object_fit": null,
      "object_position": null,
      "order": null,
      "overflow": null,
      "overflow_x": null,
      "overflow_y": null,
      "padding": null,
      "right": null,
      "top": null,
      "visibility": null,
      "width": null
     }
    }
   }
  }
 },
 "nbformat": 4,
 "nbformat_minor": 1
}
